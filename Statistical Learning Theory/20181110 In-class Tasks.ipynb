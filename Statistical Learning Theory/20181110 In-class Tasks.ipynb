{
 "cells": [
  {
   "cell_type": "markdown",
   "metadata": {},
   "source": [
    "# In Class Tasks\n",
    "\n",
    "Dmitry Donetskov"
   ]
  },
  {
   "cell_type": "markdown",
   "metadata": {},
   "source": [
    "# Task 1\n",
    "\n",
    "How to reverse a string with the stack?\n",
    "\n",
    "**Solution**\n",
    "\n",
    "We need to push characters of a string to the stack and pop them back. Due to the stack's nature the characters will be returned in the reverse order to the original one."
   ]
  },
  {
   "cell_type": "code",
   "execution_count": 39,
   "metadata": {},
   "outputs": [],
   "source": [
    "# let's define the Stack class\n",
    "\n",
    "class Stack:\n",
    "    def __init__(self):\n",
    "        self.items = []\n",
    "\n",
    "    def isEmpty(self):\n",
    "        return self.items == []\n",
    "\n",
    "    def push(self, item):\n",
    "        self.items.append(item)\n",
    "\n",
    "    def pop(self):\n",
    "        return self.items.pop()\n",
    "\n",
    "    def peek(self):\n",
    "        return self.items[len(self.items)-1]\n",
    "\n",
    "    def size(self):\n",
    "        return len(self.items)"
   ]
  },
  {
   "cell_type": "code",
   "execution_count": 40,
   "metadata": {},
   "outputs": [
    {
     "name": "stdout",
     "output_type": "stream",
     "text": [
      "Original message: This is a test message\n",
      "Reversed message: egassem tset a si sihT\n"
     ]
    }
   ],
   "source": [
    "st = Stack()\n",
    "\n",
    "msg = 'This is a test message'\n",
    "\n",
    "# pushing a message (list of characters) to the stack\n",
    "for c in msg:\n",
    "    st.push(c)\n",
    "    \n",
    "# this is a temporary list to collect the characters from the stack\n",
    "l = []\n",
    "\n",
    "# popping back the characters\n",
    "while not st.isEmpty():\n",
    "    l.append(st.pop())\n",
    "\n",
    "msg_reversed = ''.join(l)\n",
    "    \n",
    "print('Original message: %s' % msg)\n",
    "print('Reversed message: %s' % msg_reversed)"
   ]
  },
  {
   "cell_type": "markdown",
   "metadata": {},
   "source": [
    "# Task 2 'Poisoned Wine'\n",
    "\n",
    "There are $m$=10 rabbits and $n$=1000 bottles of wine, one and only one of which is poisoined. It takes one day for a rabbit to die if it consumes the poisoned wine. What would be an algorithm which gives the minimal numbers of days to identify the bottle of poisoined wine?\n",
    "\n",
    "The bottle if opened is considered to have consumed by a rabbit completely.\n",
    "\n",
    "**Solution 1**\n",
    "\n",
    "We can divide all $n$ bottles into $m$ parts and iterate with one rabbit through each part. That gives $\\frac{n}{m}$ days (rounded to the upper integer limit).\n",
    "\n",
    "**Solution 2 (?)**\n",
    "\n",
    "I am really stuck with optimising it further if we can't give a rabbit content of several bottles at once. If we were allowed, we could give each rabbit a mix from $\\frac{n}{m}$ bottles (each rabbit will receive a mix from different set of bottles). The mixes are prepared as such that there is always something left in the bottles. One rabbit will die, we'll continue feeding the rest from only that subset of bottles, dividing it each time between the rest of rabbits until it becomes clear which bottle is poisoned.\n",
    "\n",
    "**Solution 3**\n",
    "\n",
    "Code the bottles with the binary system. Give the rabbit number N the content of all those bottles which are coded with '1' in the digit N. On the next day, check what rabbits are dead and what are alive."
   ]
  },
  {
   "cell_type": "code",
   "execution_count": 20,
   "metadata": {},
   "outputs": [
    {
     "name": "stdout",
     "output_type": "stream",
     "text": [
      "4.938\n"
     ]
    }
   ],
   "source": [
    "# average number of bits\n",
    "ones = [format(i, '010b').count('1') for i in range(1, 1001)]\n",
    "print(sum(ones)/1000)"
   ]
  },
  {
   "cell_type": "code",
   "execution_count": 15,
   "metadata": {},
   "outputs": [
    {
     "data": {
      "text/plain": [
       "2"
      ]
     },
     "execution_count": 15,
     "metadata": {},
     "output_type": "execute_result"
    }
   ],
   "source": [
    "'0000001010'.count('1')"
   ]
  },
  {
   "cell_type": "code",
   "execution_count": null,
   "metadata": {},
   "outputs": [],
   "source": []
  }
 ],
 "metadata": {
  "kernelspec": {
   "display_name": "Python 3",
   "language": "python",
   "name": "python3"
  },
  "language_info": {
   "codemirror_mode": {
    "name": "ipython",
    "version": 3
   },
   "file_extension": ".py",
   "mimetype": "text/x-python",
   "name": "python",
   "nbconvert_exporter": "python",
   "pygments_lexer": "ipython3",
   "version": "3.7.1"
  }
 },
 "nbformat": 4,
 "nbformat_minor": 2
}
