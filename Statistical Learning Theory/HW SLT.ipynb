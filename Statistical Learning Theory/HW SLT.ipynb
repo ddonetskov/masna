{
 "cells": [
  {
   "cell_type": "markdown",
   "metadata": {},
   "source": [
    "# Homework on Statistical Learning Theory"
   ]
  },
  {
   "cell_type": "markdown",
   "metadata": {},
   "source": [
    "<b>Deadline:</b> 24.12.2018, 9 a.m. (there would be no soft deadline)\n",
    "\n",
    "<b>How to hang in?</b> You need to put your Jupyter Notebook to GitHub repo and send link in Telegram to <b>@CroCode</b>"
   ]
  },
  {
   "cell_type": "raw",
   "metadata": {},
   "source": [
    "Dmitry Donetskov"
   ]
  },
  {
   "cell_type": "markdown",
   "metadata": {},
   "source": [
    "### Block №1. Combinatorics and Probability Theory\n",
    "\n",
    "You can use LaTeX expressions in order to provide formulas: https://en.wikibooks.org/wiki/LaTeX"
   ]
  },
  {
   "cell_type": "markdown",
   "metadata": {},
   "source": [
    "1) In how many ways can the letters of the word PROBABILITY be rearranged such that all I’s and P’s appear in the middle?\n",
    "\n",
    "<b>Total:</b> 1 point"
   ]
  },
  {
   "cell_type": "code",
   "execution_count": 5,
   "metadata": {},
   "outputs": [],
   "source": [
    "# put your answer here"
   ]
  },
  {
   "cell_type": "markdown",
   "metadata": {
    "collapsed": true
   },
   "source": [
    "The word is of the length 11 with the 9 unique letters $S = \\{A,B,I,L,O,P,R,T,Y\\}$. The complete set is divided into two: $S_1 = S \\setminus \\{I,P\\} = \\{A,B,L,O,R,T,Y\\}$ and $S_2 = S \\setminus S_1 = \\{I,P\\}$. There are two instances of $B$ and $I$ therefore they can appear twice in different places of the arrangements. It looks like a task with a limited number of replacements for certain elements. We consider these elements as four distinct elements: $B_1$, $B_2$, $I_1$, $I_2$ and then apply a deduplication factor. Therefore, let's work with the sets $Q_1 = \\{A,B_1,B_2L,O,R,T,Y\\}$ and $Q_2 = \\{I_1,I_2,P\\}$.\n",
    "\n",
    "Let's define the *middle* as the positions 5-7 because there are three letters in total to occupy it (two 'I's one 'P'). All the letters in an arrangement can be separated into three groups:\n",
    "\n",
    "| Positions | Characteristics                                      | Number of Arrangments \n",
    "|-----------|:-----------------------------------------------------|-----------------------\n",
    "| 1 - 4     | arrangements of any available letter from $Q_1$      | $A^4_8$\n",
    "| 5 - 7     | arrangements of any available letter from $Q_2$      | $A^3_3$\n",
    "| 8 - 11    | arrangements of any of four letters left from $Q_1$  | $A^4_4$\n",
    "\n",
    "So, the total number of arrangements (with the duplicates!) is $A_8^4 \\times A^3_3 \\times A^4_4 $. Now, to cater for the duplicates, we need to divide that number by $2 \\times 2 = 4$, to remove the duplicates from the positions 1-4, 7-11, and the positions 5-7.\n",
    "\n",
    "The final answer is $\\frac{A_8^4 \\times A^3_3 \\times A^4_4}{2 \\times 2} = 60480$. "
   ]
  },
  {
   "cell_type": "code",
   "execution_count": 7,
   "metadata": {},
   "outputs": [
    {
     "name": "stdout",
     "output_type": "stream",
     "text": [
      "The length: 11, # unique letters: 9\n",
      "The frequency of letters\n",
      "A - 1\n",
      "B - 2\n",
      "I - 2\n",
      "L - 1\n",
      "O - 1\n",
      "P - 1\n",
      "R - 1\n",
      "T - 1\n",
      "Y - 1\n",
      "The number of arrangements (solution 1): 60480\n"
     ]
    }
   ],
   "source": [
    "word = 'PROBABILITY'\n",
    "letters = set(word)\n",
    "\n",
    "print('The length: %d, # unique letters: %d' % (len(word), len(letters)))\n",
    "print('The frequency of letters')\n",
    "for letter in sorted(list(letters)):\n",
    "    print('%s - %d' % (letter, word.count(letter)))\n",
    "\n",
    "arr_no = (8 * 7 * 6 * 5) * 3 * 2 * 1 * (4 * 3 * 2 * 1) / 4\n",
    "print('The number of arrangements (solution 1): %d' % arr_no)      "
   ]
  },
  {
   "cell_type": "markdown",
   "metadata": {},
   "source": [
    "2) The probability of having defect (at least 1 defective product) in batch of 100 products is 63.2%. Find the probability of having less than 3 defective products in such a batch.\n",
    "\n",
    "<i>Hint:</i> use idea of Poisson distribution (https://en.wikipedia.org/wiki/Poisson_distribution)\n",
    "\n",
    "<b>Total:</b> 1.5 points"
   ]
  },
  {
   "cell_type": "code",
   "execution_count": null,
   "metadata": {
    "collapsed": true
   },
   "outputs": [],
   "source": [
    "# put your answer here"
   ]
  },
  {
   "cell_type": "markdown",
   "metadata": {},
   "source": [
    "Let's define X as the number of defective product per the specified batch ($n=100$), it's a random variable. $P\\{X\\ge1\\} = 0.632$. It's required to find $P\\{X<3\\}$.\n",
    "\n",
    "To start with, we need to assume the distribution of X. According to the nature of the task, either the Binomial distribution or the Poisson distribution (given $n$ is large enough) look to be suitable.\n",
    "\n",
    "**The case of the Binomial distributon.**\n",
    "\n",
    "To specify the Binomial distribution, we need to find out the probability of getting a good product. It's possible to do that if we use the fact that \n",
    "\n",
    "$P\\{X=0\\} = 1 - P\\{X\\ge1\\} = 1 - 0.632$. \n",
    "\n",
    "Therefore, according to the Binomial PMF\n",
    "\n",
    "$1-0.632 = C^0_{100} \\times p^{100} \\times (1-p)^0 \\Rightarrow p = \\sqrt[100]{1-0.632}$\n",
    "\n",
    "If $X \\sim Bin(1-p, n)$, then $P\\{X<3\\} = \\sum_{k=0}^{2} P\\{X=k\\}$.\n",
    "\n",
    "According to the calculation below, $P\\{X<3\\}=0.921595$.\n",
    "\n",
    "**The case of the Poisson distributon.**\n",
    "\n",
    "To specify the Poisson distribution, we need to find out the lamba coeffiecient. According to the Poisson PMF, for $k = 0$\n",
    "\n",
    "$1-0.632 = e^{-\\lambda}\\frac{\\lambda^0}{0!} \\Rightarrow p = -\\ln(1-0.632).$\n",
    "\n",
    "If $X \\sim Poisson(\\lambda)$, then $P\\{X<3\\} = \\sum_{k=0}^{2} P\\{X=k\\}$.\n",
    "\n",
    "According to the calculation below, $P\\{X<3\\}=0.919759$."
   ]
  },
  {
   "cell_type": "code",
   "execution_count": 45,
   "metadata": {},
   "outputs": [
    {
     "name": "stdout",
     "output_type": "stream",
     "text": [
      "The Binomial distribution case\n",
      "The probability of getting a good product is 0.990053\n",
      "P{X >= 1} = 0.632000\n",
      "P{X <  3} = 0.921595\n",
      "\n",
      "The Poisson distribution case\n",
      "The lambda coeff. for the Possion distribution is 0.999672\n",
      "P{X >= 1} = 0.632000\n",
      "P{X <  3} = 0.919759\n"
     ]
    }
   ],
   "source": [
    "import math\n",
    "import scipy.stats as stats\n",
    "\n",
    "n = 100\n",
    "\n",
    "#\n",
    "# The exact solution with the Binomial distribution\n",
    "#\n",
    "\n",
    "print('The Binomial distribution case')\n",
    "\n",
    "# let's find the probability of getting a good product, it's required for the Binomial distribution\n",
    "p = (1-0.632) ** (1/n)\n",
    "print('The probability of getting a good product is %f' % p)\n",
    "\n",
    "# define a Binomial random variable\n",
    "Xb = stats.binom(n, 1-p)\n",
    "print('P{X >= 1} = %f' % sum([Xb.pmf(k) for k in range(1, n+1)]))\n",
    "print('P{X <  3} = %f' % sum([Xb.pmf(k) for k in range(3)]))\n",
    "\n",
    "print()\n",
    "\n",
    "#\n",
    "# The approximate solution with the Binomial distribution\n",
    "#\n",
    "\n",
    "print('The Poisson distribution case')\n",
    "\n",
    "lam = -math.log(1-0.632)\n",
    "print('The lambda coeff. for the Possion distribution is %f' % lam)\n",
    "\n",
    "# define a Poisson random variable\n",
    "Xp = stats.poisson(lam)\n",
    "print('P{X >= 1} = %f' % sum([Xp.pmf(k) for k in range(1, n+1)]))\n",
    "print('P{X <  3} = %f' % sum([Xp.pmf(k) for k in range(3)]))"
   ]
  },
  {
   "cell_type": "markdown",
   "metadata": {},
   "source": [
    "### Block №2. Data Structures and Algorithms\n",
    "\n",
    "<b><i>NB!</i></b> Here you need to provide solution having minimal memory and runtime complexity in terms of Big O notation."
   ]
  },
  {
   "cell_type": "markdown",
   "metadata": {},
   "source": [
    "3) Suggest an algorithm that resets all elements in the column <i>i</i> and the row <i>j</i> of the matrix M to zeros if the element in the <i>(i, j)</i> cell is zero. Provide solution having minimal memory and runtime complexity in terms of Big O notation.\n",
    "\n",
    "<b>Input:</b> matrix M\n",
    "\n",
    "<b>Output:</b> modified according to condition matrix M\n",
    "\n",
    "<b>Total:</b> 2 points"
   ]
  },
  {
   "cell_type": "code",
   "execution_count": null,
   "metadata": {},
   "outputs": [],
   "source": [
    "# put your code with comments here"
   ]
  },
  {
   "cell_type": "code",
   "execution_count": 46,
   "metadata": {},
   "outputs": [
    {
     "name": "stdout",
     "output_type": "stream",
     "text": [
      "Generated the matrix of the shape (20, 29) with 49 (8.45 pct) zero elements\n"
     ]
    }
   ],
   "source": [
    "# let's generate a matrix\n",
    "import random\n",
    "import numpy as np\n",
    "\n",
    "i = random.randint(1, 100)\n",
    "j = random.randint(1, 100)\n",
    "\n",
    "M = np.matrix(np.reshape(random.choices(population=range(10), k=i*j), (i, j)))\n",
    "\n",
    "print('Generated the matrix of the shape %s with %d (%2.2f pct) zero elements' %\n",
    "      (M.shape, (M == 0).sum(), 100*(M == 0).sum()/(i*j)))\n",
    "\n",
    "# go along the smallest dimension\n",
    "\n",
    "# check if there are any cells left to check for zero\n",
    "\n",
    "# Memory complexity: ...\n",
    "# Runtime complexity: ..."
   ]
  },
  {
   "cell_type": "code",
   "execution_count": null,
   "metadata": {},
   "outputs": [],
   "source": []
  },
  {
   "cell_type": "markdown",
   "metadata": {},
   "source": [
    "4) Imagine you have a square picture, each pixel of which can be black or white (you can interpret it as binary matrix). Develop an algorithm for finding the maximum sub-square consisting of only black pixels.\n",
    "\n",
    "<b>Input:</b> binary matrix M (contains only 0-1 elements)\n",
    "\n",
    "<b>Output:</b> <i>((a1, b1),(a2, b2))</i> where <i>(a1, b1)</i> and <i>(a2, b2)</i> stay for coordinates of upper-left and lower-right sub-square corners respectively\n",
    "\n",
    "<b>Total:</b> 2.5 points"
   ]
  },
  {
   "cell_type": "code",
   "execution_count": null,
   "metadata": {
    "collapsed": true
   },
   "outputs": [],
   "source": [
    "# put your code with comments here\n",
    "\n",
    "# Memory complexity: ...\n",
    "# Runtime complexity: ..."
   ]
  },
  {
   "cell_type": "markdown",
   "metadata": {},
   "source": [
    "5) Imagine series of integer numbers having only 3, 5 or 7 of some power in their factorization (i.e. 1, 3, 5, 7, 9, 15 etc.). Given k you're asked to return k-th number in this series.\n",
    "\n",
    "<i>Helpful link</i>: https://en.wikipedia.org/wiki/Fundamental_theorem_of_arithmetic\n",
    "\n",
    "<b>Input:</b> integer number k\n",
    "\n",
    "<b>Output:</b> k-th number of series\n",
    "\n",
    "<b>Total:</b> 3 points"
   ]
  },
  {
   "cell_type": "code",
   "execution_count": null,
   "metadata": {
    "collapsed": true
   },
   "outputs": [],
   "source": [
    "# put your code with comments here\n",
    "\n",
    "# Memory complexity: ...\n",
    "# Runtime complexity: ..."
   ]
  }
 ],
 "metadata": {
  "kernelspec": {
   "display_name": "Python 3",
   "language": "python",
   "name": "python3"
  },
  "language_info": {
   "codemirror_mode": {
    "name": "ipython",
    "version": 3
   },
   "file_extension": ".py",
   "mimetype": "text/x-python",
   "name": "python",
   "nbconvert_exporter": "python",
   "pygments_lexer": "ipython3",
   "version": "3.7.0"
  },
  "toc": {
   "base_numbering": 1,
   "nav_menu": {},
   "number_sections": true,
   "sideBar": true,
   "skip_h1_title": false,
   "title_cell": "Table of Contents",
   "title_sidebar": "Contents",
   "toc_cell": false,
   "toc_position": {},
   "toc_section_display": true,
   "toc_window_display": false
  },
  "varInspector": {
   "cols": {
    "lenName": 16,
    "lenType": 16,
    "lenVar": 40
   },
   "kernels_config": {
    "python": {
     "delete_cmd_postfix": "",
     "delete_cmd_prefix": "del ",
     "library": "var_list.py",
     "varRefreshCmd": "print(var_dic_list())"
    },
    "r": {
     "delete_cmd_postfix": ") ",
     "delete_cmd_prefix": "rm(",
     "library": "var_list.r",
     "varRefreshCmd": "cat(var_dic_list()) "
    }
   },
   "types_to_exclude": [
    "module",
    "function",
    "builtin_function_or_method",
    "instance",
    "_Feature"
   ],
   "window_display": false
  }
 },
 "nbformat": 4,
 "nbformat_minor": 2
}
