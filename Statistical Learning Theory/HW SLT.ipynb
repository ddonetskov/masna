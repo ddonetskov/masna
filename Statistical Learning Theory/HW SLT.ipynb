{
 "cells": [
  {
   "cell_type": "markdown",
   "metadata": {},
   "source": [
    "# Homework on Statistical Learning Theory"
   ]
  },
  {
   "cell_type": "markdown",
   "metadata": {},
   "source": [
    "<b>Deadline:</b> 24.12.2018, 9 a.m. (there would be no soft deadline)\n",
    "\n",
    "<b>How to hang in?</b> You need to put your Jupyter Notebook to GitHub repo and send link in Telegram to <b>@CroCode</b>"
   ]
  },
  {
   "cell_type": "markdown",
   "metadata": {},
   "source": [
    "Dmitry Donetskov"
   ]
  },
  {
   "cell_type": "markdown",
   "metadata": {},
   "source": [
    "# Block №1. Combinatorics and Probability Theory\n",
    "\n",
    "You can use LaTeX expressions in order to provide formulas: https://en.wikibooks.org/wiki/LaTeX"
   ]
  },
  {
   "cell_type": "markdown",
   "metadata": {},
   "source": [
    "## Task 1"
   ]
  },
  {
   "cell_type": "markdown",
   "metadata": {},
   "source": [
    "1) In how many ways can the letters of the word PROBABILITY be rearranged such that all I’s and P’s appear in the middle?\n",
    "\n",
    "<b>Total:</b> 1 point"
   ]
  },
  {
   "cell_type": "markdown",
   "metadata": {},
   "source": [
    "### Solution"
   ]
  },
  {
   "cell_type": "markdown",
   "metadata": {
    "collapsed": true
   },
   "source": [
    "The word is of the length 11 with the 9 unique letters $S = \\{A,B,I,L,O,P,R,T,Y\\}$. The complete set is divided into two: $S_1 = S \\setminus \\{I,P\\} = \\{A,B,L,O,R,T,Y\\}$ and $S_2 = S \\setminus S_1 = \\{I,P\\}$. There are two instances of $B$ and $I$ therefore they can appear twice in different places of the arrangements. It looks like a task with a limited number of replacements for certain elements and no replacements for the rest of elements. To make the task simplier, I consider the repeating elements as four distinct elements: $B_1$, $B_2$, $I_1$, $I_2$, calculate the number of arrangements and then apply the deduplication factor. Therefore, the sets to calcuate the number of arrangements over them are $Q_1 = \\{A,B_1,B_2L,O,R,T,Y\\}$ and $Q_2 = \\{I_1,I_2,P\\}$.\n",
    "\n",
    "Let's define the *middle* as the positions 5-7 because there are three letters in total to occupy it (two 'I's one 'P' i.e. with the elements from $Q_2$). All the letters in a complete arrangement can be separated into three groups:\n",
    "\n",
    "| Positions | Characteristics                                      | Number of Arrangments \n",
    "|-----------|:-----------------------------------------------------|-----------------------\n",
    "| 1 - 4     | arrangements of any available letter from $Q_1$      | $A^4_8$\n",
    "| 5 - 7     | arrangements of any available letter from $Q_2$      | $A^3_3$\n",
    "| 8 - 11    | arrangements of any of four letters left from $Q_1$  | $A^4_4$\n",
    "\n",
    "where $A^k_n = \\frac{n!}{(n-k)!}$.\n",
    "\n",
    "So, the total number of arrangements (with the duplicates!) is $A_8^4 \\times A^3_3 \\times A^4_4 $. Now, to cater for the duplicates, we need to divide that number by $2 \\times 2 = 4$, to remove the duplicates from the positions 1-4, 7-11, and the positions 5-7.\n",
    "\n",
    "The final answer is $\\frac{A_8^4 \\times A^3_3 \\times A^4_4}{2 \\times 2} = 60480$.\n",
    "\n",
    "Below, there is some code to support the calculations."
   ]
  },
  {
   "cell_type": "code",
   "execution_count": 1,
   "metadata": {},
   "outputs": [
    {
     "name": "stdout",
     "output_type": "stream",
     "text": [
      "The length: 11, # unique letters: 9\n",
      "The frequency of letters\n",
      "A - 1\n",
      "B - 2\n",
      "I - 2\n",
      "L - 1\n",
      "O - 1\n",
      "P - 1\n",
      "R - 1\n",
      "T - 1\n",
      "Y - 1\n",
      "The number of arrangements (solution 1): 60480\n"
     ]
    }
   ],
   "source": [
    "word = 'PROBABILITY'\n",
    "letters = set(word)\n",
    "\n",
    "print('The length: %d, # unique letters: %d' % (len(word), len(letters)))\n",
    "print('The frequency of letters')\n",
    "for letter in sorted(list(letters)):\n",
    "    print('%s - %d' % (letter, word.count(letter)))\n",
    "\n",
    "arr_no = (8 * 7 * 6 * 5) * 3 * 2 * 1 * (4 * 3 * 2 * 1) / 4\n",
    "print('The number of arrangements (solution 1): %d' % arr_no)      "
   ]
  },
  {
   "cell_type": "markdown",
   "metadata": {},
   "source": [
    "## Task 2"
   ]
  },
  {
   "cell_type": "markdown",
   "metadata": {},
   "source": [
    "2) The probability of having defect (at least 1 defective product) in batch of 100 products is 63.2%. Find the probability of having less than 3 defective products in such a batch.\n",
    "\n",
    "<i>Hint:</i> use idea of Poisson distribution (https://en.wikipedia.org/wiki/Poisson_distribution)\n",
    "\n",
    "<b>Total:</b> 1.5 points"
   ]
  },
  {
   "cell_type": "markdown",
   "metadata": {},
   "source": [
    "### Solution"
   ]
  },
  {
   "cell_type": "markdown",
   "metadata": {},
   "source": [
    "Let's define $X$ as the number of defective products per the batch ($n=100$), $X$ is a random variable. It is known that $P\\{X\\ge1\\} = 0.632$. \n",
    "\n",
    "It is required to find $P\\{X<3\\}$.\n",
    "\n",
    "According to the nature of the task, I assume the distribution of X as either the Binomial distribution or the Poisson one (given $n$ is large enough, more than 15-20). Also, it can be noted that the probability of getting *no* defective product is \n",
    "\n",
    "$$P\\{X=0\\} = 1 - P\\{X\\ge1\\} = 1 - 0.632 = 0.368$$\n",
    "\n",
    "Below, $P\\{X<3\\}$ is calculated using two different approaches.\n",
    "\n",
    "**The case of the Binomial distributon.**\n",
    "\n",
    "Let's assume $X \\sim Bin(p, n)$ where $p$ is the probability a randomly chosen product is a defective one. Then, according to the Binomial PMF and the data\n",
    "\n",
    "$$P_{X \\sim Bin(n=100,p)}\\{X=0\\} = C^0_{100} \\times p^{0} \\times (1-p)^{100} = (1-p)^{100} = 0.368 \\quad \\Rightarrow \\quad p = 1 - \\sqrt[100]{0.368} = 0.009947$$\n",
    "\n",
    "With this exact PMF, $P\\{X<3\\} = \\sum_{k=0}^{2} P_{X \\sim Bin(n=100,p=0.009947)}\\{X=k\\} = 0.921595$.\n",
    "\n",
    "**The case of the Poisson distributon.**\n",
    "\n",
    "Let's assume $X \\sim Poisson(\\lambda)$, then according to the Poisson PMF and the data, for $k = 0$\n",
    "\n",
    "$$P_{X \\sim Poisson(\\lambda)}\\{X=0\\} = e^{-\\lambda}\\frac{\\lambda^0}{0!} = e^{-\\lambda} = 0.368 \\quad \\Rightarrow \\quad \\lambda = -\\ln(0.368) = 0.999672$$\n",
    "\n",
    "With this exact PMF, $P\\{X<3\\} = \\sum_{k=0}^{2} P_{X \\sim Poisson(\\lambda=0.999672)}\\{X=k\\} = 0.919759$.\n",
    "\n",
    "There is the code below which was used to calculate the probabilities"
   ]
  },
  {
   "cell_type": "code",
   "execution_count": 2,
   "metadata": {},
   "outputs": [],
   "source": [
    "import math\n",
    "import scipy.stats as stats\n",
    "\n",
    "n = 100\n",
    "p0 = 1-0.632"
   ]
  },
  {
   "cell_type": "code",
   "execution_count": 3,
   "metadata": {},
   "outputs": [
    {
     "name": "stdout",
     "output_type": "stream",
     "text": [
      "The Binomial distribution case\n",
      "The probability of getting a defective / non-defective product is 0.009947 / 0.990053\n",
      "P{X >= 1} = 0.632000\n",
      "P{X <  3} = 0.921595\n",
      "\n"
     ]
    }
   ],
   "source": [
    "#\n",
    "# The exact solution with the Binomial distribution\n",
    "#\n",
    "\n",
    "print('The Binomial distribution case')\n",
    "\n",
    "# let's find the probability of getting a good product, it's required for the Binomial distribution\n",
    "p = 1 - p0 ** (1/n)\n",
    "print('The probability of getting a defective / non-defective product is %f / %f' % (p, 1-p))\n",
    "\n",
    "# define a Binomial random variable\n",
    "Xb = stats.binom(n, p)\n",
    "print('P{X >= 1} = %f' % sum([Xb.pmf(k) for k in range(1, n+1)]))\n",
    "print('P{X <  3} = %f' % sum([Xb.pmf(k) for k in range(3)]))\n",
    "\n",
    "print()"
   ]
  },
  {
   "cell_type": "code",
   "execution_count": 4,
   "metadata": {},
   "outputs": [
    {
     "name": "stdout",
     "output_type": "stream",
     "text": [
      "The Poisson distribution case\n",
      "The lambda coeff. for the Possion distribution is 0.999672\n",
      "P{X >= 1} = 0.632000\n",
      "P{X <  3} = 0.919759\n"
     ]
    }
   ],
   "source": [
    "#\n",
    "# The approximate solution with the Binomial distribution\n",
    "#\n",
    "\n",
    "print('The Poisson distribution case')\n",
    "\n",
    "lam = -math.log(p0)\n",
    "print('The lambda coeff. for the Possion distribution is %f' % lam)\n",
    "\n",
    "# define a Poisson random variable\n",
    "Xp = stats.poisson(lam)\n",
    "print('P{X >= 1} = %f' % sum([Xp.pmf(k) for k in range(1, n+1)]))\n",
    "print('P{X <  3} = %f' % sum([Xp.pmf(k) for k in range(3)]))"
   ]
  },
  {
   "cell_type": "markdown",
   "metadata": {},
   "source": [
    "# Block №2. Data Structures and Algorithms\n",
    "\n",
    "<b><i>NB!</i></b> Here you need to provide solution having minimal memory and runtime complexity in terms of Big O notation."
   ]
  },
  {
   "cell_type": "markdown",
   "metadata": {},
   "source": [
    "## Task 3"
   ]
  },
  {
   "cell_type": "markdown",
   "metadata": {},
   "source": [
    "3) Suggest an algorithm that resets all elements in the column <i>i</i> and the row <i>j</i> of the matrix M to zeros if the element in the <i>(i, j)</i> cell is zero. Provide solution having minimal memory and runtime complexity in terms of Big O notation.\n",
    "\n",
    "<b>Input:</b> matrix M\n",
    "\n",
    "<b>Output:</b> modified according to condition matrix M\n",
    "\n",
    "<b>Total:</b> 2 points"
   ]
  },
  {
   "cell_type": "markdown",
   "metadata": {},
   "source": [
    "### Solution"
   ]
  },
  {
   "cell_type": "markdown",
   "metadata": {},
   "source": [
    "One can note that replacing all values of a column and a row with zero makes inspecting any elements in that column and the row any further unnecessary as they are already zero. Let's use this handy property to build an algorythm.\n",
    "\n",
    "The algorythm scans through the matrix (by rows and by columns) and indicates those rows and columns which need to be set to zero. The indicators are kept as zero values in the first row and the first column of the matrix in the following manner:\n",
    "\n",
    "- the zero value in the first column means that this particular row needs to be replaced with zero,\n",
    "- the zero value in the first row except (0,0) means that this particular column needs to be replaced with zero.\n",
    "\n",
    "There is the exceptionm for (0,0) to remove the ambiguousness (is it for the column or for the row?):\n",
    "\n",
    "- the zero value at (0,0) is the indicator for the very first column itself,\n",
    "- if it appears the first column needs to be replaced with zero's, a separate indicator (a variable) is user for it.\n",
    "\n",
    "These indicators are used after the scan stage is completed to zero the necessary columns and rows.\n",
    "\n",
    "The code below defines the MyMatrix class which is used to test the algorythm. The class provides methods to generate a new matrix, report basic statistics about it and replace values in it with zeros according to the rule."
   ]
  },
  {
   "cell_type": "code",
   "execution_count": 5,
   "metadata": {},
   "outputs": [],
   "source": [
    "import math\n",
    "import numpy as np\n",
    "import random\n",
    "\n",
    "class MyMatrix():\n",
    "    \n",
    "    \"\"\"\n",
    "    Class to handle the matrix problem.\n",
    "    \n",
    "    The matrix handles only natural numbers by default.\n",
    "            \n",
    "    Attributes\n",
    "    ----------\n",
    "    nrows : int\n",
    "        Number of rows\n",
    "        \n",
    "    ncols : int\n",
    "        Number of colums\n",
    "    \"\"\"\n",
    "    \n",
    "    def __init__(self, data=None):\n",
    "        \n",
    "        \"\"\"\n",
    "            Create an empty instance, fill it with data if given.\n",
    "            \n",
    "        Parameters\n",
    "        ----------\n",
    "        data : two dimesional array\n",
    "            Data to used to initialized the matrix\n",
    "        \"\"\"\n",
    "        \n",
    "        if data == None:\n",
    "            self.M = None\n",
    "            self.nrows = None\n",
    "            self.ncols = None\n",
    "        else:        \n",
    "            self.M = np.matrix(data)\n",
    "            self.nrows = self.M.shape[0]\n",
    "            self.ncols = self.M.shape[1]           \n",
    "    \n",
    "    def generate(self, rows=10, cols=10, min_value=10, max_value=99, zeros_pct=10):\n",
    "        \n",
    "        \"\"\"\n",
    "        Generate a new matrix with random elements\n",
    "        \n",
    "        Parameters\n",
    "        -----------\n",
    "        rows : int, optional (default=10)\n",
    "            Number of rows\n",
    "\n",
    "        cols : int, optional (default=10)\n",
    "            Number of columns\n",
    "\n",
    "        min_value : int, optional (default=10)\n",
    "            The minimum value of an element, it's limited by a two-digit number by default to make the output be prettier\n",
    "\n",
    "        max_value : int, optional (default=99)\n",
    "            The maximum value of an element, it's limited by a two-digit number by default to make the output be prettier\n",
    "\n",
    "        zeros_pct : int, optional (default=10)\n",
    "            The percentage of zero elements (it's approximate)\n",
    "        \"\"\"\n",
    "        self.nrows = rows\n",
    "        self.ncols = cols\n",
    "\n",
    "        # generating the matrix, without any zero elements yet\n",
    "        self.M = np.matrix(np.reshape(random.choices(population=range(min_value, max_value), k=self.nrows*self.ncols), \n",
    "                                      (self.nrows, self.ncols)))\n",
    "        \n",
    "        # putting some zero elements into M\n",
    "        for k in range(math.ceil(zeros_pct*self.nrows*self.ncols/100)):\n",
    "            i = random.randint(1, self.nrows) - 1\n",
    "            j = random.randint(1, self.ncols) - 1\n",
    "            self.M[i,j] = 0\n",
    "        \n",
    "    def __repr__(self):\n",
    "\n",
    "        print('The matrix of the shape %s is' % str(self.M.shape))\n",
    "        print()\n",
    "        for i in range(self.nrows):\n",
    "            for j in range(self.ncols):\n",
    "                if self.M[i,j] != 0:\n",
    "                    print('%2d ' % self.M[i,j], end='')\n",
    "                else:\n",
    "                    #print('%2s ' % '\\U0001D7EC', end='')\n",
    "                    #print('%2s ' % '\\U0001f10b', end='')\n",
    "                    print('%2d ' % 0, end='')\n",
    "            print()\n",
    "            \n",
    "        print()\n",
    "        nzeros = self.nzeros()\n",
    "        print('Number of zero elements: %d (%2.2f pct)' %\n",
    "              (nzeros, 100*nzeros/(self.nrows*self.ncols)))\n",
    "        \n",
    "        return('')\n",
    "       \n",
    "    def nzeros(self):\n",
    "        \"\"\"\n",
    "        Get the number of zero elements\n",
    "        \"\"\"\n",
    "        return((self.M == 0).sum())\n",
    "    \n",
    "    def reset(self):\n",
    "        \"\"\"\n",
    "        Resets all elements in the column i and the row j to zeros if (i, j) is zero.\n",
    "        \n",
    "        Retuns\n",
    "        ------\n",
    "        The new matrix\n",
    "        \"\"\"\n",
    "        \n",
    "        # number of iterations\n",
    "        c = 0\n",
    "        \n",
    "        # scanning through the matrix, marking those rows and columns which need to be set to zero\n",
    "        # the marks are left in the first row and the first column of the matrix\n",
    "        # zero in the first column means that this row needs to be replaced with zero\n",
    "        # zero in the first row except [0,0] means that this column needs to be replaced with zero\n",
    "        \n",
    "        # zero in [0,0] is used as the mark for the very first column itself\n",
    "        # if it appears we need to zero the first column, a separate flag is user for it.\n",
    "\n",
    "        zero_first_column = False\n",
    "        \n",
    "        self.iter = 0\n",
    "        \n",
    "        for i in range(self.nrows):\n",
    "            \n",
    "            # if the first element of the row is zero, there is no need to scan the row further, \n",
    "            # as we'll just zero the whole row and the whole columns in the end\n",
    "            \n",
    "            self.iter = self.iter + 1\n",
    "            \n",
    "            if self.M[i,0] == 0:\n",
    "                zero_first_column = True\n",
    "                continue\n",
    "                \n",
    "            for j in range(self.ncols):\n",
    "                \n",
    "                self.iter = self.iter + 1\n",
    "                \n",
    "                if self.M[i,j] == 0:\n",
    "                    self.M[i,0] = 0\n",
    "                    self.M[0,j] = 0\n",
    "\n",
    "        # fill in with zero's the identified rows and columns\n",
    "\n",
    "        for j in range(1,self.ncols):\n",
    "            if self.M[0,j] == 0:\n",
    "                self.M[:,j] = 0\n",
    "        \n",
    "        for i in range(self.nrows):\n",
    "            if self.M[i,0] == 0:\n",
    "                self.M[i,:] = 0\n",
    "                \n",
    "        if zero_first_column:\n",
    "            self.M[:,0] = 0\n",
    "\n",
    "        # self.iter = self.iter + self.nrows*self.ncols\n",
    "        # print('Number of iterations is %d' % self.iter)\n",
    "                \n",
    "        return(self.M)"
   ]
  },
  {
   "cell_type": "markdown",
   "metadata": {},
   "source": [
    "The algorytm implementation is tested below with three cases: one common and two extreme ones."
   ]
  },
  {
   "cell_type": "code",
   "execution_count": 7,
   "metadata": {},
   "outputs": [
    {
     "name": "stdout",
     "output_type": "stream",
     "text": [
      "The matrix of the shape (16, 12) is\n",
      "\n",
      "27 41 81 31 12 11  0 12 88 26 35 27 \n",
      "61 80 13 49 60 10 31 82 21 16 63 54 \n",
      "70 89 81 14 51 90 44 36  0 27 84 65 \n",
      "56 23 98 71 95 75 81 63 82 95 42 39 \n",
      "73 45 61 82 84 54 66 17 82 47 51 91 \n",
      "89  0 85 30 67 89 39  0 90 61 13 71 \n",
      "14 53 80 54 37 79 23 18 94  0 83 75 \n",
      "12 20 37  0 89 12 79 46 19 72 45 65 \n",
      "71 87 36 53 63 69 60 12 87 22 94 81 \n",
      "96 78 30 33 47 34 48 26 92 82 64 62 \n",
      " 0 84 37 38 73 55 98 46 64 96 45 50 \n",
      "55 11 88 35 97 59 85 56 58 51 85 54 \n",
      "32 34 71 48 31 74 37 70 62 20 25 23 \n",
      "59 11 41 12 80 14 24 14 58 36 90 97 \n",
      "92 48 14 42 14 34 30  0 68 62 93 97 \n",
      "72 44 15 30 44 28 30 34 97  0 63 28 \n",
      "\n",
      "Number of zero elements: 9 (4.69 pct)\n",
      "\n",
      "The matrix of the shape (16, 12) is\n",
      "\n",
      " 0  0  0  0  0  0  0  0  0  0  0  0 \n",
      " 0  0 13  0 60 10  0  0  0  0 63 54 \n",
      " 0  0  0  0  0  0  0  0  0  0  0  0 \n",
      " 0  0 98  0 95 75  0  0  0  0 42 39 \n",
      " 0  0 61  0 84 54  0  0  0  0 51 91 \n",
      " 0  0  0  0  0  0  0  0  0  0  0  0 \n",
      " 0  0  0  0  0  0  0  0  0  0  0  0 \n",
      " 0  0  0  0  0  0  0  0  0  0  0  0 \n",
      " 0  0 36  0 63 69  0  0  0  0 94 81 \n",
      " 0  0 30  0 47 34  0  0  0  0 64 62 \n",
      " 0  0  0  0  0  0  0  0  0  0  0  0 \n",
      " 0  0 88  0 97 59  0  0  0  0 85 54 \n",
      " 0  0 71  0 31 74  0  0  0  0 25 23 \n",
      " 0  0 41  0 80 14  0  0  0  0 90 97 \n",
      " 0  0  0  0  0  0  0  0  0  0  0  0 \n",
      " 0  0  0  0  0  0  0  0  0  0  0  0 \n",
      "\n",
      "Number of zero elements: 152 (79.17 pct)\n",
      "\n"
     ]
    }
   ],
   "source": [
    "# Common Case\n",
    "M = MyMatrix()\n",
    "M.generate(rows=random.randint(8,16), cols=random.randint(8,16), zeros_pct=5)\n",
    "print(M)\n",
    "M.reset()\n",
    "print(M)"
   ]
  },
  {
   "cell_type": "code",
   "execution_count": 6,
   "metadata": {},
   "outputs": [
    {
     "name": "stdout",
     "output_type": "stream",
     "text": [
      "The matrix of the shape (10, 1) is\n",
      "\n",
      "97 \n",
      "17 \n",
      "56 \n",
      "31 \n",
      "46 \n",
      " 0 \n",
      "48 \n",
      "95 \n",
      "92 \n",
      "85 \n",
      "\n",
      "Number of zero elements: 1 (10.00 pct)\n",
      "\n",
      "The matrix of the shape (10, 1) is\n",
      "\n",
      " 0 \n",
      " 0 \n",
      " 0 \n",
      " 0 \n",
      " 0 \n",
      " 0 \n",
      " 0 \n",
      " 0 \n",
      " 0 \n",
      " 0 \n",
      "\n",
      "Number of zero elements: 10 (100.00 pct)\n",
      "\n"
     ]
    }
   ],
   "source": [
    "# Special case #1: one column matrix\n",
    "\n",
    "M = MyMatrix()\n",
    "M.generate(rows=random.randint(10,10), cols=random.randint(1,1), zeros_pct=5)\n",
    "print(M)\n",
    "M.reset()\n",
    "print(M)"
   ]
  },
  {
   "cell_type": "code",
   "execution_count": 8,
   "metadata": {},
   "outputs": [
    {
     "name": "stdout",
     "output_type": "stream",
     "text": [
      "The matrix of the shape (1, 10) is\n",
      "\n",
      "13 50 73 68 35 85  0 32 19 46 \n",
      "\n",
      "Number of zero elements: 1 (10.00 pct)\n",
      "\n",
      "The matrix of the shape (1, 10) is\n",
      "\n",
      " 0  0  0  0  0  0  0  0  0  0 \n",
      "\n",
      "Number of zero elements: 10 (100.00 pct)\n",
      "\n"
     ]
    }
   ],
   "source": [
    "# Special case #2: one row matrix\n",
    "\n",
    "M = MyMatrix()\n",
    "M.generate(rows=random.randint(1,1), cols=random.randint(10,10), zeros_pct=5)\n",
    "print(M)\n",
    "M.reset()\n",
    "print(M)"
   ]
  },
  {
   "cell_type": "markdown",
   "metadata": {},
   "source": [
    "#### Complexity\n",
    "\n",
    "The memory complexity is O(1) as only one additional variable is used.\n",
    "\n",
    "The runtime complexity is O(n\\*m) as the whole matrix is scanned (though with minor optimization for the first column)."
   ]
  },
  {
   "cell_type": "markdown",
   "metadata": {},
   "source": [
    "## Task 4"
   ]
  },
  {
   "cell_type": "markdown",
   "metadata": {},
   "source": [
    "4) Imagine you have a square picture, each pixel of which can be black or white (you can interpret it as binary matrix). Develop an algorithm for finding the maximum sub-square consisting of only black pixels.\n",
    "\n",
    "<b>Input:</b> binary matrix M (contains only 0-1 elements)\n",
    "\n",
    "<b>Output:</b> <i>((a1, b1),(a2, b2))</i> where <i>(a1, b1)</i> and <i>(a2, b2)</i> stay for coordinates of upper-left and lower-right sub-square corners respectively\n",
    "\n",
    "<b>Total:</b> 2.5 points"
   ]
  },
  {
   "cell_type": "markdown",
   "metadata": {},
   "source": [
    "### Solution"
   ]
  },
  {
   "cell_type": "markdown",
   "metadata": {},
   "source": [
    "There can be many sub-squares in the matrix. The plain solution would be to calculate the size of each sub-square (e.g. by iterating over all the elements of the matrix, and checking, for any specific cell (i,j), how far the square area to the right and to the bottom from  this cell is filled-in with '1', but that would call for the computing complexity as O(n*\\n\\*k) where k is proportional to the average size of sub-square.\n",
    "\n",
    "If we think a bit about the approach above, it can be noted that every cell is checked multiple times... but in the same meaning, that is if a cell can help to increase a sub-square being checked at the moment. Therefore, the optimization is to do that only once in the following manner:\n",
    "\n",
    "- create another matrix, let's name it S, it will keep the sizes of sub-squares,\n",
    "- every cell in S represents the size of a sub-square which spreads to the left and to the top; in other words, every cell in S represents the bottom right corner of a sub-square and keeps its size, and that size is just one number as they are *squares*,\n",
    "- initialize it with the copy of the original matrix, which essentially means we start with sub-squares of the size of a single cell,\n",
    "- iterate by rows and by columns, checking the value of every cell,\n",
    "- if the cell's value is 1, it potentially can help to grow a sub-square, then, considering the current cell's coordinates as (i,j), add to its value the minimum value of three neighboring cells: to the left (i,j-1), to the top (i-1,j) and by the diagonal towards the (0,0) (i-1,j-1), that'll be the size of sub-square which is represented by the cell (i,j),\n",
    "- after the scan phase is over, find the largest value in S, the coordinates of its cell are (a2,b2), subtracting the largest value from (a2,b2) will provide the coordinates (a1,b1).\n",
    "\n",
    "The code below implements the algorythm with the MySquare class. The class provides methods to generate a matrix, draw it and get coordinates for the largest sub-subsquare (the first one in case of multiple occurences).\n",
    "\n",
    "There are tests below for various cases. Each test case can be re-run as many times as required."
   ]
  },
  {
   "cell_type": "code",
   "execution_count": 9,
   "metadata": {},
   "outputs": [],
   "source": [
    "import math\n",
    "import numpy as np\n",
    "import random\n",
    "\n",
    "import matplotlib.pyplot as plt\n",
    "import seaborn as sns\n",
    "\n",
    "class MySquare():\n",
    "    \n",
    "    \"\"\"\n",
    "    Class to handle the square problem.\n",
    "    \n",
    "    Parameters\n",
    "    ----------\n",
    "    data : 2D-list, numpy ndarray or matrix\n",
    "        Data to create the matrix from\n",
    "    \n",
    "    n : int\n",
    "        Dimension of the square\n",
    "        \n",
    "    weights : list\n",
    "        proportion of 0 to 1 when randomly filling in the matrix\n",
    "    \"\"\"\n",
    "    \n",
    "    def __init__(self, data=None, n=10, weights=[1,4]):\n",
    "        \n",
    "        if data is None:\n",
    "            # generating the matrix, without any zero elements yet\n",
    "            self.M = np.matrix(np.reshape(random.choices(population=range(0, 2), weights=weights, k=n*n), (n, n)))\n",
    "        else:\n",
    "            M_tmp = np.matrix(data)\n",
    "            assert M_tmp.shape[0] == M_tmp.shape[1]\n",
    "            # assert M.shape[0] == M.shape[1]\n",
    "            self.M = M_tmp\n",
    "    \n",
    "    def desc(self, stats=True, content=False):\n",
    "\n",
    "        \"\"\"\n",
    "        Prints basic statistics.\n",
    "        \"\"\"\n",
    "\n",
    "        print('Dimension: %s, the number of ''0'': %d, the number of ''1'': %d.' % \n",
    "              (str(self.M.shape), (self.M == 0).sum(), (self.M == 1).sum()))\n",
    "              \n",
    "        if content:\n",
    "              \n",
    "            print()\n",
    "\n",
    "            chars = [' ', '\\u2588']\n",
    "\n",
    "            for i in range(self.M.shape[0]):\n",
    "                for j in range(self.M.shape[0]):\n",
    "                    print('%1s' % chars[self.M[i,j]], end='')\n",
    "                print()\n",
    "    \n",
    "    def draw(self):\n",
    "        \n",
    "        \"\"\"\n",
    "        Draw the matrix using matplotlib.\n",
    "        \"\"\"\n",
    "        \n",
    "        # trying to automatically adjust to the matrix size\n",
    "        n = self.M.shape[0]\n",
    "        \n",
    "        if n < 2:\n",
    "            print('The matrix is too small to be drawn, its content is %s.' % str(self.M))\n",
    "            return\n",
    "        \n",
    "        size = 2*math.log(n)\n",
    "        sns.set(rc={'figure.figsize':(size, size)})\n",
    "        \n",
    "        ax = sns.heatmap(self.M, center=0.4, square=True, cbar=False, cmap=sns.color_palette(\"ch:2.5,-.2,dark=.3\"))\n",
    "        #ax.set_xticklabels(labels=ax.get_xlabel(), fontdict={'verticalalignment': 'top'})\n",
    "        #return(ax)\n",
    "    \n",
    "    def get_max_subsquare(self):\n",
    "        \n",
    "        \"\"\"\n",
    "        Find and return the first largest sub-square. It returns None is there is no solution.\n",
    "        \"\"\"\n",
    "        # the matrix of sub-squares' areas (actually, the roots of them)\n",
    "        #self.S = np.zeros(self.M.shape)\n",
    "        self.S = np.copy(self.M)\n",
    "        \n",
    "        #  copying the first row and the first column\n",
    "        #self.S[0, :] = self.M[0, :]\n",
    "        #self.S[:, 0] = self.M[:, 0].flatten()\n",
    "        \n",
    "        for i in range(1, self.M.shape[0]):\n",
    "            for j in range(1, self.M.shape[1]):\n",
    "                #if self.S[i,j] & self.M[i-1,j] & self.M[i,j-1] & self.M[i-1,j-1]:\n",
    "                #    self.S[i,j] += min(self.M[i-1,j], self.M[i,j-1], self.M[i-1,j-1])\n",
    "                if self.S[i,j]:\n",
    "                    self.S[i,j] += min(self.S[i,j-1], self.S[i-1,j-1], self.S[i-1,j])\n",
    "                 \n",
    "        # getting the first max value and calculating coordinates for it.\n",
    "        k = self.S.argmax()\n",
    "        a2 = int(k / self.M.shape[1]) \n",
    "        b2 = k % self.M.shape[0]\n",
    "        Sk = self.S[a2, b2]\n",
    "        \n",
    "        if Sk == 0:\n",
    "            print('There is no solution.')\n",
    "            return(None)\n",
    "        \n",
    "        a1 = a2 - Sk + 1\n",
    "        b1 = b2 - Sk + 1\n",
    "        \n",
    "        print('The subsquare (%d, %d) - (%d, %d) of the area %dx%d: ' %\n",
    "            (a1, b1, a2, b2, Sk, Sk))\n",
    "        \n",
    "        return(((a1, b1), (a2, b2)))        "
   ]
  },
  {
   "cell_type": "code",
   "execution_count": 10,
   "metadata": {},
   "outputs": [
    {
     "name": "stdout",
     "output_type": "stream",
     "text": [
      "The subsquare (2, 4) - (4, 6) of the area 3x3: \n"
     ]
    },
    {
     "data": {
      "text/plain": [
       "((2, 4), (4, 6))"
      ]
     },
     "execution_count": 10,
     "metadata": {},
     "output_type": "execute_result"
    },
    {
     "data": {
      "image/png": "[encoded data removed]",
      "text/plain": [
       "<Figure size 357.827x357.827 with 1 Axes>"
      ]
     },
     "metadata": {},
     "output_type": "display_data"
    }
   ],
   "source": [
    "# Common case. It can be re-run if required.\n",
    "\n",
    "S = MySquare(n=12, weights=[1,2])\n",
    "# S.desc()\n",
    "S.draw()\n",
    "S.get_max_subsquare()"
   ]
  },
  {
   "cell_type": "code",
   "execution_count": 11,
   "metadata": {},
   "outputs": [
    {
     "name": "stdout",
     "output_type": "stream",
     "text": [
      "Special case #1: a single cell 0 matrix\n",
      "The matrix is too small to be drawn, its content is [[0]].\n",
      "There is no solution.\n"
     ]
    }
   ],
   "source": [
    "print('Special case #1: a single cell ''0'' matrix')\n",
    "S = MySquare(data=[[0]])\n",
    "S.draw()\n",
    "S.get_max_subsquare()"
   ]
  },
  {
   "cell_type": "code",
   "execution_count": 13,
   "metadata": {},
   "outputs": [
    {
     "name": "stdout",
     "output_type": "stream",
     "text": [
      "Special case #2: a single cell 1 matrix\n",
      "The matrix is too small to be drawn, its content is [[1]].\n",
      "The subsquare (0, 0) - (0, 0) of the area 1x1: \n"
     ]
    },
    {
     "data": {
      "text/plain": [
       "((0, 0), (0, 0))"
      ]
     },
     "execution_count": 13,
     "metadata": {},
     "output_type": "execute_result"
    }
   ],
   "source": [
    "print('Special case #2: a single cell ''1'' matrix')\n",
    "S = MySquare(data=[[1]])\n",
    "S.draw()\n",
    "S.get_max_subsquare()"
   ]
  },
  {
   "cell_type": "code",
   "execution_count": 12,
   "metadata": {},
   "outputs": [
    {
     "name": "stdout",
     "output_type": "stream",
     "text": [
      "Special case #3: all zeros matrix\n",
      "There is no solution.\n"
     ]
    },
    {
     "data": {
      "image/png": "[encoded data removed]",
      "text/plain": [
       "<Figure size 357.827x357.827 with 1 Axes>"
      ]
     },
     "metadata": {},
     "output_type": "display_data"
    }
   ],
   "source": [
    "print('Special case #3: all zero''s matrix')\n",
    "S = MySquare(n=12, weights=[1,0])\n",
    "S.draw()\n",
    "S.get_max_subsquare()"
   ]
  },
  {
   "cell_type": "code",
   "execution_count": 15,
   "metadata": {},
   "outputs": [
    {
     "name": "stdout",
     "output_type": "stream",
     "text": [
      "Special case #4: all ones matrix\n",
      "The subsquare (0, 0) - (11, 11) of the area 12x12: \n"
     ]
    },
    {
     "data": {
      "text/plain": [
       "((0, 0), (11, 11))"
      ]
     },
     "execution_count": 15,
     "metadata": {},
     "output_type": "execute_result"
    },
    {
     "data": {
      "image/png": "[encoded data removed]",
      "text/plain": [
       "<Figure size 357.827x357.827 with 1 Axes>"
      ]
     },
     "metadata": {},
     "output_type": "display_data"
    }
   ],
   "source": [
    "print('Special case #4: all one''s matrix')\n",
    "S = MySquare(n=12, weights=[0,1])\n",
    "S.draw()\n",
    "S.get_max_subsquare()"
   ]
  },
  {
   "cell_type": "markdown",
   "metadata": {},
   "source": [
    "#### Complexity\n",
    "\n",
    "Memory complexity: O(n^2) as another matrix of the same dimension to calculate the squares'' sizes is created.\n",
    "\n",
    "Runtime complexity: O(n^2 + n) as all elements of the matrix are scanned, then there is the search for the max element"
   ]
  },
  {
   "cell_type": "markdown",
   "metadata": {},
   "source": [
    "## Task 5"
   ]
  },
  {
   "cell_type": "markdown",
   "metadata": {},
   "source": [
    "5) Imagine series of integer numbers having only 3, 5 or 7 of some power in their factorization (i.e. 1, 3, 5, 7, 9, 15 etc.). Given k you're asked to return k-th number in this series.\n",
    "\n",
    "<i>Helpful link</i>: https://en.wikipedia.org/wiki/Fundamental_theorem_of_arithmetic\n",
    "\n",
    "<b>Input:</b> integer number k\n",
    "\n",
    "<b>Output:</b> k-th number of series\n",
    "\n",
    "<b>Total:</b> 3 points"
   ]
  },
  {
   "cell_type": "markdown",
   "metadata": {},
   "source": [
    "### Solution\n",
    "\n",
    "The series is $x: x = 3^i \\times 5^j \\times 7^k, \\forall \\ i \\in N, j \\in N, k \\in N$.\n",
    "\n",
    "A brute-force approach would be iterating through i, j, k (limited by a reasonable guess) and just calculate $x$ according to the formula. The elements won't be in order but the whole unordered series can be ordered in the end. This approach is implemented in the **get_k1()** procedure below.\n",
    "\n",
    "Another brute-force approach can be going through all numbers from 1 to k and checking if it's divisible by only 3, 5 or 7. This approach is implemented in the **get_k3()** procedure below.\n",
    "\n",
    "After having thought for a while on the problem and reading about it in the book of Edsger Dijkstra ([the link](http://web.cecs.pdx.edu/~cs410aph/Lectures/Smalltalk%20II/Dijkstra%20on%20Hamming%27s%20Problem.pdf), an economical approach became visible. Any next number in the series is the product of some previous number and one of the prime numbers. So for any next number there are only three choices as in multiplying by one of the primes, and it is just required to correctly select the next candidate. As the series needs to be ordered, the next choice is the minimal value out of three products produced by the prime numbers in some powers. The power associated with the prime number used at the current step is increased after that to update the list of candidates. This approach is implemented in the **get_k5()** procedure.\n",
    "\n",
    "The code below defines all three procedure and provides some tests for them."
   ]
  },
  {
   "cell_type": "code",
   "execution_count": 14,
   "metadata": {},
   "outputs": [],
   "source": [
    "import math\n",
    "\n",
    "def get_k1(k, verbose=False):\n",
    "    \n",
    "    s = []\n",
    "\n",
    "    p = math.ceil(math.pow(k, 1/3)) + 1\n",
    "    \n",
    "    for n3, n5, n7 in [(n3, n5, n7) for n3 in range(p*3) for n5 in range(p*2) for n7 in range(p)]:\n",
    "        x = 3**n3 * 5**n5 * 7**n7\n",
    "        s.append(x)\n",
    "        if verbose:\n",
    "            print('%2d %2d %2d: %7d' % (n3, n5, n7, x))\n",
    "        \n",
    "    s.sort()\n",
    "    \n",
    "    if verbose:\n",
    "        print('The series'' length: %d' % len(s))\n",
    "    \n",
    "    return(s[k])"
   ]
  },
  {
   "cell_type": "code",
   "execution_count": 17,
   "metadata": {},
   "outputs": [],
   "source": [
    "def is_valid(x, factors):\n",
    "    \n",
    "    \"\"\"\n",
    "    Verify if x is the product of the given factors (to some powers)\n",
    "    \"\"\"\n",
    "    \n",
    "    if x == 1:\n",
    "        return(True)\n",
    "    \n",
    "    for factor in factors:\n",
    "        if x % factor == 0:\n",
    "            return(is_valid(x/factor, factors))\n",
    "        \n",
    "    return(False)\n",
    "\n",
    "def get_k3(k, factors=(3, 5, 7), verbose=False):\n",
    "    \n",
    "    s = [1]\n",
    "    \n",
    "    n = 1    # the length of sequence built so far\n",
    "    x = 2    # the next number to try\n",
    "    \n",
    "    while (n <= k):\n",
    "\n",
    "        if is_valid(x, factors=factors):\n",
    "            s.append(x)\n",
    "            n = n + 1\n",
    "            \n",
    "        x = x + 1\n",
    "\n",
    "    return(s[k])"
   ]
  },
  {
   "cell_type": "code",
   "execution_count": 18,
   "metadata": {},
   "outputs": [],
   "source": [
    "def get_k5(k, verbose=False):\n",
    "    \n",
    "    # the factors\n",
    "    factors = (3, 5, 7)\n",
    "    factors_no = len(factors)\n",
    "    \n",
    "    # the current values of factors\n",
    "    f = list(factors)\n",
    "\n",
    "    # the current powers for factors\n",
    "    p = [0] * factors_no\n",
    "\n",
    "    s = [1] * (k + 1)\n",
    "    \n",
    "    if verbose:\n",
    "        print('%3s: %2d %2d %2d    %5s %5s %5s   => %-32s' % \n",
    "              ('n', factors[2], factors[1], factors[0], 'f[2]', 'f[1]', 'f[0]', 'The next element'))\n",
    "        print('-' * 80)\n",
    "        print('%3d: %2d %2d %2d    %5d %5d %5d   => %-32s' % (0, p[2], p[1], p[0], f[2], f[1], f[0], s))        \n",
    "        \n",
    "    for n in range(1, (k+1)):\n",
    "        \n",
    "        # the minimum of the factors is the next element\n",
    "        s[n] = min(f)\n",
    "        \n",
    "        for fi in range(factors_no):\n",
    "            if s[n] == f[fi]:\n",
    "                p[fi] = p[fi] + 1\n",
    "                f[fi] = factors[fi] * s[p[fi]]\n",
    "\n",
    "        if verbose:\n",
    "            print('%3d: %2d %2d %2d    %5d %5d %5d   => %-32s' % (n, p[2], p[1], p[0], f[2], f[1], f[0], s))\n",
    "        \n",
    "    return(s[-1])"
   ]
  },
  {
   "cell_type": "markdown",
   "metadata": {},
   "source": [
    "Testing that all three procedures produce equal results"
   ]
  },
  {
   "cell_type": "code",
   "execution_count": 19,
   "metadata": {},
   "outputs": [
    {
     "name": "stdout",
     "output_type": "stream",
     "text": [
      "  0:            1       1       1\n",
      "  1:            3       3       3\n",
      "  2:            5       5       5\n",
      "  3:            7       7       7\n",
      "  4:            9       9       9\n",
      "  5:           15      15      15\n",
      "  6:           21      21      21\n",
      "  7:           25      25      25\n",
      "  8:           27      27      27\n",
      "  9:           35      35      35\n",
      "100:        35721   35721   35721\n",
      "101:        36015   36015   36015\n",
      "102:        39375   39375   39375\n",
      "103:        42525   42525   42525\n",
      "104:        42875   42875   42875\n",
      "105:        45927   45927   45927\n",
      "106:        46305   46305   46305\n",
      "107:        46875   46875   46875\n",
      "108:        50421   50421   50421\n",
      "109:        50625   50625   50625\n"
     ]
    }
   ],
   "source": [
    "for k in list(range(10)) + list(range(100, 110)):\n",
    "    ans1 = get_k1(k)\n",
    "    ans3 = get_k3(k)\n",
    "    ans5 = get_k5(k)\n",
    "    print('%3d:      %7d %7d %7d' % (k, ans1, ans3, ans5))"
   ]
  },
  {
   "cell_type": "markdown",
   "metadata": {},
   "source": [
    "Getting timing for some reasonable number. Attention! the get_k3() procedure is sub-optimal, avoid testing it for a large number."
   ]
  },
  {
   "cell_type": "code",
   "execution_count": 20,
   "metadata": {},
   "outputs": [
    {
     "name": "stdout",
     "output_type": "stream",
     "text": [
      "1.91 ms ± 13.3 µs per loop (mean ± std. dev. of 7 runs, 1000 loops each)\n"
     ]
    }
   ],
   "source": [
    "%timeit get_k1(100)"
   ]
  },
  {
   "cell_type": "code",
   "execution_count": 21,
   "metadata": {},
   "outputs": [
    {
     "name": "stdout",
     "output_type": "stream",
     "text": [
      "28.4 ms ± 114 µs per loop (mean ± std. dev. of 7 runs, 10 loops each)\n"
     ]
    }
   ],
   "source": [
    "%timeit get_k3(100)"
   ]
  },
  {
   "cell_type": "code",
   "execution_count": 22,
   "metadata": {},
   "outputs": [
    {
     "name": "stdout",
     "output_type": "stream",
     "text": [
      "133 µs ± 693 ns per loop (mean ± std. dev. of 7 runs, 10000 loops each)\n"
     ]
    }
   ],
   "source": [
    "%timeit get_k5(100)"
   ]
  },
  {
   "cell_type": "markdown",
   "metadata": {},
   "source": [
    "#### Complexity"
   ]
  },
  {
   "cell_type": "markdown",
   "metadata": {
    "collapsed": true
   },
   "source": [
    "| Version | Memory complexity  | Computing complexity\n",
    "|---------|:--------------- ---|:----------------------\n",
    "| get_k1  | O(n\\*m)            | O(n\\*m + n*\\m\\*log (n*\\m), m - a coefficient proportional to the overhead of generating extra numbers\n",
    "| get_k3  | O(n)               | O(n^m), in the power of some m because of the recursion, it's a very slow for large numbers\n",
    "| get_k5  | O(n)               | O(n)"
   ]
  }
 ],
 "metadata": {
  "kernelspec": {
   "display_name": "Python 3",
   "language": "python",
   "name": "python3"
  },
  "language_info": {
   "codemirror_mode": {
    "name": "ipython",
    "version": 3
   },
   "file_extension": ".py",
   "mimetype": "text/x-python",
   "name": "python",
   "nbconvert_exporter": "python",
   "pygments_lexer": "ipython3",
   "version": "3.7.0"
  },
  "toc": {
   "base_numbering": 1,
   "nav_menu": {},
   "number_sections": true,
   "sideBar": true,
   "skip_h1_title": false,
   "title_cell": "Table of Contents",
   "title_sidebar": "Contents",
   "toc_cell": false,
   "toc_position": {},
   "toc_section_display": true,
   "toc_window_display": true
  },
  "varInspector": {
   "cols": {
    "lenName": 16,
    "lenType": 16,
    "lenVar": 40
   },
   "kernels_config": {
    "python": {
     "delete_cmd_postfix": "",
     "delete_cmd_prefix": "del ",
     "library": "var_list.py",
     "varRefreshCmd": "print(var_dic_list())"
    },
    "r": {
     "delete_cmd_postfix": ") ",
     "delete_cmd_prefix": "rm(",
     "library": "var_list.r",
     "varRefreshCmd": "cat(var_dic_list()) "
    }
   },
   "types_to_exclude": [
    "module",
    "function",
    "builtin_function_or_method",
    "instance",
    "_Feature"
   ],
   "window_display": false
  }
 },
 "nbformat": 4,
 "nbformat_minor": 2
}
