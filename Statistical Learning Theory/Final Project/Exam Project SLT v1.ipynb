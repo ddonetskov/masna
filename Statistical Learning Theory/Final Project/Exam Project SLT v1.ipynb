{
 "cells": [
  {
   "cell_type": "markdown",
   "metadata": {},
   "source": [
    "**Statistical Learning Theory. Exam Project**"
   ]
  },
  {
   "cell_type": "markdown",
   "metadata": {},
   "source": [
    "# Choosing Dataset and Formulating Research Question(s)"
   ]
  },
  {
   "cell_type": "markdown",
   "metadata": {},
   "source": [
    "I have checked the datasets at two famous sources ([the UCI machine learning repository](https://archive.ics.uci.edu/ml/datasets.html), [Kaggle](https://www.kaggle.com/datasets)) but decided to build my own dataset.\n",
    "\n",
    "My dataset is based on the content of the [habr.com](https://habr.com) site, and was built with several steps:\n",
    "\n",
    "1. The script **get_habr_posts.py** walked through every link https://habr.com/post/<post n>, where n=[1..440000], i.e. from the very first post to the latest one, and downloaded the content at the link. For some of links, there are no articles, the site returns the 403/404 error codes. The result is a set of html files, one per each link.\n",
    "    \n",
    "2. Each html file was parsed and analyzed (by running the main script **run_n_batches_restart.py**), attributes of the interest were extracted from the html files for each post. The files were processed in batches of 1000 files, the result of each batch was saved to a Parquet file.\n",
    "\n",
    "3. The set of 433 Parquet files was combined into one large data frame.\n",
    "\n",
    "4. That single dataframe was pre-processed (see the *Preprocessing Data* chapter) to normalize the data, the result was saved in two variants: a) without the *text* field, and with the *text* field.\n",
    "\n",
    "Interesting technical issues I have had to deal with:\n",
    "\n",
    "1. Downloading from that lot of links took time, I had to parallelize the process but only moderate because starting with certain level of frequency (of downloading), rate of timeout errors was rapidly increased which I believe is a scheme of the site protection against DDoS attacks. Emperically, there should be no more than 3-4 threads with ~0.1s pause between subsequent calls (within a thread) to the site. This part of process took approx. 40 hours.\n",
    "\n",
    "2. I have had to parallelize the initial processing of the html files to get the dataset in time. Unfortunately, the multiprocessing approaches with either *ipyparallel* or *ProcessPoolExecutor* did not work well because of memory exhausting issue: each executor consumed several gigabytes of memory after having processed first few thousands of html files. That aggresive memory consumption was probably due to extensive usage of html parser. Consequently, my machine (with 16Gb of RAM) stopped behaving correctly after having parsed few thousands of the html files. A workaround I applied was to run every new batch with a new Python process to force the memory release completely between batches. This part of process with 5 threads took approx. 6 hours."
   ]
  },
  {
   "cell_type": "markdown",
   "metadata": {},
   "source": [
    "# Navigation"
   ]
  },
  {
   "cell_type": "markdown",
   "metadata": {},
   "source": [
    "In order to run any Python cell in the notebook, run the **Initialization** section first. It initializes required context.\n",
    "\n",
    "After that...\n",
    "- if you want to check details and examples of how the dataset was built (i.e. the data was scapped and parsed), check the content of the **Building Dataset** section,\n",
    "- if you want to check details about the pre-processing of the initial dataset, check the content of the **Preprocessing Data** section,\n",
    "- otherwise, go straight to the **Loading Data** and run from it and to the bottom, it loads the ready dataset and analyzes it."
   ]
  },
  {
   "cell_type": "markdown",
   "metadata": {},
   "source": [
    "# Initialization"
   ]
  },
  {
   "cell_type": "markdown",
   "metadata": {},
   "source": [
    "This section runs initialization code and defines global variables."
   ]
  },
  {
   "cell_type": "code",
   "execution_count": 257,
   "metadata": {},
   "outputs": [],
   "source": [
    "%matplotlib inline\n",
    "%config InlineBackend.figure_format = 'png'"
   ]
  },
  {
   "cell_type": "code",
   "execution_count": 282,
   "metadata": {},
   "outputs": [
    {
     "name": "stdout",
     "output_type": "stream",
     "text": [
      "2018-12-28 08:18:23 - INFO - The working directory is \"D:/Home.Dima/OneDrive/MASNA/github_masna/Statistical Learning Theory/Final Project/\"\n"
     ]
    }
   ],
   "source": [
    "import datetime as dt\n",
    "\n",
    "import re\n",
    "\n",
    "import logging\n",
    "import os\n",
    "import sys\n",
    "\n",
    "from imp import reload\n",
    "\n",
    "import habr\n",
    "reload(habr)\n",
    "\n",
    "import numpy as np\n",
    "import pandas as pd\n",
    "\n",
    "import matplotlib.pyplot as plt\n",
    "import seaborn as sns\n",
    "\n",
    "import scipy\n",
    "import sklearn as sk\n",
    "import pickle\n",
    "\n",
    "# create the logger and set the logging level\n",
    "logger = logging.getLogger('main')\n",
    "\n",
    "if (logger.hasHandlers()):\n",
    "    logger.handlers.clear()\n",
    "logger.addHandler(logging.StreamHandler(sys.stdout))\n",
    "logger.handlers[-1].setFormatter(logging.Formatter(fmt='%(asctime)s - %(levelname)s - %(message)s',\n",
    "                                                   datefmt='%Y-%m-%d %H:%M:%S'))\n",
    "logger.setLevel(logging.DEBUG)\n",
    "\n",
    "# some global variables\n",
    "# habr.dir_parsed    = 'data/'\n",
    "habr.dir_processed = 'data/'\n",
    "\n",
    "g_working_dir   = os.getcwd().replace('\\\\', '/') + '/'\n",
    "logger.info('The working directory is \"%s\"' % g_working_dir)\n",
    "\n",
    "plt.style.use('seaborn')"
   ]
  },
  {
   "cell_type": "markdown",
   "metadata": {},
   "source": [
    "# ####### Preparation Phase #######"
   ]
  },
  {
   "cell_type": "markdown",
   "metadata": {},
   "source": [
    "# Building Dataset"
   ]
  },
  {
   "cell_type": "markdown",
   "metadata": {},
   "source": [
    "Steps to build the dataset yourself:\n",
    "- create a directory to save the fetched posts, to save the parsing results,\n",
    "- correct the values of dir_raw, dir_parsed in habr.py to those directory paths, \n",
    "- to get the posts, run the script get_habr_posts.py (you may wish to run it in parallel with 3-4 threads so replicate it that may times and correct the range for each copy accordingly),\n",
    "- correct the Habr object created in run_one_batch.py,\n",
    "- to parse the posts, run the script run_n_batches_restart.py which parses the html files and stores the result in the form of Parquet files.\n",
    "\n",
    "Below, there are few examples of calling various parts of relevant API."
   ]
  },
  {
   "cell_type": "markdown",
   "metadata": {},
   "source": [
    "## Fetching Posts (Scrapping the Site)"
   ]
  },
  {
   "cell_type": "markdown",
   "metadata": {},
   "source": [
    "An example of retrieving a set of posts from the site."
   ]
  },
  {
   "cell_type": "code",
   "execution_count": 2,
   "metadata": {},
   "outputs": [
    {
     "name": "stdout",
     "output_type": "stream",
     "text": [
      "2018-12-28 05:02:05 - DEBUG - Getting the post number 434412\n",
      "2018-12-28 05:02:06 - DEBUG - Getting the post number 434413\n",
      "2018-12-28 05:02:06 - DEBUG - Getting the post number 434414\n",
      "2018-12-28 05:02:07 - DEBUG - Getting the post number 434415\n",
      "2018-12-28 05:02:07 - DEBUG - Getting the post number 434416\n",
      "2018-12-28 05:02:08 - DEBUG - Getting the post number 434417\n",
      "2018-12-28 05:02:08 - DEBUG - Getting the post number 434418\n",
      "2018-12-28 05:02:08 - DEBUG - Getting the post number 434419\n",
      "Wall time: 4.14 s\n"
     ]
    }
   ],
   "source": [
    "%%time\n",
    "\n",
    "import time\n",
    "\n",
    "habr_web_f = habr.Habr('web', 'https://habr.com/post/')\n",
    "\n",
    "for i in range(434412, 434420):\n",
    "    logger.debug('Getting the post number %d' % i)\n",
    "    hp = habr_web_f.get_post(i, copy_to_dir=habr.dir_raw)\n",
    "    time.sleep(0.1)"
   ]
  },
  {
   "cell_type": "markdown",
   "metadata": {},
   "source": [
    "## Parsing Posts (Single Thread)"
   ]
  },
  {
   "cell_type": "markdown",
   "metadata": {},
   "source": [
    "An example of retrieving one post (from the site) and parsing it."
   ]
  },
  {
   "cell_type": "code",
   "execution_count": 3,
   "metadata": {
    "scrolled": true
   },
   "outputs": [
    {
     "name": "stdout",
     "output_type": "stream",
     "text": [
      "{'type': 'article', 'title': 'Вывоз ракеты перед стартом на Восточном', 'description': 'Накануне Нового года \"Роскосмос\" готовит запуск с космодрома Восточный двух спутников \"Канопус-В\" и попутных малых аппаратов. За три дня до старта...', 'locale': '', 'url': 'https://habr.com/post/434412/', 'keywords': 'ракеты, Роскосмос, Восточный, РКЦ Прогресс, Союз, GKLaunch', 'user': 'Zelenyikot', 'post_time': '26 декабря 2018 в 05:35', 'bookmarks': '33', 'views': '24,5k', 'comments_no': '202', 'type_label': '', 'title_html': 'Вывоз ракеты перед стартом на Восточном / Хабр', 'voting': 'Общий рейтинг 124: ↑121 и ↓3', 'app_type': 'Article', 'app_datePublished': '2018-12-26T05:35:51+03:00', 'app_dateModified': '2018-12-26T10:43:46+03:00', 'app_author_type': 'Person', 'app_author_name': 'Виталий Егоров', 'app_publisher_type': 'Organization', 'app_publisher_name': 'Habr', 'hubs': 'Космонавтика;Научно-популярное;Транспорт будущего', 'tags': 'ракеты;Роскосмос;Восточный;РКЦ Прогресс;Союз;GKLaunch', 'user_specialization': 'Пользователь', 'user_karma': '1442,2', 'user_rating': '125,9', 'user_followers': '1808', 'text': 'Накануне Нового года \"Роскосмос\" готовит запуск с космодрома Восточный двух спутников \"Канопус-В\" и попутных малых аппаратов. За три дня до старта подготовленную ракету вывозят на стартовый стол, и начинают завершающие предстартовые операции. Мне удалось увидеть и запечатлеть этот процесс. Монтажно-испытательный корпус, где собирается ракета, огромен. В его масштабе даже 52-х метровый \"Союз-2.1а\" кажется совсем маленьким. Ракета перемещается между МИКом и стартовым столом по железной дороге на платформе. Приходят элементы ракеты из Самары тоже поездом. Следующая уже доставлена и ждет своего часа в 2019 году. Восточный вобрал в себя весь предыдущий опыт других космодромов, с которых запускают \"Союзы\": Байконур, Плесецк, Куру. Монтажно-испытательный корпус построен так, чтобы не выходя из помещения можно было в одни ворота ввезти вагоны и платформы с элементами ракеты и спутниками, а из других ворот вывозить уже готовое к пуску изделие. В плане Монтажно-испытательный корпус состоит из двух частей: для подготовки космических аппаратов — головной части — и для подготовки ракеты. О площадках где спутники готовят к запуску я уже рассказывал . Сегодня немного расскажу про средство, которое позволяет обойтись без железнодорожных перевозок между корпусами. Это, т.н. \"Трансбордер\", его можно назвать \"горизонтальным лифтом\" или поперечной платформой, которая может двигаться по рельсам проложенным в связывающей корпуса галерее, и переносить грузы с одной железнодорожной линии на другую. На сайте российского разработчика \" Аскон \", который создает программное обеспечение \"Компас\" для инженерного проектирования, удалось найти схемы , которые могут немного пояснить как действует эта система: Я работу трансбордера в этот день не застал — ракета уже в полной сборке. К моменту вывоза головная часть уже пристыкована к ракете, и закрыта слоем теплоизоляции, которая спасает спутники от 30-градусных амурских морозов. К ней подведены воздухопроводы системы термостатирования — это автономный «кондиционер», который поддерживает комфортную для спутников температуру под обтекателем во время перемещения от МИКа до места старта на протяжении 5 км. Сам \"кондиционер\" движется рядом, на соседней железнодорожной платформе. Все работы в МИКе ведутся под присмотром видеокамер, пожарных датчиков и турелей системы пожаротушения. Перед выездом — построение всего обслуживающего расчета: железнодрожники, сотрудники Центра эксплуатации наземной космической инфраструктуры, пожарные, производители ракеты из РКЦ Прогресс, даже охрана в касках и бронежилетах (но без автоматов, в отличие от Байконура). Наконец, ворота раскрылись и с улицы въехал тепловоз, для доставки ракеты к стартовому столу. Работы начинают производить рано утром, до восхода солнца. С одной стороны подсвечивала полная Луна. А с другой — яркая Венера. Движение происходит со скоростью 5 км/ч — поезд движется в сопровождении пешего эскорта. Незадолго до стартовой площадки происходит перецепка — сначала тепловоз тянул, а отсюда будет уже толкать. Башня обслуживания ракеты на стартовом столе уже сияет в лучах прожекторов. Забавно, что за два года оттуда убрали девиз \"Подними голову\", который запустила предыдущая пресс-служба \"Роскосмоса\". Фермы-опоры и мачты обслуживания воздевают к темному синему небу стальные \"ладони\", соскучившиеся по талии \"Союза\". Перед стартом они будут держать ракету над провалом газоотвода, и разойдутся в стороны под тяжестью противовесов, когда заработают ракетные двигатели. Ракета проходит сквозь башню обслуживания. Эта башня — тоже результат прежнего опыта, полученного на приэкваториальном космодроме во Французской Гвиане. Там совсем другой климат, но и там и здесь погода не всегда милостива к сложной технике и людям ее обслуживающим. Внутри башня не обогревается, но защищает от ветра и позволяет людям спокойнее готовить ракету к пуску. Стартовый стол затихает в ожидании подъема ракеты и солнца. Солнце показывается первым. Луна медленно сползает за технические конструкции и скрывается в верхушках таежных деревьев. Примерно через час после доставки ракеты начинается ее вертикализация. Подъем осуществляет мачта на транспортной платформе. После успешной вертикализации стартовый стол закроет башня обслуживания и в течение трех дней там будет проходить подготовка старта. Увидеть техническую магию космоса, и рассказать о ней вам, мне позволило приглашение компании GKLaunch , которая создана для того, чтобы обеспечить \"Союзу\" коммерческий спрос на мировом рынке.'}\n",
      "Wall time: 723 ms\n"
     ]
    }
   ],
   "source": [
    "%%time\n",
    "\n",
    "habr_dir1 = habr.Habr('dir', habr.dir_raw)\n",
    "\n",
    "post_no = 434412\n",
    "#post_no = 772\n",
    "hp = habr_dir1.get_post(post_no, copy_to_dir=habr.dir_raw)\n",
    "if hp is not None:\n",
    "    print(hp.get_post_info())"
   ]
  },
  {
   "cell_type": "markdown",
   "metadata": {},
   "source": [
    "An example of processing the batch of posts built above, and getting a dataframe based on the parsing results.  "
   ]
  },
  {
   "cell_type": "code",
   "execution_count": 4,
   "metadata": {},
   "outputs": [
    {
     "name": "stdout",
     "output_type": "stream",
     "text": [
      "2018-12-28 05:03:22.284261: the batch 0 is completed\n"
     ]
    },
    {
     "data": {
      "text/html": [
       "<div>\n",
       "<style scoped>\n",
       "    .dataframe tbody tr th:only-of-type {\n",
       "        vertical-align: middle;\n",
       "    }\n",
       "\n",
       "    .dataframe tbody tr th {\n",
       "        vertical-align: top;\n",
       "    }\n",
       "\n",
       "    .dataframe thead th {\n",
       "        text-align: right;\n",
       "    }\n",
       "</style>\n",
       "<table border=\"1\" class=\"dataframe\">\n",
       "  <thead>\n",
       "    <tr style=\"text-align: right;\">\n",
       "      <th></th>\n",
       "      <th>type</th>\n",
       "      <th>title</th>\n",
       "      <th>description</th>\n",
       "      <th>locale</th>\n",
       "      <th>url</th>\n",
       "      <th>keywords</th>\n",
       "      <th>user</th>\n",
       "      <th>post_time</th>\n",
       "      <th>bookmarks</th>\n",
       "      <th>views</th>\n",
       "      <th>...</th>\n",
       "      <th>app_publisher_name</th>\n",
       "      <th>hubs</th>\n",
       "      <th>tags</th>\n",
       "      <th>user_specialization</th>\n",
       "      <th>user_karma</th>\n",
       "      <th>user_rating</th>\n",
       "      <th>user_followers</th>\n",
       "      <th>text</th>\n",
       "      <th>post_fetch_time</th>\n",
       "      <th>post_fetch_code</th>\n",
       "    </tr>\n",
       "  </thead>\n",
       "  <tbody>\n",
       "    <tr>\n",
       "      <th>434412</th>\n",
       "      <td>article</td>\n",
       "      <td>Вывоз ракеты перед стартом на Восточном</td>\n",
       "      <td>Накануне Нового года \"Роскосмос\" готовит запус...</td>\n",
       "      <td></td>\n",
       "      <td>https://habr.com/post/434412/</td>\n",
       "      <td>ракеты, Роскосмос, Восточный, РКЦ Прогресс, Со...</td>\n",
       "      <td>Zelenyikot</td>\n",
       "      <td>26 декабря 2018 в 05:35</td>\n",
       "      <td>33</td>\n",
       "      <td>24,5k</td>\n",
       "      <td>...</td>\n",
       "      <td>Habr</td>\n",
       "      <td>Космонавтика;Научно-популярное;Транспорт будущего</td>\n",
       "      <td>ракеты;Роскосмос;Восточный;РКЦ Прогресс;Союз;G...</td>\n",
       "      <td>Пользователь</td>\n",
       "      <td>1442,2</td>\n",
       "      <td>125,9</td>\n",
       "      <td>1808</td>\n",
       "      <td>Накануне Нового года \"Роскосмос\" готовит запус...</td>\n",
       "      <td>2018-12-28 05:02:27.161</td>\n",
       "      <td>None</td>\n",
       "    </tr>\n",
       "    <tr>\n",
       "      <th>434414</th>\n",
       "      <td>article</td>\n",
       "      <td>Айсберг</td>\n",
       "      <td>Все знают, что такое айсберг – большой кусок л...</td>\n",
       "      <td></td>\n",
       "      <td>https://habr.com/post/434414/</td>\n",
       "      <td>бизнес-программирование</td>\n",
       "      <td>nmivan</td>\n",
       "      <td>26 декабря 2018 в 09:02</td>\n",
       "      <td>22</td>\n",
       "      <td>3,3k</td>\n",
       "      <td>...</td>\n",
       "      <td>Habr</td>\n",
       "      <td>Анализ и проектирование систем;Карьера в IT-ин...</td>\n",
       "      <td>бизнес-программирование</td>\n",
       "      <td>Пользователь</td>\n",
       "      <td>255,5</td>\n",
       "      <td>823,7</td>\n",
       "      <td>1335</td>\n",
       "      <td>Все знают, что такое айсберг – большой кусок л...</td>\n",
       "      <td>2018-12-28 05:02:07.373</td>\n",
       "      <td>None</td>\n",
       "    </tr>\n",
       "    <tr>\n",
       "      <th>434416</th>\n",
       "      <td>article</td>\n",
       "      <td>Почитать на каникулах. Лучшие посты в нашем бл...</td>\n",
       "      <td>Привет! Грядут новогодние каникулы, а с ними и...</td>\n",
       "      <td></td>\n",
       "      <td>https://habr.com/company/2gis/blog/434416/</td>\n",
       "      <td>2гис, микросервисы, программирование, frontend...</td>\n",
       "      <td>InnaSavchkova</td>\n",
       "      <td>вчера в 07:11</td>\n",
       "      <td>70</td>\n",
       "      <td>5,7k</td>\n",
       "      <td>...</td>\n",
       "      <td>Habr</td>\n",
       "      <td>Блог компании 2ГИС;Программирование;Управление...</td>\n",
       "      <td>2гис;микросервисы;программирование;frontend;lt...</td>\n",
       "      <td>Developer Relations</td>\n",
       "      <td>22,5</td>\n",
       "      <td>77,6</td>\n",
       "      <td>3</td>\n",
       "      <td>Привет! Грядут новогодние каникулы, а с ними и...</td>\n",
       "      <td>2018-12-28 05:02:08.292</td>\n",
       "      <td>None</td>\n",
       "    </tr>\n",
       "  </tbody>\n",
       "</table>\n",
       "<p>3 rows × 30 columns</p>\n",
       "</div>"
      ],
      "text/plain": [
       "           type                                              title  \\\n",
       "434412  article            Вывоз ракеты перед стартом на Восточном   \n",
       "434414  article                                            Айсберг   \n",
       "434416  article  Почитать на каникулах. Лучшие посты в нашем бл...   \n",
       "\n",
       "                                              description locale  \\\n",
       "434412  Накануне Нового года \"Роскосмос\" готовит запус...          \n",
       "434414  Все знают, что такое айсберг – большой кусок л...          \n",
       "434416  Привет! Грядут новогодние каникулы, а с ними и...          \n",
       "\n",
       "                                               url  \\\n",
       "434412               https://habr.com/post/434412/   \n",
       "434414               https://habr.com/post/434414/   \n",
       "434416  https://habr.com/company/2gis/blog/434416/   \n",
       "\n",
       "                                                 keywords           user  \\\n",
       "434412  ракеты, Роскосмос, Восточный, РКЦ Прогресс, Со...     Zelenyikot   \n",
       "434414                            бизнес-программирование         nmivan   \n",
       "434416  2гис, микросервисы, программирование, frontend...  InnaSavchkova   \n",
       "\n",
       "                      post_time bookmarks  views       ...        \\\n",
       "434412  26 декабря 2018 в 05:35        33  24,5k       ...         \n",
       "434414  26 декабря 2018 в 09:02        22   3,3k       ...         \n",
       "434416            вчера в 07:11        70   5,7k       ...         \n",
       "\n",
       "       app_publisher_name                                               hubs  \\\n",
       "434412               Habr  Космонавтика;Научно-популярное;Транспорт будущего   \n",
       "434414               Habr  Анализ и проектирование систем;Карьера в IT-ин...   \n",
       "434416               Habr  Блог компании 2ГИС;Программирование;Управление...   \n",
       "\n",
       "                                                     tags  \\\n",
       "434412  ракеты;Роскосмос;Восточный;РКЦ Прогресс;Союз;G...   \n",
       "434414                            бизнес-программирование   \n",
       "434416  2гис;микросервисы;программирование;frontend;lt...   \n",
       "\n",
       "        user_specialization user_karma user_rating user_followers  \\\n",
       "434412         Пользователь     1442,2       125,9           1808   \n",
       "434414         Пользователь      255,5       823,7           1335   \n",
       "434416  Developer Relations       22,5        77,6              3   \n",
       "\n",
       "                                                     text  \\\n",
       "434412  Накануне Нового года \"Роскосмос\" готовит запус...   \n",
       "434414  Все знают, что такое айсберг – большой кусок л...   \n",
       "434416  Привет! Грядут новогодние каникулы, а с ними и...   \n",
       "\n",
       "               post_fetch_time post_fetch_code  \n",
       "434412 2018-12-28 05:02:27.161            None  \n",
       "434414 2018-12-28 05:02:07.373            None  \n",
       "434416 2018-12-28 05:02:08.292            None  \n",
       "\n",
       "[3 rows x 30 columns]"
      ]
     },
     "execution_count": 4,
     "metadata": {},
     "output_type": "execute_result"
    }
   ],
   "source": [
    "df = habr.process_habr_batch(habr=habr_dir1, start_id=434412, batch_size=10, batches=1)\n",
    "df"
   ]
  },
  {
   "cell_type": "markdown",
   "metadata": {},
   "source": [
    "## Parsing Posts (Multiple Threads with iPython Clusters)"
   ]
  },
  {
   "cell_type": "markdown",
   "metadata": {},
   "source": [
    "An example of processing posts concurrently:\n",
    "- start the iPython cluster workers with ipcluster start,\n",
    "- run the code below"
   ]
  },
  {
   "cell_type": "code",
   "execution_count": null,
   "metadata": {},
   "outputs": [],
   "source": [
    "from ipyparallel import Client\n",
    "\n",
    "rc = Client()\n",
    "dv = rc[:]\n",
    "\n",
    "def call_process_habr_batch(start_id, batch_size, batches):\n",
    "    \n",
    "    import sys\n",
    "    sys.path.append(g_working_dir)\n",
    "    \n",
    "    from imp import reload\n",
    "    import habr\n",
    "    reload(habr)\n",
    "    \n",
    "    habr_dir1 = habr.Habr('dir', habr.dir_raw)\n",
    "    #habr_ssh  = habr.Habr('ssh', 'dmdp@192.168.1.2:/mnt/data_1/Temp/_cache3')\n",
    "\n",
    "    df = habr.process_habr_batch(habr=habr_ssh, \n",
    "                                 start_id=start_id, \n",
    "                                 batch_size=batch_size, \n",
    "                                 batches=1, \n",
    "                                 output_dir=habr.dir_parsed)\n",
    "    \n",
    "    return('Has successfully built the dataframe of the shape %s for %d, %d, %d' % \n",
    "           (str(df.shape), start_id, batch_size, batches))\n",
    "\n",
    "start_id_list   = list(range(434412, 434420, 3))\n",
    "batch_size_list = [3] * len(start_id_list)\n",
    "\n",
    "res = dv.map(call_process_habr_batch, start_id_list, batch_size_list)\n",
    "print(res.get())"
   ]
  },
  {
   "cell_type": "markdown",
   "metadata": {},
   "source": [
    "## Combining Parsed Files into One"
   ]
  },
  {
   "cell_type": "code",
   "execution_count": 10,
   "metadata": {},
   "outputs": [
    {
     "name": "stdout",
     "output_type": "stream",
     "text": [
      "2018-12-28 05:06:57 - DEBUG - Found 433 Parquet files in the source directory\n",
      "2018-12-28 05:06:57 - DEBUG - Reading the file D:/Temp/02_habr_parsed/habr_posts_000000-000999.parquet\n",
      "2018-12-28 05:06:58 - DEBUG - Reading the file D:/Temp/02_habr_parsed/habr_posts_001000-001999.parquet\n",
      "2018-12-28 05:06:58 - DEBUG - Reading the file D:/Temp/02_habr_parsed/habr_posts_002000-002999.parquet\n",
      "2018-12-28 05:06:58 - DEBUG - Reading the file D:/Temp/02_habr_parsed/habr_posts_003000-003999.parquet\n",
      "2018-12-28 05:06:58 - DEBUG - Reading the file D:/Temp/02_habr_parsed/habr_posts_004000-004999.parquet\n",
      "2018-12-28 05:06:58 - DEBUG - Reading the file D:/Temp/02_habr_parsed/habr_posts_005000-005999.parquet\n",
      "2018-12-28 05:06:58 - DEBUG - Reading the file D:/Temp/02_habr_parsed/habr_posts_006000-006999.parquet\n",
      "2018-12-28 05:06:58 - DEBUG - Reading the file D:/Temp/02_habr_parsed/habr_posts_007000-007999.parquet\n",
      "2018-12-28 05:06:58 - DEBUG - Reading the file D:/Temp/02_habr_parsed/habr_posts_008000-008999.parquet\n",
      "2018-12-28 05:06:58 - DEBUG - Reading the file D:/Temp/02_habr_parsed/habr_posts_009000-009999.parquet\n",
      "2018-12-28 05:06:58 - DEBUG - Reading the file D:/Temp/02_habr_parsed/habr_posts_010000-010999.parquet\n",
      "2018-12-28 05:06:58 - DEBUG - Reading the file D:/Temp/02_habr_parsed/habr_posts_011000-011999.parquet\n",
      "2018-12-28 05:06:59 - DEBUG - Reading the file D:/Temp/02_habr_parsed/habr_posts_012000-012999.parquet\n",
      "2018-12-28 05:06:59 - DEBUG - Reading the file D:/Temp/02_habr_parsed/habr_posts_013000-013999.parquet\n",
      "2018-12-28 05:06:59 - DEBUG - Reading the file D:/Temp/02_habr_parsed/habr_posts_014000-014999.parquet\n",
      "2018-12-28 05:06:59 - DEBUG - Reading the file D:/Temp/02_habr_parsed/habr_posts_015000-015999.parquet\n",
      "2018-12-28 05:06:59 - DEBUG - Reading the file D:/Temp/02_habr_parsed/habr_posts_016000-016999.parquet\n",
      "2018-12-28 05:06:59 - DEBUG - Reading the file D:/Temp/02_habr_parsed/habr_posts_017000-017999.parquet\n",
      "2018-12-28 05:06:59 - DEBUG - Reading the file D:/Temp/02_habr_parsed/habr_posts_018000-018999.parquet\n",
      "2018-12-28 05:06:59 - DEBUG - Reading the file D:/Temp/02_habr_parsed/habr_posts_019000-019999.parquet\n",
      "2018-12-28 05:06:59 - DEBUG - Reading the file D:/Temp/02_habr_parsed/habr_posts_020000-020999.parquet\n",
      "2018-12-28 05:06:59 - DEBUG - Reading the file D:/Temp/02_habr_parsed/habr_posts_021000-021999.parquet\n",
      "2018-12-28 05:06:59 - DEBUG - Reading the file D:/Temp/02_habr_parsed/habr_posts_022000-022999.parquet\n",
      "2018-12-28 05:06:59 - DEBUG - Reading the file D:/Temp/02_habr_parsed/habr_posts_023000-023999.parquet\n",
      "2018-12-28 05:06:59 - DEBUG - Reading the file D:/Temp/02_habr_parsed/habr_posts_024000-024999.parquet\n",
      "2018-12-28 05:06:59 - DEBUG - Reading the file D:/Temp/02_habr_parsed/habr_posts_025000-025999.parquet\n",
      "2018-12-28 05:07:00 - DEBUG - Reading the file D:/Temp/02_habr_parsed/habr_posts_026000-026999.parquet\n",
      "2018-12-28 05:07:00 - DEBUG - Reading the file D:/Temp/02_habr_parsed/habr_posts_027000-027999.parquet\n",
      "2018-12-28 05:07:00 - DEBUG - Reading the file D:/Temp/02_habr_parsed/habr_posts_028000-028999.parquet\n",
      "2018-12-28 05:07:00 - DEBUG - Reading the file D:/Temp/02_habr_parsed/habr_posts_029000-029999.parquet\n",
      "2018-12-28 05:07:00 - DEBUG - Reading the file D:/Temp/02_habr_parsed/habr_posts_030000-030999.parquet\n",
      "2018-12-28 05:07:00 - DEBUG - Reading the file D:/Temp/02_habr_parsed/habr_posts_031000-031999.parquet\n",
      "2018-12-28 05:07:00 - DEBUG - Reading the file D:/Temp/02_habr_parsed/habr_posts_034000-034999.parquet\n",
      "2018-12-28 05:07:00 - DEBUG - Reading the file D:/Temp/02_habr_parsed/habr_posts_035000-035999.parquet\n",
      "2018-12-28 05:07:00 - DEBUG - Reading the file D:/Temp/02_habr_parsed/habr_posts_036000-036999.parquet\n",
      "2018-12-28 05:07:00 - DEBUG - Reading the file D:/Temp/02_habr_parsed/habr_posts_037000-037999.parquet\n",
      "2018-12-28 05:07:00 - DEBUG - Reading the file D:/Temp/02_habr_parsed/habr_posts_038000-038999.parquet\n",
      "2018-12-28 05:07:00 - DEBUG - Reading the file D:/Temp/02_habr_parsed/habr_posts_039000-039999.parquet\n",
      "2018-12-28 05:07:00 - DEBUG - Reading the file D:/Temp/02_habr_parsed/habr_posts_040000-040999.parquet\n",
      "2018-12-28 05:07:00 - DEBUG - Reading the file D:/Temp/02_habr_parsed/habr_posts_041000-041999.parquet\n",
      "2018-12-28 05:07:00 - DEBUG - Reading the file D:/Temp/02_habr_parsed/habr_posts_042000-042999.parquet\n",
      "2018-12-28 05:07:00 - DEBUG - Reading the file D:/Temp/02_habr_parsed/habr_posts_043000-043999.parquet\n",
      "2018-12-28 05:07:00 - DEBUG - Reading the file D:/Temp/02_habr_parsed/habr_posts_044000-044999.parquet\n",
      "2018-12-28 05:07:01 - DEBUG - Reading the file D:/Temp/02_habr_parsed/habr_posts_045000-045999.parquet\n",
      "2018-12-28 05:07:01 - DEBUG - Reading the file D:/Temp/02_habr_parsed/habr_posts_046000-046999.parquet\n",
      "2018-12-28 05:07:01 - DEBUG - Reading the file D:/Temp/02_habr_parsed/habr_posts_047000-047999.parquet\n",
      "2018-12-28 05:07:01 - DEBUG - Reading the file D:/Temp/02_habr_parsed/habr_posts_048000-048999.parquet\n",
      "2018-12-28 05:07:01 - DEBUG - Reading the file D:/Temp/02_habr_parsed/habr_posts_049000-049999.parquet\n",
      "2018-12-28 05:07:01 - DEBUG - Reading the file D:/Temp/02_habr_parsed/habr_posts_050000-050999.parquet\n",
      "2018-12-28 05:07:01 - DEBUG - Reading the file D:/Temp/02_habr_parsed/habr_posts_051000-051999.parquet\n",
      "2018-12-28 05:07:01 - DEBUG - Reading the file D:/Temp/02_habr_parsed/habr_posts_052000-052999.parquet\n",
      "2018-12-28 05:07:01 - DEBUG - Reading the file D:/Temp/02_habr_parsed/habr_posts_053000-053999.parquet\n",
      "2018-12-28 05:07:01 - DEBUG - Reading the file D:/Temp/02_habr_parsed/habr_posts_054000-054999.parquet\n",
      "2018-12-28 05:07:01 - DEBUG - Reading the file D:/Temp/02_habr_parsed/habr_posts_055000-055999.parquet\n",
      "2018-12-28 05:07:01 - DEBUG - Reading the file D:/Temp/02_habr_parsed/habr_posts_056000-056999.parquet\n",
      "2018-12-28 05:07:01 - DEBUG - Reading the file D:/Temp/02_habr_parsed/habr_posts_057000-057999.parquet\n",
      "2018-12-28 05:07:01 - DEBUG - Reading the file D:/Temp/02_habr_parsed/habr_posts_058000-058999.parquet\n",
      "2018-12-28 05:07:01 - DEBUG - Reading the file D:/Temp/02_habr_parsed/habr_posts_059000-059999.parquet\n",
      "2018-12-28 05:07:02 - DEBUG - Reading the file D:/Temp/02_habr_parsed/habr_posts_060000-060999.parquet\n",
      "2018-12-28 05:07:02 - DEBUG - Reading the file D:/Temp/02_habr_parsed/habr_posts_061000-061999.parquet\n",
      "2018-12-28 05:07:02 - DEBUG - Reading the file D:/Temp/02_habr_parsed/habr_posts_062000-062999.parquet\n",
      "2018-12-28 05:07:02 - DEBUG - Reading the file D:/Temp/02_habr_parsed/habr_posts_063000-063999.parquet\n",
      "2018-12-28 05:07:02 - DEBUG - Reading the file D:/Temp/02_habr_parsed/habr_posts_064000-064999.parquet\n",
      "2018-12-28 05:07:02 - DEBUG - Reading the file D:/Temp/02_habr_parsed/habr_posts_065000-065999.parquet\n",
      "2018-12-28 05:07:02 - DEBUG - Reading the file D:/Temp/02_habr_parsed/habr_posts_066000-066999.parquet\n",
      "2018-12-28 05:07:02 - DEBUG - Reading the file D:/Temp/02_habr_parsed/habr_posts_067000-067999.parquet\n",
      "2018-12-28 05:07:02 - DEBUG - Reading the file D:/Temp/02_habr_parsed/habr_posts_068000-068999.parquet\n",
      "2018-12-28 05:07:02 - DEBUG - Reading the file D:/Temp/02_habr_parsed/habr_posts_069000-069999.parquet\n",
      "2018-12-28 05:07:02 - DEBUG - Reading the file D:/Temp/02_habr_parsed/habr_posts_070000-070999.parquet\n",
      "2018-12-28 05:07:02 - DEBUG - Reading the file D:/Temp/02_habr_parsed/habr_posts_071000-071999.parquet\n",
      "2018-12-28 05:07:02 - DEBUG - Reading the file D:/Temp/02_habr_parsed/habr_posts_072000-072999.parquet\n",
      "2018-12-28 05:07:02 - DEBUG - Reading the file D:/Temp/02_habr_parsed/habr_posts_073000-073999.parquet\n",
      "2018-12-28 05:07:02 - DEBUG - Reading the file D:/Temp/02_habr_parsed/habr_posts_074000-074999.parquet\n",
      "2018-12-28 05:07:02 - DEBUG - Reading the file D:/Temp/02_habr_parsed/habr_posts_075000-075999.parquet\n",
      "2018-12-28 05:07:03 - DEBUG - Reading the file D:/Temp/02_habr_parsed/habr_posts_076000-076999.parquet\n",
      "2018-12-28 05:07:03 - DEBUG - Reading the file D:/Temp/02_habr_parsed/habr_posts_077000-077999.parquet\n",
      "2018-12-28 05:07:03 - DEBUG - Reading the file D:/Temp/02_habr_parsed/habr_posts_078000-078999.parquet\n",
      "2018-12-28 05:07:03 - DEBUG - Reading the file D:/Temp/02_habr_parsed/habr_posts_079000-079999.parquet\n",
      "2018-12-28 05:07:03 - DEBUG - Reading the file D:/Temp/02_habr_parsed/habr_posts_080000-080999.parquet\n"
     ]
    },
    {
     "name": "stdout",
     "output_type": "stream",
     "text": [
      "2018-12-28 05:07:03 - DEBUG - Reading the file D:/Temp/02_habr_parsed/habr_posts_081000-081999.parquet\n",
      "2018-12-28 05:07:03 - DEBUG - Reading the file D:/Temp/02_habr_parsed/habr_posts_082000-082999.parquet\n",
      "2018-12-28 05:07:03 - DEBUG - Reading the file D:/Temp/02_habr_parsed/habr_posts_083000-083999.parquet\n",
      "2018-12-28 05:07:03 - DEBUG - Reading the file D:/Temp/02_habr_parsed/habr_posts_084000-084999.parquet\n",
      "2018-12-28 05:07:03 - DEBUG - Reading the file D:/Temp/02_habr_parsed/habr_posts_085000-085999.parquet\n",
      "2018-12-28 05:07:03 - DEBUG - Reading the file D:/Temp/02_habr_parsed/habr_posts_086000-086999.parquet\n",
      "2018-12-28 05:07:04 - DEBUG - Reading the file D:/Temp/02_habr_parsed/habr_posts_087000-087999.parquet\n",
      "2018-12-28 05:07:04 - DEBUG - Reading the file D:/Temp/02_habr_parsed/habr_posts_088000-088999.parquet\n",
      "2018-12-28 05:07:04 - DEBUG - Reading the file D:/Temp/02_habr_parsed/habr_posts_089000-089999.parquet\n",
      "2018-12-28 05:07:04 - DEBUG - Reading the file D:/Temp/02_habr_parsed/habr_posts_090000-090999.parquet\n",
      "2018-12-28 05:07:04 - DEBUG - Reading the file D:/Temp/02_habr_parsed/habr_posts_091000-091999.parquet\n",
      "2018-12-28 05:07:04 - DEBUG - Reading the file D:/Temp/02_habr_parsed/habr_posts_092000-092999.parquet\n",
      "2018-12-28 05:07:04 - DEBUG - Reading the file D:/Temp/02_habr_parsed/habr_posts_093000-093999.parquet\n",
      "2018-12-28 05:07:04 - DEBUG - Reading the file D:/Temp/02_habr_parsed/habr_posts_094000-094999.parquet\n",
      "2018-12-28 05:07:04 - DEBUG - Reading the file D:/Temp/02_habr_parsed/habr_posts_095000-095999.parquet\n",
      "2018-12-28 05:07:04 - DEBUG - Reading the file D:/Temp/02_habr_parsed/habr_posts_096000-096999.parquet\n",
      "2018-12-28 05:07:04 - DEBUG - Reading the file D:/Temp/02_habr_parsed/habr_posts_097000-097999.parquet\n",
      "2018-12-28 05:07:04 - DEBUG - Reading the file D:/Temp/02_habr_parsed/habr_posts_098000-098999.parquet\n",
      "2018-12-28 05:07:05 - DEBUG - Reading the file D:/Temp/02_habr_parsed/habr_posts_099000-099999.parquet\n",
      "2018-12-28 05:07:05 - DEBUG - Reading the file D:/Temp/02_habr_parsed/habr_posts_100000-100999.parquet\n",
      "2018-12-28 05:07:05 - DEBUG - Reading the file D:/Temp/02_habr_parsed/habr_posts_101000-101999.parquet\n",
      "2018-12-28 05:07:05 - DEBUG - Reading the file D:/Temp/02_habr_parsed/habr_posts_102000-102999.parquet\n",
      "2018-12-28 05:07:05 - DEBUG - Reading the file D:/Temp/02_habr_parsed/habr_posts_103000-103999.parquet\n",
      "2018-12-28 05:07:05 - DEBUG - Reading the file D:/Temp/02_habr_parsed/habr_posts_104000-104999.parquet\n",
      "2018-12-28 05:07:05 - DEBUG - Reading the file D:/Temp/02_habr_parsed/habr_posts_105000-105999.parquet\n",
      "2018-12-28 05:07:05 - DEBUG - Reading the file D:/Temp/02_habr_parsed/habr_posts_106000-106999.parquet\n",
      "2018-12-28 05:07:05 - DEBUG - Reading the file D:/Temp/02_habr_parsed/habr_posts_107000-107999.parquet\n",
      "2018-12-28 05:07:05 - DEBUG - Reading the file D:/Temp/02_habr_parsed/habr_posts_108000-108999.parquet\n",
      "2018-12-28 05:07:05 - DEBUG - Reading the file D:/Temp/02_habr_parsed/habr_posts_109000-109999.parquet\n",
      "2018-12-28 05:07:05 - DEBUG - Reading the file D:/Temp/02_habr_parsed/habr_posts_110000-110999.parquet\n",
      "2018-12-28 05:07:05 - DEBUG - Reading the file D:/Temp/02_habr_parsed/habr_posts_111000-111999.parquet\n",
      "2018-12-28 05:07:06 - DEBUG - Reading the file D:/Temp/02_habr_parsed/habr_posts_112000-112999.parquet\n",
      "2018-12-28 05:07:06 - DEBUG - Reading the file D:/Temp/02_habr_parsed/habr_posts_113000-113999.parquet\n",
      "2018-12-28 05:07:06 - DEBUG - Reading the file D:/Temp/02_habr_parsed/habr_posts_114000-114999.parquet\n",
      "2018-12-28 05:07:06 - DEBUG - Reading the file D:/Temp/02_habr_parsed/habr_posts_115000-115999.parquet\n",
      "2018-12-28 05:07:06 - DEBUG - Reading the file D:/Temp/02_habr_parsed/habr_posts_116000-116999.parquet\n",
      "2018-12-28 05:07:06 - DEBUG - Reading the file D:/Temp/02_habr_parsed/habr_posts_117000-117999.parquet\n",
      "2018-12-28 05:07:06 - DEBUG - Reading the file D:/Temp/02_habr_parsed/habr_posts_118000-118999.parquet\n",
      "2018-12-28 05:07:06 - DEBUG - Reading the file D:/Temp/02_habr_parsed/habr_posts_119000-119999.parquet\n",
      "2018-12-28 05:07:06 - DEBUG - Reading the file D:/Temp/02_habr_parsed/habr_posts_120000-120999.parquet\n",
      "2018-12-28 05:07:07 - DEBUG - Reading the file D:/Temp/02_habr_parsed/habr_posts_121000-121999.parquet\n",
      "2018-12-28 05:07:07 - DEBUG - Reading the file D:/Temp/02_habr_parsed/habr_posts_122000-122999.parquet\n",
      "2018-12-28 05:07:07 - DEBUG - Reading the file D:/Temp/02_habr_parsed/habr_posts_123000-123999.parquet\n",
      "2018-12-28 05:07:07 - DEBUG - Reading the file D:/Temp/02_habr_parsed/habr_posts_124000-124999.parquet\n",
      "2018-12-28 05:07:07 - DEBUG - Reading the file D:/Temp/02_habr_parsed/habr_posts_125000-125999.parquet\n",
      "2018-12-28 05:07:07 - DEBUG - Reading the file D:/Temp/02_habr_parsed/habr_posts_126000-126999.parquet\n",
      "2018-12-28 05:07:07 - DEBUG - Reading the file D:/Temp/02_habr_parsed/habr_posts_127000-127999.parquet\n",
      "2018-12-28 05:07:07 - DEBUG - Reading the file D:/Temp/02_habr_parsed/habr_posts_128000-128999.parquet\n",
      "2018-12-28 05:07:07 - DEBUG - Reading the file D:/Temp/02_habr_parsed/habr_posts_129000-129999.parquet\n",
      "2018-12-28 05:07:08 - DEBUG - Reading the file D:/Temp/02_habr_parsed/habr_posts_130000-130999.parquet\n",
      "2018-12-28 05:07:08 - DEBUG - Reading the file D:/Temp/02_habr_parsed/habr_posts_131000-131999.parquet\n",
      "2018-12-28 05:07:08 - DEBUG - Reading the file D:/Temp/02_habr_parsed/habr_posts_132000-132999.parquet\n",
      "2018-12-28 05:07:08 - DEBUG - Reading the file D:/Temp/02_habr_parsed/habr_posts_133000-133999.parquet\n",
      "2018-12-28 05:07:08 - DEBUG - Reading the file D:/Temp/02_habr_parsed/habr_posts_134000-134999.parquet\n",
      "2018-12-28 05:07:08 - DEBUG - Reading the file D:/Temp/02_habr_parsed/habr_posts_135000-135999.parquet\n",
      "2018-12-28 05:07:08 - DEBUG - Reading the file D:/Temp/02_habr_parsed/habr_posts_136000-136999.parquet\n",
      "2018-12-28 05:07:08 - DEBUG - Reading the file D:/Temp/02_habr_parsed/habr_posts_137000-137999.parquet\n",
      "2018-12-28 05:07:09 - DEBUG - Reading the file D:/Temp/02_habr_parsed/habr_posts_138000-138999.parquet\n",
      "2018-12-28 05:07:09 - DEBUG - Reading the file D:/Temp/02_habr_parsed/habr_posts_139000-139999.parquet\n",
      "2018-12-28 05:07:09 - DEBUG - Reading the file D:/Temp/02_habr_parsed/habr_posts_140000-140999.parquet\n",
      "2018-12-28 05:07:09 - DEBUG - Reading the file D:/Temp/02_habr_parsed/habr_posts_141000-141999.parquet\n",
      "2018-12-28 05:07:09 - DEBUG - Reading the file D:/Temp/02_habr_parsed/habr_posts_142000-142999.parquet\n",
      "2018-12-28 05:07:09 - DEBUG - Reading the file D:/Temp/02_habr_parsed/habr_posts_143000-143999.parquet\n",
      "2018-12-28 05:07:09 - DEBUG - Reading the file D:/Temp/02_habr_parsed/habr_posts_144000-144999.parquet\n",
      "2018-12-28 05:07:09 - DEBUG - Reading the file D:/Temp/02_habr_parsed/habr_posts_145000-145999.parquet\n",
      "2018-12-28 05:07:10 - DEBUG - Reading the file D:/Temp/02_habr_parsed/habr_posts_146000-146999.parquet\n",
      "2018-12-28 05:07:10 - DEBUG - Reading the file D:/Temp/02_habr_parsed/habr_posts_147000-147999.parquet\n",
      "2018-12-28 05:07:10 - DEBUG - Reading the file D:/Temp/02_habr_parsed/habr_posts_148000-148999.parquet\n",
      "2018-12-28 05:07:10 - DEBUG - Reading the file D:/Temp/02_habr_parsed/habr_posts_149000-149999.parquet\n",
      "2018-12-28 05:07:10 - DEBUG - Reading the file D:/Temp/02_habr_parsed/habr_posts_150000-150999.parquet\n",
      "2018-12-28 05:07:10 - DEBUG - Reading the file D:/Temp/02_habr_parsed/habr_posts_151000-151999.parquet\n",
      "2018-12-28 05:07:10 - DEBUG - Reading the file D:/Temp/02_habr_parsed/habr_posts_152000-152999.parquet\n",
      "2018-12-28 05:07:10 - DEBUG - Reading the file D:/Temp/02_habr_parsed/habr_posts_153000-153999.parquet\n",
      "2018-12-28 05:07:10 - DEBUG - Reading the file D:/Temp/02_habr_parsed/habr_posts_154000-154999.parquet\n",
      "2018-12-28 05:07:11 - DEBUG - Reading the file D:/Temp/02_habr_parsed/habr_posts_155000-155999.parquet\n",
      "2018-12-28 05:07:11 - DEBUG - Reading the file D:/Temp/02_habr_parsed/habr_posts_156000-156999.parquet\n",
      "2018-12-28 05:07:11 - DEBUG - Reading the file D:/Temp/02_habr_parsed/habr_posts_157000-157999.parquet\n",
      "2018-12-28 05:07:11 - DEBUG - Reading the file D:/Temp/02_habr_parsed/habr_posts_158000-158999.parquet\n",
      "2018-12-28 05:07:11 - DEBUG - Reading the file D:/Temp/02_habr_parsed/habr_posts_159000-159999.parquet\n",
      "2018-12-28 05:07:11 - DEBUG - Reading the file D:/Temp/02_habr_parsed/habr_posts_160000-160999.parquet\n"
     ]
    },
    {
     "name": "stdout",
     "output_type": "stream",
     "text": [
      "2018-12-28 05:07:11 - DEBUG - Reading the file D:/Temp/02_habr_parsed/habr_posts_161000-161999.parquet\n",
      "2018-12-28 05:07:11 - DEBUG - Reading the file D:/Temp/02_habr_parsed/habr_posts_162000-162999.parquet\n",
      "2018-12-28 05:07:11 - DEBUG - Reading the file D:/Temp/02_habr_parsed/habr_posts_163000-163999.parquet\n",
      "2018-12-28 05:07:11 - DEBUG - Reading the file D:/Temp/02_habr_parsed/habr_posts_164000-164999.parquet\n",
      "2018-12-28 05:07:11 - DEBUG - Reading the file D:/Temp/02_habr_parsed/habr_posts_165000-165999.parquet\n",
      "2018-12-28 05:07:11 - DEBUG - Reading the file D:/Temp/02_habr_parsed/habr_posts_166000-166999.parquet\n",
      "2018-12-28 05:07:11 - DEBUG - Reading the file D:/Temp/02_habr_parsed/habr_posts_167000-167999.parquet\n",
      "2018-12-28 05:07:11 - DEBUG - Reading the file D:/Temp/02_habr_parsed/habr_posts_168000-168999.parquet\n",
      "2018-12-28 05:07:11 - DEBUG - Reading the file D:/Temp/02_habr_parsed/habr_posts_169000-169999.parquet\n",
      "2018-12-28 05:07:11 - DEBUG - Reading the file D:/Temp/02_habr_parsed/habr_posts_170000-170999.parquet\n",
      "2018-12-28 05:07:11 - DEBUG - Reading the file D:/Temp/02_habr_parsed/habr_posts_171000-171999.parquet\n",
      "2018-12-28 05:07:11 - DEBUG - Reading the file D:/Temp/02_habr_parsed/habr_posts_172000-172999.parquet\n",
      "2018-12-28 05:07:11 - DEBUG - Reading the file D:/Temp/02_habr_parsed/habr_posts_173000-173999.parquet\n",
      "2018-12-28 05:07:11 - DEBUG - Reading the file D:/Temp/02_habr_parsed/habr_posts_174000-174999.parquet\n",
      "2018-12-28 05:07:11 - DEBUG - Reading the file D:/Temp/02_habr_parsed/habr_posts_175000-175999.parquet\n",
      "2018-12-28 05:07:11 - DEBUG - Reading the file D:/Temp/02_habr_parsed/habr_posts_176000-176999.parquet\n",
      "2018-12-28 05:07:11 - DEBUG - Reading the file D:/Temp/02_habr_parsed/habr_posts_177000-177999.parquet\n",
      "2018-12-28 05:07:11 - DEBUG - Reading the file D:/Temp/02_habr_parsed/habr_posts_178000-178999.parquet\n",
      "2018-12-28 05:07:11 - DEBUG - Reading the file D:/Temp/02_habr_parsed/habr_posts_179000-179999.parquet\n",
      "2018-12-28 05:07:11 - DEBUG - Reading the file D:/Temp/02_habr_parsed/habr_posts_180000-180999.parquet\n",
      "2018-12-28 05:07:11 - DEBUG - Reading the file D:/Temp/02_habr_parsed/habr_posts_181000-181999.parquet\n",
      "2018-12-28 05:07:11 - DEBUG - Reading the file D:/Temp/02_habr_parsed/habr_posts_182000-182999.parquet\n",
      "2018-12-28 05:07:12 - DEBUG - Reading the file D:/Temp/02_habr_parsed/habr_posts_183000-183999.parquet\n",
      "2018-12-28 05:07:12 - DEBUG - Reading the file D:/Temp/02_habr_parsed/habr_posts_184000-184999.parquet\n",
      "2018-12-28 05:07:12 - DEBUG - Reading the file D:/Temp/02_habr_parsed/habr_posts_185000-185999.parquet\n",
      "2018-12-28 05:07:12 - DEBUG - Reading the file D:/Temp/02_habr_parsed/habr_posts_186000-186999.parquet\n",
      "2018-12-28 05:07:12 - DEBUG - Reading the file D:/Temp/02_habr_parsed/habr_posts_187000-187999.parquet\n",
      "2018-12-28 05:07:12 - DEBUG - Reading the file D:/Temp/02_habr_parsed/habr_posts_188000-188999.parquet\n",
      "2018-12-28 05:07:12 - DEBUG - Reading the file D:/Temp/02_habr_parsed/habr_posts_189000-189999.parquet\n",
      "2018-12-28 05:07:12 - DEBUG - Reading the file D:/Temp/02_habr_parsed/habr_posts_190000-190999.parquet\n",
      "2018-12-28 05:07:12 - DEBUG - Reading the file D:/Temp/02_habr_parsed/habr_posts_191000-191999.parquet\n",
      "2018-12-28 05:07:12 - DEBUG - Reading the file D:/Temp/02_habr_parsed/habr_posts_192000-192999.parquet\n",
      "2018-12-28 05:07:12 - DEBUG - Reading the file D:/Temp/02_habr_parsed/habr_posts_193000-193999.parquet\n",
      "2018-12-28 05:07:12 - DEBUG - Reading the file D:/Temp/02_habr_parsed/habr_posts_194000-194999.parquet\n",
      "2018-12-28 05:07:12 - DEBUG - Reading the file D:/Temp/02_habr_parsed/habr_posts_195000-195999.parquet\n",
      "2018-12-28 05:07:12 - DEBUG - Reading the file D:/Temp/02_habr_parsed/habr_posts_196000-196999.parquet\n",
      "2018-12-28 05:07:12 - DEBUG - Reading the file D:/Temp/02_habr_parsed/habr_posts_197000-197999.parquet\n",
      "2018-12-28 05:07:12 - DEBUG - Reading the file D:/Temp/02_habr_parsed/habr_posts_198000-198999.parquet\n",
      "2018-12-28 05:07:12 - DEBUG - Reading the file D:/Temp/02_habr_parsed/habr_posts_199000-199999.parquet\n",
      "2018-12-28 05:07:12 - DEBUG - Reading the file D:/Temp/02_habr_parsed/habr_posts_200000-200999.parquet\n",
      "2018-12-28 05:07:12 - DEBUG - Reading the file D:/Temp/02_habr_parsed/habr_posts_201000-201999.parquet\n",
      "2018-12-28 05:07:12 - DEBUG - Reading the file D:/Temp/02_habr_parsed/habr_posts_202000-202999.parquet\n",
      "2018-12-28 05:07:12 - DEBUG - Reading the file D:/Temp/02_habr_parsed/habr_posts_203000-203999.parquet\n",
      "2018-12-28 05:07:12 - DEBUG - Reading the file D:/Temp/02_habr_parsed/habr_posts_204000-204999.parquet\n",
      "2018-12-28 05:07:12 - DEBUG - Reading the file D:/Temp/02_habr_parsed/habr_posts_205000-205999.parquet\n",
      "2018-12-28 05:07:12 - DEBUG - Reading the file D:/Temp/02_habr_parsed/habr_posts_206000-206999.parquet\n",
      "2018-12-28 05:07:13 - DEBUG - Reading the file D:/Temp/02_habr_parsed/habr_posts_207000-207999.parquet\n",
      "2018-12-28 05:07:13 - DEBUG - Reading the file D:/Temp/02_habr_parsed/habr_posts_208000-208999.parquet\n",
      "2018-12-28 05:07:13 - DEBUG - Reading the file D:/Temp/02_habr_parsed/habr_posts_209000-209999.parquet\n",
      "2018-12-28 05:07:13 - DEBUG - Reading the file D:/Temp/02_habr_parsed/habr_posts_210000-210999.parquet\n",
      "2018-12-28 05:07:13 - DEBUG - Reading the file D:/Temp/02_habr_parsed/habr_posts_211000-211999.parquet\n",
      "2018-12-28 05:07:13 - DEBUG - Reading the file D:/Temp/02_habr_parsed/habr_posts_212000-212999.parquet\n",
      "2018-12-28 05:07:13 - DEBUG - Reading the file D:/Temp/02_habr_parsed/habr_posts_213000-213999.parquet\n",
      "2018-12-28 05:07:13 - DEBUG - Reading the file D:/Temp/02_habr_parsed/habr_posts_214000-214999.parquet\n",
      "2018-12-28 05:07:13 - DEBUG - Reading the file D:/Temp/02_habr_parsed/habr_posts_215000-215999.parquet\n",
      "2018-12-28 05:07:13 - DEBUG - Reading the file D:/Temp/02_habr_parsed/habr_posts_216000-216999.parquet\n",
      "2018-12-28 05:07:13 - DEBUG - Reading the file D:/Temp/02_habr_parsed/habr_posts_217000-217999.parquet\n",
      "2018-12-28 05:07:13 - DEBUG - Reading the file D:/Temp/02_habr_parsed/habr_posts_218000-218999.parquet\n",
      "2018-12-28 05:07:13 - DEBUG - Reading the file D:/Temp/02_habr_parsed/habr_posts_219000-219999.parquet\n",
      "2018-12-28 05:07:13 - DEBUG - Reading the file D:/Temp/02_habr_parsed/habr_posts_220000-220999.parquet\n",
      "2018-12-28 05:07:13 - DEBUG - Reading the file D:/Temp/02_habr_parsed/habr_posts_221000-221999.parquet\n",
      "2018-12-28 05:07:13 - DEBUG - Reading the file D:/Temp/02_habr_parsed/habr_posts_222000-222999.parquet\n",
      "2018-12-28 05:07:13 - DEBUG - Reading the file D:/Temp/02_habr_parsed/habr_posts_223000-223999.parquet\n",
      "2018-12-28 05:07:13 - DEBUG - Reading the file D:/Temp/02_habr_parsed/habr_posts_224000-224999.parquet\n",
      "2018-12-28 05:07:13 - DEBUG - Reading the file D:/Temp/02_habr_parsed/habr_posts_225000-225999.parquet\n",
      "2018-12-28 05:07:13 - DEBUG - Reading the file D:/Temp/02_habr_parsed/habr_posts_226000-226999.parquet\n",
      "2018-12-28 05:07:13 - DEBUG - Reading the file D:/Temp/02_habr_parsed/habr_posts_227000-227999.parquet\n",
      "2018-12-28 05:07:13 - DEBUG - Reading the file D:/Temp/02_habr_parsed/habr_posts_228000-228999.parquet\n",
      "2018-12-28 05:07:13 - DEBUG - Reading the file D:/Temp/02_habr_parsed/habr_posts_229000-229999.parquet\n",
      "2018-12-28 05:07:13 - DEBUG - Reading the file D:/Temp/02_habr_parsed/habr_posts_230000-230999.parquet\n",
      "2018-12-28 05:07:14 - DEBUG - Reading the file D:/Temp/02_habr_parsed/habr_posts_231000-231999.parquet\n",
      "2018-12-28 05:07:14 - DEBUG - Reading the file D:/Temp/02_habr_parsed/habr_posts_232000-232999.parquet\n",
      "2018-12-28 05:07:14 - DEBUG - Reading the file D:/Temp/02_habr_parsed/habr_posts_233000-233999.parquet\n",
      "2018-12-28 05:07:14 - DEBUG - Reading the file D:/Temp/02_habr_parsed/habr_posts_234000-234999.parquet\n",
      "2018-12-28 05:07:14 - DEBUG - Reading the file D:/Temp/02_habr_parsed/habr_posts_235000-235999.parquet\n",
      "2018-12-28 05:07:14 - DEBUG - Reading the file D:/Temp/02_habr_parsed/habr_posts_236000-236999.parquet\n",
      "2018-12-28 05:07:14 - DEBUG - Reading the file D:/Temp/02_habr_parsed/habr_posts_237000-237999.parquet\n",
      "2018-12-28 05:07:14 - DEBUG - Reading the file D:/Temp/02_habr_parsed/habr_posts_238000-238999.parquet\n",
      "2018-12-28 05:07:14 - DEBUG - Reading the file D:/Temp/02_habr_parsed/habr_posts_239000-239999.parquet\n",
      "2018-12-28 05:07:14 - DEBUG - Reading the file D:/Temp/02_habr_parsed/habr_posts_240000-240999.parquet\n"
     ]
    },
    {
     "name": "stdout",
     "output_type": "stream",
     "text": [
      "2018-12-28 05:07:14 - DEBUG - Reading the file D:/Temp/02_habr_parsed/habr_posts_241000-241999.parquet\n",
      "2018-12-28 05:07:14 - DEBUG - Reading the file D:/Temp/02_habr_parsed/habr_posts_242000-242999.parquet\n",
      "2018-12-28 05:07:14 - DEBUG - Reading the file D:/Temp/02_habr_parsed/habr_posts_243000-243999.parquet\n",
      "2018-12-28 05:07:14 - DEBUG - Reading the file D:/Temp/02_habr_parsed/habr_posts_244000-244999.parquet\n",
      "2018-12-28 05:07:14 - DEBUG - Reading the file D:/Temp/02_habr_parsed/habr_posts_245000-245999.parquet\n",
      "2018-12-28 05:07:14 - DEBUG - Reading the file D:/Temp/02_habr_parsed/habr_posts_246000-246999.parquet\n",
      "2018-12-28 05:07:14 - DEBUG - Reading the file D:/Temp/02_habr_parsed/habr_posts_247000-247999.parquet\n",
      "2018-12-28 05:07:14 - DEBUG - Reading the file D:/Temp/02_habr_parsed/habr_posts_248000-248999.parquet\n",
      "2018-12-28 05:07:14 - DEBUG - Reading the file D:/Temp/02_habr_parsed/habr_posts_249000-249999.parquet\n",
      "2018-12-28 05:07:14 - DEBUG - Reading the file D:/Temp/02_habr_parsed/habr_posts_250000-250999.parquet\n",
      "2018-12-28 05:07:14 - DEBUG - Reading the file D:/Temp/02_habr_parsed/habr_posts_251000-251999.parquet\n",
      "2018-12-28 05:07:14 - DEBUG - Reading the file D:/Temp/02_habr_parsed/habr_posts_252000-252999.parquet\n",
      "2018-12-28 05:07:15 - DEBUG - Reading the file D:/Temp/02_habr_parsed/habr_posts_253000-253999.parquet\n",
      "2018-12-28 05:07:15 - DEBUG - Reading the file D:/Temp/02_habr_parsed/habr_posts_254000-254999.parquet\n",
      "2018-12-28 05:07:15 - DEBUG - Reading the file D:/Temp/02_habr_parsed/habr_posts_255000-255999.parquet\n",
      "2018-12-28 05:07:15 - DEBUG - Reading the file D:/Temp/02_habr_parsed/habr_posts_256000-256999.parquet\n",
      "2018-12-28 05:07:15 - DEBUG - Reading the file D:/Temp/02_habr_parsed/habr_posts_257000-257999.parquet\n",
      "2018-12-28 05:07:15 - DEBUG - Reading the file D:/Temp/02_habr_parsed/habr_posts_258000-258999.parquet\n",
      "2018-12-28 05:07:15 - DEBUG - Reading the file D:/Temp/02_habr_parsed/habr_posts_259000-259999.parquet\n",
      "2018-12-28 05:07:15 - DEBUG - Reading the file D:/Temp/02_habr_parsed/habr_posts_260000-260999.parquet\n",
      "2018-12-28 05:07:15 - DEBUG - Reading the file D:/Temp/02_habr_parsed/habr_posts_261000-261999.parquet\n",
      "2018-12-28 05:07:15 - DEBUG - Reading the file D:/Temp/02_habr_parsed/habr_posts_262000-262999.parquet\n",
      "2018-12-28 05:07:15 - DEBUG - Reading the file D:/Temp/02_habr_parsed/habr_posts_263000-263999.parquet\n",
      "2018-12-28 05:07:15 - DEBUG - Reading the file D:/Temp/02_habr_parsed/habr_posts_264000-264999.parquet\n",
      "2018-12-28 05:07:15 - DEBUG - Reading the file D:/Temp/02_habr_parsed/habr_posts_265000-265999.parquet\n",
      "2018-12-28 05:07:15 - DEBUG - Reading the file D:/Temp/02_habr_parsed/habr_posts_266000-266999.parquet\n",
      "2018-12-28 05:07:15 - DEBUG - Reading the file D:/Temp/02_habr_parsed/habr_posts_267000-267999.parquet\n",
      "2018-12-28 05:07:15 - DEBUG - Reading the file D:/Temp/02_habr_parsed/habr_posts_268000-268999.parquet\n",
      "2018-12-28 05:07:15 - DEBUG - Reading the file D:/Temp/02_habr_parsed/habr_posts_269000-269999.parquet\n",
      "2018-12-28 05:07:15 - DEBUG - Reading the file D:/Temp/02_habr_parsed/habr_posts_270000-270999.parquet\n",
      "2018-12-28 05:07:15 - DEBUG - Reading the file D:/Temp/02_habr_parsed/habr_posts_271000-271999.parquet\n",
      "2018-12-28 05:07:15 - DEBUG - Reading the file D:/Temp/02_habr_parsed/habr_posts_272000-272999.parquet\n",
      "2018-12-28 05:07:16 - DEBUG - Reading the file D:/Temp/02_habr_parsed/habr_posts_273000-273999.parquet\n",
      "2018-12-28 05:07:16 - DEBUG - Reading the file D:/Temp/02_habr_parsed/habr_posts_274000-274999.parquet\n",
      "2018-12-28 05:07:16 - DEBUG - Reading the file D:/Temp/02_habr_parsed/habr_posts_275000-275999.parquet\n",
      "2018-12-28 05:07:16 - DEBUG - Reading the file D:/Temp/02_habr_parsed/habr_posts_276000-276999.parquet\n",
      "2018-12-28 05:07:16 - DEBUG - Reading the file D:/Temp/02_habr_parsed/habr_posts_277000-277999.parquet\n",
      "2018-12-28 05:07:16 - DEBUG - Reading the file D:/Temp/02_habr_parsed/habr_posts_278000-278999.parquet\n",
      "2018-12-28 05:07:16 - DEBUG - Reading the file D:/Temp/02_habr_parsed/habr_posts_279000-279999.parquet\n",
      "2018-12-28 05:07:16 - DEBUG - Reading the file D:/Temp/02_habr_parsed/habr_posts_280000-280999.parquet\n",
      "2018-12-28 05:07:16 - DEBUG - Reading the file D:/Temp/02_habr_parsed/habr_posts_281000-281999.parquet\n",
      "2018-12-28 05:07:16 - DEBUG - Reading the file D:/Temp/02_habr_parsed/habr_posts_282000-282999.parquet\n",
      "2018-12-28 05:07:16 - DEBUG - Reading the file D:/Temp/02_habr_parsed/habr_posts_283000-283999.parquet\n",
      "2018-12-28 05:07:16 - DEBUG - Reading the file D:/Temp/02_habr_parsed/habr_posts_284000-284999.parquet\n",
      "2018-12-28 05:07:16 - DEBUG - Reading the file D:/Temp/02_habr_parsed/habr_posts_285000-285999.parquet\n",
      "2018-12-28 05:07:16 - DEBUG - Reading the file D:/Temp/02_habr_parsed/habr_posts_286000-286999.parquet\n",
      "2018-12-28 05:07:16 - DEBUG - Reading the file D:/Temp/02_habr_parsed/habr_posts_287000-287999.parquet\n",
      "2018-12-28 05:07:16 - DEBUG - Reading the file D:/Temp/02_habr_parsed/habr_posts_288000-288999.parquet\n",
      "2018-12-28 05:07:16 - DEBUG - Reading the file D:/Temp/02_habr_parsed/habr_posts_289000-289999.parquet\n",
      "2018-12-28 05:07:16 - DEBUG - Reading the file D:/Temp/02_habr_parsed/habr_posts_290000-290999.parquet\n",
      "2018-12-28 05:07:16 - DEBUG - Reading the file D:/Temp/02_habr_parsed/habr_posts_291000-291999.parquet\n",
      "2018-12-28 05:07:16 - DEBUG - Reading the file D:/Temp/02_habr_parsed/habr_posts_292000-292999.parquet\n",
      "2018-12-28 05:07:16 - DEBUG - Reading the file D:/Temp/02_habr_parsed/habr_posts_293000-293999.parquet\n",
      "2018-12-28 05:07:16 - DEBUG - Reading the file D:/Temp/02_habr_parsed/habr_posts_294000-294999.parquet\n",
      "2018-12-28 05:07:16 - DEBUG - Reading the file D:/Temp/02_habr_parsed/habr_posts_295000-295999.parquet\n",
      "2018-12-28 05:07:16 - DEBUG - Reading the file D:/Temp/02_habr_parsed/habr_posts_296000-296999.parquet\n",
      "2018-12-28 05:07:17 - DEBUG - Reading the file D:/Temp/02_habr_parsed/habr_posts_297000-297999.parquet\n",
      "2018-12-28 05:07:17 - DEBUG - Reading the file D:/Temp/02_habr_parsed/habr_posts_298000-298999.parquet\n",
      "2018-12-28 05:07:17 - DEBUG - Reading the file D:/Temp/02_habr_parsed/habr_posts_299000-299999.parquet\n",
      "2018-12-28 05:07:17 - DEBUG - Reading the file D:/Temp/02_habr_parsed/habr_posts_300000-300999.parquet\n",
      "2018-12-28 05:07:17 - DEBUG - Reading the file D:/Temp/02_habr_parsed/habr_posts_301000-301999.parquet\n",
      "2018-12-28 05:07:17 - DEBUG - Reading the file D:/Temp/02_habr_parsed/habr_posts_302000-302999.parquet\n",
      "2018-12-28 05:07:17 - DEBUG - Reading the file D:/Temp/02_habr_parsed/habr_posts_303000-303999.parquet\n",
      "2018-12-28 05:07:17 - DEBUG - Reading the file D:/Temp/02_habr_parsed/habr_posts_304000-304999.parquet\n",
      "2018-12-28 05:07:17 - DEBUG - Reading the file D:/Temp/02_habr_parsed/habr_posts_305000-305999.parquet\n",
      "2018-12-28 05:07:17 - DEBUG - Reading the file D:/Temp/02_habr_parsed/habr_posts_306000-306999.parquet\n",
      "2018-12-28 05:07:17 - DEBUG - Reading the file D:/Temp/02_habr_parsed/habr_posts_307000-307999.parquet\n",
      "2018-12-28 05:07:17 - DEBUG - Reading the file D:/Temp/02_habr_parsed/habr_posts_308000-308999.parquet\n",
      "2018-12-28 05:07:17 - DEBUG - Reading the file D:/Temp/02_habr_parsed/habr_posts_309000-309999.parquet\n",
      "2018-12-28 05:07:17 - DEBUG - Reading the file D:/Temp/02_habr_parsed/habr_posts_310000-310999.parquet\n",
      "2018-12-28 05:07:17 - DEBUG - Reading the file D:/Temp/02_habr_parsed/habr_posts_311000-311999.parquet\n",
      "2018-12-28 05:07:17 - DEBUG - Reading the file D:/Temp/02_habr_parsed/habr_posts_312000-312999.parquet\n",
      "2018-12-28 05:07:17 - DEBUG - Reading the file D:/Temp/02_habr_parsed/habr_posts_313000-313999.parquet\n",
      "2018-12-28 05:07:17 - DEBUG - Reading the file D:/Temp/02_habr_parsed/habr_posts_314000-314999.parquet\n",
      "2018-12-28 05:07:17 - DEBUG - Reading the file D:/Temp/02_habr_parsed/habr_posts_315000-315999.parquet\n",
      "2018-12-28 05:07:18 - DEBUG - Reading the file D:/Temp/02_habr_parsed/habr_posts_316000-316999.parquet\n",
      "2018-12-28 05:07:18 - DEBUG - Reading the file D:/Temp/02_habr_parsed/habr_posts_317000-317999.parquet\n",
      "2018-12-28 05:07:18 - DEBUG - Reading the file D:/Temp/02_habr_parsed/habr_posts_318000-318999.parquet\n",
      "2018-12-28 05:07:18 - DEBUG - Reading the file D:/Temp/02_habr_parsed/habr_posts_319000-319999.parquet\n",
      "2018-12-28 05:07:18 - DEBUG - Reading the file D:/Temp/02_habr_parsed/habr_posts_320000-320999.parquet\n"
     ]
    },
    {
     "name": "stdout",
     "output_type": "stream",
     "text": [
      "2018-12-28 05:07:18 - DEBUG - Reading the file D:/Temp/02_habr_parsed/habr_posts_321000-321999.parquet\n",
      "2018-12-28 05:07:18 - DEBUG - Reading the file D:/Temp/02_habr_parsed/habr_posts_322000-322999.parquet\n",
      "2018-12-28 05:07:18 - DEBUG - Reading the file D:/Temp/02_habr_parsed/habr_posts_323000-323999.parquet\n",
      "2018-12-28 05:07:18 - DEBUG - Reading the file D:/Temp/02_habr_parsed/habr_posts_324000-324999.parquet\n",
      "2018-12-28 05:07:18 - DEBUG - Reading the file D:/Temp/02_habr_parsed/habr_posts_325000-325999.parquet\n",
      "2018-12-28 05:07:18 - DEBUG - Reading the file D:/Temp/02_habr_parsed/habr_posts_326000-326999.parquet\n",
      "2018-12-28 05:07:18 - DEBUG - Reading the file D:/Temp/02_habr_parsed/habr_posts_327000-327999.parquet\n",
      "2018-12-28 05:07:18 - DEBUG - Reading the file D:/Temp/02_habr_parsed/habr_posts_328000-328999.parquet\n",
      "2018-12-28 05:07:18 - DEBUG - Reading the file D:/Temp/02_habr_parsed/habr_posts_329000-329999.parquet\n",
      "2018-12-28 05:07:18 - DEBUG - Reading the file D:/Temp/02_habr_parsed/habr_posts_330000-330999.parquet\n",
      "2018-12-28 05:07:18 - DEBUG - Reading the file D:/Temp/02_habr_parsed/habr_posts_331000-331999.parquet\n",
      "2018-12-28 05:07:18 - DEBUG - Reading the file D:/Temp/02_habr_parsed/habr_posts_332000-332999.parquet\n",
      "2018-12-28 05:07:19 - DEBUG - Reading the file D:/Temp/02_habr_parsed/habr_posts_333000-333999.parquet\n",
      "2018-12-28 05:07:19 - DEBUG - Reading the file D:/Temp/02_habr_parsed/habr_posts_334000-334999.parquet\n",
      "2018-12-28 05:07:19 - DEBUG - Reading the file D:/Temp/02_habr_parsed/habr_posts_335000-335999.parquet\n",
      "2018-12-28 05:07:19 - DEBUG - Reading the file D:/Temp/02_habr_parsed/habr_posts_336000-336999.parquet\n",
      "2018-12-28 05:07:19 - DEBUG - Reading the file D:/Temp/02_habr_parsed/habr_posts_337000-337999.parquet\n",
      "2018-12-28 05:07:19 - DEBUG - Reading the file D:/Temp/02_habr_parsed/habr_posts_338000-338999.parquet\n",
      "2018-12-28 05:07:19 - DEBUG - Reading the file D:/Temp/02_habr_parsed/habr_posts_339000-339999.parquet\n",
      "2018-12-28 05:07:19 - DEBUG - Reading the file D:/Temp/02_habr_parsed/habr_posts_340000-340999.parquet\n",
      "2018-12-28 05:07:19 - DEBUG - Reading the file D:/Temp/02_habr_parsed/habr_posts_341000-341999.parquet\n",
      "2018-12-28 05:07:19 - DEBUG - Reading the file D:/Temp/02_habr_parsed/habr_posts_342000-342999.parquet\n",
      "2018-12-28 05:07:19 - DEBUG - Reading the file D:/Temp/02_habr_parsed/habr_posts_343000-343999.parquet\n",
      "2018-12-28 05:07:19 - DEBUG - Reading the file D:/Temp/02_habr_parsed/habr_posts_344000-344999.parquet\n",
      "2018-12-28 05:07:19 - DEBUG - Reading the file D:/Temp/02_habr_parsed/habr_posts_345000-345999.parquet\n",
      "2018-12-28 05:07:19 - DEBUG - Reading the file D:/Temp/02_habr_parsed/habr_posts_346000-346999.parquet\n",
      "2018-12-28 05:07:19 - DEBUG - Reading the file D:/Temp/02_habr_parsed/habr_posts_347000-347999.parquet\n",
      "2018-12-28 05:07:19 - DEBUG - Reading the file D:/Temp/02_habr_parsed/habr_posts_348000-348999.parquet\n",
      "2018-12-28 05:07:20 - DEBUG - Reading the file D:/Temp/02_habr_parsed/habr_posts_349000-349999.parquet\n",
      "2018-12-28 05:07:20 - DEBUG - Reading the file D:/Temp/02_habr_parsed/habr_posts_350000-350999.parquet\n",
      "2018-12-28 05:07:20 - DEBUG - Reading the file D:/Temp/02_habr_parsed/habr_posts_351000-351999.parquet\n",
      "2018-12-28 05:07:20 - DEBUG - Reading the file D:/Temp/02_habr_parsed/habr_posts_352000-352999.parquet\n",
      "2018-12-28 05:07:20 - DEBUG - Reading the file D:/Temp/02_habr_parsed/habr_posts_353000-353999.parquet\n",
      "2018-12-28 05:07:20 - DEBUG - Reading the file D:/Temp/02_habr_parsed/habr_posts_354000-354999.parquet\n",
      "2018-12-28 05:07:20 - DEBUG - Reading the file D:/Temp/02_habr_parsed/habr_posts_355000-355999.parquet\n",
      "2018-12-28 05:07:20 - DEBUG - Reading the file D:/Temp/02_habr_parsed/habr_posts_356000-356999.parquet\n",
      "2018-12-28 05:07:20 - DEBUG - Reading the file D:/Temp/02_habr_parsed/habr_posts_357000-357999.parquet\n",
      "2018-12-28 05:07:20 - DEBUG - Reading the file D:/Temp/02_habr_parsed/habr_posts_358000-358999.parquet\n",
      "2018-12-28 05:07:20 - DEBUG - Reading the file D:/Temp/02_habr_parsed/habr_posts_359000-359999.parquet\n",
      "2018-12-28 05:07:20 - DEBUG - Reading the file D:/Temp/02_habr_parsed/habr_posts_360000-360999.parquet\n",
      "2018-12-28 05:07:20 - DEBUG - Reading the file D:/Temp/02_habr_parsed/habr_posts_361000-361999.parquet\n",
      "2018-12-28 05:07:20 - DEBUG - Reading the file D:/Temp/02_habr_parsed/habr_posts_362000-362999.parquet\n",
      "2018-12-28 05:07:20 - DEBUG - Reading the file D:/Temp/02_habr_parsed/habr_posts_363000-363999.parquet\n",
      "2018-12-28 05:07:20 - DEBUG - Reading the file D:/Temp/02_habr_parsed/habr_posts_364000-364999.parquet\n",
      "2018-12-28 05:07:20 - DEBUG - Reading the file D:/Temp/02_habr_parsed/habr_posts_365000-365999.parquet\n",
      "2018-12-28 05:07:20 - DEBUG - Reading the file D:/Temp/02_habr_parsed/habr_posts_366000-366999.parquet\n",
      "2018-12-28 05:07:20 - DEBUG - Reading the file D:/Temp/02_habr_parsed/habr_posts_367000-367999.parquet\n",
      "2018-12-28 05:07:20 - DEBUG - Reading the file D:/Temp/02_habr_parsed/habr_posts_368000-368999.parquet\n",
      "2018-12-28 05:07:20 - DEBUG - Reading the file D:/Temp/02_habr_parsed/habr_posts_369000-369999.parquet\n",
      "2018-12-28 05:07:21 - DEBUG - Reading the file D:/Temp/02_habr_parsed/habr_posts_370000-370999.parquet\n",
      "2018-12-28 05:07:21 - DEBUG - Reading the file D:/Temp/02_habr_parsed/habr_posts_371000-371999.parquet\n",
      "2018-12-28 05:07:21 - DEBUG - Reading the file D:/Temp/02_habr_parsed/habr_posts_372000-372999.parquet\n",
      "2018-12-28 05:07:21 - DEBUG - Reading the file D:/Temp/02_habr_parsed/habr_posts_373000-373999.parquet\n",
      "2018-12-28 05:07:21 - DEBUG - Reading the file D:/Temp/02_habr_parsed/habr_posts_374000-374999.parquet\n",
      "2018-12-28 05:07:21 - DEBUG - Reading the file D:/Temp/02_habr_parsed/habr_posts_375000-375999.parquet\n",
      "2018-12-28 05:07:21 - DEBUG - Reading the file D:/Temp/02_habr_parsed/habr_posts_376000-376999.parquet\n",
      "2018-12-28 05:07:21 - DEBUG - Reading the file D:/Temp/02_habr_parsed/habr_posts_377000-377999.parquet\n",
      "2018-12-28 05:07:21 - DEBUG - Reading the file D:/Temp/02_habr_parsed/habr_posts_378000-378999.parquet\n",
      "2018-12-28 05:07:21 - DEBUG - Reading the file D:/Temp/02_habr_parsed/habr_posts_379000-379999.parquet\n",
      "2018-12-28 05:07:21 - DEBUG - Reading the file D:/Temp/02_habr_parsed/habr_posts_380000-380999.parquet\n",
      "2018-12-28 05:07:21 - DEBUG - Reading the file D:/Temp/02_habr_parsed/habr_posts_381000-381999.parquet\n",
      "2018-12-28 05:07:21 - DEBUG - Reading the file D:/Temp/02_habr_parsed/habr_posts_382000-382999.parquet\n",
      "2018-12-28 05:07:21 - DEBUG - Reading the file D:/Temp/02_habr_parsed/habr_posts_383000-383999.parquet\n",
      "2018-12-28 05:07:21 - DEBUG - Reading the file D:/Temp/02_habr_parsed/habr_posts_384000-384999.parquet\n",
      "2018-12-28 05:07:21 - DEBUG - Reading the file D:/Temp/02_habr_parsed/habr_posts_385000-385999.parquet\n",
      "2018-12-28 05:07:21 - DEBUG - Reading the file D:/Temp/02_habr_parsed/habr_posts_386000-386999.parquet\n",
      "2018-12-28 05:07:21 - DEBUG - Reading the file D:/Temp/02_habr_parsed/habr_posts_387000-387999.parquet\n",
      "2018-12-28 05:07:21 - DEBUG - Reading the file D:/Temp/02_habr_parsed/habr_posts_388000-388999.parquet\n",
      "2018-12-28 05:07:21 - DEBUG - Reading the file D:/Temp/02_habr_parsed/habr_posts_389000-389999.parquet\n",
      "2018-12-28 05:07:21 - DEBUG - Reading the file D:/Temp/02_habr_parsed/habr_posts_390000-390999.parquet\n",
      "2018-12-28 05:07:21 - DEBUG - Reading the file D:/Temp/02_habr_parsed/habr_posts_391000-391999.parquet\n",
      "2018-12-28 05:07:21 - DEBUG - Reading the file D:/Temp/02_habr_parsed/habr_posts_392000-392999.parquet\n",
      "2018-12-28 05:07:21 - DEBUG - Reading the file D:/Temp/02_habr_parsed/habr_posts_393000-393999.parquet\n",
      "2018-12-28 05:07:22 - DEBUG - Reading the file D:/Temp/02_habr_parsed/habr_posts_394000-394999.parquet\n",
      "2018-12-28 05:07:22 - DEBUG - Reading the file D:/Temp/02_habr_parsed/habr_posts_395000-395999.parquet\n",
      "2018-12-28 05:07:22 - DEBUG - Reading the file D:/Temp/02_habr_parsed/habr_posts_396000-396999.parquet\n",
      "2018-12-28 05:07:22 - DEBUG - Reading the file D:/Temp/02_habr_parsed/habr_posts_397000-397999.parquet\n",
      "2018-12-28 05:07:22 - DEBUG - Reading the file D:/Temp/02_habr_parsed/habr_posts_398000-398999.parquet\n",
      "2018-12-28 05:07:22 - DEBUG - Reading the file D:/Temp/02_habr_parsed/habr_posts_399000-399999.parquet\n",
      "2018-12-28 05:07:22 - DEBUG - Reading the file D:/Temp/02_habr_parsed/habr_posts_400000-400999.parquet\n"
     ]
    },
    {
     "name": "stdout",
     "output_type": "stream",
     "text": [
      "2018-12-28 05:07:22 - DEBUG - Reading the file D:/Temp/02_habr_parsed/habr_posts_401000-401999.parquet\n",
      "2018-12-28 05:07:22 - DEBUG - Reading the file D:/Temp/02_habr_parsed/habr_posts_402000-402999.parquet\n",
      "2018-12-28 05:07:22 - DEBUG - Reading the file D:/Temp/02_habr_parsed/habr_posts_403000-403999.parquet\n",
      "2018-12-28 05:07:22 - DEBUG - Reading the file D:/Temp/02_habr_parsed/habr_posts_404000-404999.parquet\n",
      "2018-12-28 05:07:22 - DEBUG - Reading the file D:/Temp/02_habr_parsed/habr_posts_405000-405999.parquet\n",
      "2018-12-28 05:07:22 - DEBUG - Reading the file D:/Temp/02_habr_parsed/habr_posts_406000-406999.parquet\n",
      "2018-12-28 05:07:22 - DEBUG - Reading the file D:/Temp/02_habr_parsed/habr_posts_407000-407999.parquet\n",
      "2018-12-28 05:07:22 - DEBUG - Reading the file D:/Temp/02_habr_parsed/habr_posts_408000-408999.parquet\n",
      "2018-12-28 05:07:22 - DEBUG - Reading the file D:/Temp/02_habr_parsed/habr_posts_409000-409999.parquet\n",
      "2018-12-28 05:07:22 - DEBUG - Reading the file D:/Temp/02_habr_parsed/habr_posts_410000-410999.parquet\n",
      "2018-12-28 05:07:22 - DEBUG - Reading the file D:/Temp/02_habr_parsed/habr_posts_411000-411999.parquet\n",
      "2018-12-28 05:07:23 - DEBUG - Reading the file D:/Temp/02_habr_parsed/habr_posts_412000-412999.parquet\n",
      "2018-12-28 05:07:23 - DEBUG - Reading the file D:/Temp/02_habr_parsed/habr_posts_413000-413999.parquet\n",
      "2018-12-28 05:07:23 - DEBUG - Reading the file D:/Temp/02_habr_parsed/habr_posts_414000-414999.parquet\n",
      "2018-12-28 05:07:23 - DEBUG - Reading the file D:/Temp/02_habr_parsed/habr_posts_415000-415999.parquet\n",
      "2018-12-28 05:07:23 - DEBUG - Reading the file D:/Temp/02_habr_parsed/habr_posts_416000-416999.parquet\n",
      "2018-12-28 05:07:23 - DEBUG - Reading the file D:/Temp/02_habr_parsed/habr_posts_417000-417999.parquet\n",
      "2018-12-28 05:07:23 - DEBUG - Reading the file D:/Temp/02_habr_parsed/habr_posts_418000-418999.parquet\n",
      "2018-12-28 05:07:23 - DEBUG - Reading the file D:/Temp/02_habr_parsed/habr_posts_419000-419999.parquet\n",
      "2018-12-28 05:07:23 - DEBUG - Reading the file D:/Temp/02_habr_parsed/habr_posts_420000-420999.parquet\n",
      "2018-12-28 05:07:23 - DEBUG - Reading the file D:/Temp/02_habr_parsed/habr_posts_421000-421999.parquet\n",
      "2018-12-28 05:07:23 - DEBUG - Reading the file D:/Temp/02_habr_parsed/habr_posts_422000-422999.parquet\n",
      "2018-12-28 05:07:23 - DEBUG - Reading the file D:/Temp/02_habr_parsed/habr_posts_423000-423999.parquet\n",
      "2018-12-28 05:07:23 - DEBUG - Reading the file D:/Temp/02_habr_parsed/habr_posts_424000-424999.parquet\n",
      "2018-12-28 05:07:23 - DEBUG - Reading the file D:/Temp/02_habr_parsed/habr_posts_425000-425999.parquet\n",
      "2018-12-28 05:07:23 - DEBUG - Reading the file D:/Temp/02_habr_parsed/habr_posts_426000-426999.parquet\n",
      "2018-12-28 05:07:23 - DEBUG - Reading the file D:/Temp/02_habr_parsed/habr_posts_427000-427999.parquet\n",
      "2018-12-28 05:07:24 - DEBUG - Reading the file D:/Temp/02_habr_parsed/habr_posts_428000-428999.parquet\n",
      "2018-12-28 05:07:24 - DEBUG - Reading the file D:/Temp/02_habr_parsed/habr_posts_429000-429999.parquet\n",
      "2018-12-28 05:07:24 - DEBUG - Reading the file D:/Temp/02_habr_parsed/habr_posts_430000-430999.parquet\n",
      "2018-12-28 05:07:24 - DEBUG - Reading the file D:/Temp/02_habr_parsed/habr_posts_431000-431999.parquet\n",
      "2018-12-28 05:07:24 - DEBUG - Reading the file D:/Temp/02_habr_parsed/habr_posts_432000-432999.parquet\n",
      "2018-12-28 05:07:24 - DEBUG - Reading the file D:/Temp/02_habr_parsed/habr_posts_433000-433999.parquet\n",
      "2018-12-28 05:07:24 - DEBUG - Reading the file D:/Temp/02_habr_parsed/habr_posts_434000-434999.parquet\n",
      "2018-12-28 05:07:25 - INFO - Created the dataframe of the shape (207821, 33)\n"
     ]
    }
   ],
   "source": [
    "# reading the Parquet files and combining them into one dataframe\n",
    "fn_list = [habr.dir_parsed + fn for fn in os.listdir(habr.dir_parsed) if re.match(habr.fn_parsed_parquet_pattern, fn)]\n",
    "\n",
    "logger.debug('Found %d Parquet files in the source directory' % len(fn_list))\n",
    "\n",
    "if len(fn_list) > 0:\n",
    "\n",
    "    df_list = []\n",
    "\n",
    "    for fn in fn_list:\n",
    "    # for fn in fn_list[:3] + fn_list[-3:]:\n",
    "        logger.debug('Reading the file %s' % fn)    \n",
    "        dft = pd.read_parquet(fn)\n",
    "        df_list.append(dft)\n",
    "\n",
    "    dfhp = pd.concat(df_list, sort=False)\n",
    "\n",
    "    logger.info('Created the dataframe of the shape %s' % str(dfhp.shape))"
   ]
  },
  {
   "cell_type": "code",
   "execution_count": 11,
   "metadata": {},
   "outputs": [
    {
     "data": {
      "text/plain": [
       "(207821, 33)"
      ]
     },
     "execution_count": 11,
     "metadata": {},
     "output_type": "execute_result"
    }
   ],
   "source": [
    "dfhp.shape"
   ]
  },
  {
   "cell_type": "code",
   "execution_count": 12,
   "metadata": {
    "scrolled": true
   },
   "outputs": [
    {
     "name": "stdout",
     "output_type": "stream",
     "text": [
      "<class 'pandas.core.frame.DataFrame'>\n",
      "Int64Index: 207821 entries, 1 to 434500\n",
      "Data columns (total 33 columns):\n",
      "type                   207821 non-null object\n",
      "title                  207821 non-null object\n",
      "description            207821 non-null object\n",
      "locale                 207821 non-null object\n",
      "url                    207821 non-null object\n",
      "keywords               207821 non-null object\n",
      "user                   207821 non-null object\n",
      "post_time              207821 non-null object\n",
      "bookmarks              207821 non-null object\n",
      "views                  207821 non-null object\n",
      "comments_no            207821 non-null object\n",
      "type_label             207821 non-null object\n",
      "title_html             207818 non-null object\n",
      "voting                 207821 non-null object\n",
      "app_type               206826 non-null object\n",
      "app_datePublished      206826 non-null object\n",
      "app_dateModified       206826 non-null object\n",
      "app_author_type        206826 non-null object\n",
      "app_author_name        206826 non-null object\n",
      "app_publisher_type     206826 non-null object\n",
      "app_publisher_name     206826 non-null object\n",
      "hubs                   207821 non-null object\n",
      "tags                   207821 non-null object\n",
      "user_specialization    207821 non-null object\n",
      "user_karma             191595 non-null object\n",
      "user_rating            203933 non-null object\n",
      "user_followers         203933 non-null object\n",
      "text                   205845 non-null object\n",
      "post_fetch_time        207821 non-null datetime64[ns]\n",
      "post_fetch_code        0 non-null object\n",
      "user_votes             957 non-null object\n",
      "translation_title      15702 non-null object\n",
      "translation_link       15702 non-null object\n",
      "dtypes: datetime64[ns](1), object(32)\n",
      "memory usage: 53.9+ MB\n"
     ]
    }
   ],
   "source": [
    "dfhp.info()"
   ]
  },
  {
   "cell_type": "code",
   "execution_count": 13,
   "metadata": {},
   "outputs": [],
   "source": [
    "# saving the whole dataset into one file\n",
    "file_name = 'habr_posts_all_%06d-%06d.parquet' % (dfhp.index.min(), dfhp.index.max())\n",
    "dfhp.to_parquet(habr.dir_parsed + file_name, compression='gzip')\n",
    "\n",
    "# saving the whole dataset into one file (without 'text')\n",
    "#file_name = 'habr_posts_%06d-%06d_no_text.parquet' % (dfhp.index.min(), dfhp.index.max())\n",
    "#dfhp[dfhp.columns.difference(['text'])].to_parquet(habr.dir_processed + file_name, compression='gzip')"
   ]
  },
  {
   "cell_type": "markdown",
   "metadata": {},
   "source": [
    "# Preprocessing data"
   ]
  },
  {
   "cell_type": "markdown",
   "metadata": {},
   "source": [
    "You need to show that you understand correctly how the data should be preprocessed, i.e. what to do with categorical data, missing values etc. I ask you to explain why you did this very preprocessing (take into account that preprocessing often depends on model type)\n",
    "\n",
    "<b>Total:</b> <i>2 points</i>"
   ]
  },
  {
   "cell_type": "markdown",
   "metadata": {},
   "source": [
    "## Loading Dataset (Parsed Posts)"
   ]
  },
  {
   "cell_type": "code",
   "execution_count": 3,
   "metadata": {},
   "outputs": [
    {
     "name": "stdout",
     "output_type": "stream",
     "text": [
      "(207821, 33)\n",
      "Wall time: 20.6 s\n"
     ]
    }
   ],
   "source": [
    "%%time\n",
    "\n",
    "dfhp = pd.read_parquet(habr.dir_parsed + 'habr_posts_all_000001-434500.parquet')\n",
    "\n",
    "print(dfhp.shape)"
   ]
  },
  {
   "cell_type": "markdown",
   "metadata": {},
   "source": [
    "Checking if there are batches with a lot of posts with missing 'app_datePublished', it may be an indicator these posts need to be reloaded and reparsed."
   ]
  },
  {
   "cell_type": "code",
   "execution_count": 4,
   "metadata": {},
   "outputs": [
    {
     "data": {
      "text/plain": [
       "start_id\n",
       "21000     13\n",
       "22000     14\n",
       "52000     10\n",
       "64000     11\n",
       "137000    11\n",
       "146000    10\n",
       "dtype: int64"
      ]
     },
     "execution_count": 4,
     "metadata": {},
     "output_type": "execute_result"
    }
   ],
   "source": [
    "# finding range which largely miss 'app_datePublished', they should probably be reloaded\n",
    "\n",
    "dft = 1000*(dfhp[dfhp['app_datePublished'].isna()].index / 1000).astype('int')\\\n",
    "    .to_frame().rename(columns={0:'start_id'})\n",
    "\n",
    "dft.groupby('start_id').size()[dft.groupby('start_id').size() >= 10]"
   ]
  },
  {
   "cell_type": "markdown",
   "metadata": {},
   "source": [
    "There are not so many batches with the missing *app_datePublished*, proceeding."
   ]
  },
  {
   "cell_type": "markdown",
   "metadata": {},
   "source": [
    "## Renaming\n",
    "Some renaming to make the columns' name to be more representative to their content."
   ]
  },
  {
   "cell_type": "code",
   "execution_count": 5,
   "metadata": {},
   "outputs": [],
   "source": [
    "dfhp.rename(columns={'user_specialization': 'author_specialization', \n",
    "                     'user_karma':  'author_karma',\n",
    "                     'user_rating': 'author_rating',\n",
    "                     'user_followers': 'author_followers'}, inplace=True)\n",
    "\n",
    "dfhp.rename(columns={'app_dateModified': 'updated_at', 'post_fetch_time': 'scrapped_at', 'comments_no': 'comments_num'}, inplace=True)"
   ]
  },
  {
   "cell_type": "markdown",
   "metadata": {},
   "source": [
    "### Obvious Type Conversion"
   ]
  },
  {
   "cell_type": "code",
   "execution_count": 6,
   "metadata": {},
   "outputs": [],
   "source": [
    "dfhp['app_datePublished'] = pd.to_datetime(dfhp['app_datePublished'])\n",
    "dfhp['updated_at']        = pd.to_datetime(dfhp['updated_at'])\n",
    "\n",
    "# these dates seem to be in the UTC timezone, converting them to the Moscow one so as to compare with post_date in the naive way\n",
    "dfhp['app_datePublished'] = dfhp['app_datePublished'].dt.tz_localize('UTC').dt.tz_convert('Europe/Moscow').dt.tz_localize(None)\n",
    "dfhp['updated_at']        = dfhp['updated_at'].dt.tz_localize('UTC').dt.tz_convert('Europe/Moscow').dt.tz_localize(None)"
   ]
  },
  {
   "cell_type": "code",
   "execution_count": 7,
   "metadata": {},
   "outputs": [],
   "source": [
    "dfhp['bookmarks'] = dfhp['bookmarks'].astype('int')"
   ]
  },
  {
   "cell_type": "code",
   "execution_count": 8,
   "metadata": {},
   "outputs": [],
   "source": [
    "dfhp['comments_num'] = pd.to_numeric(dfhp['comments_num'])"
   ]
  },
  {
   "cell_type": "code",
   "execution_count": 9,
   "metadata": {},
   "outputs": [],
   "source": [
    "# converting the user rating from the string data type to the numeric one\n",
    "dfhp['author_rating'] = dfhp['author_rating'].str.replace(',', '.').str.replace('–', '-').astype('float')"
   ]
  },
  {
   "cell_type": "code",
   "execution_count": 10,
   "metadata": {},
   "outputs": [
    {
     "data": {
      "text/plain": [
       "type_label\n",
       "            180441\n",
       "Tutorial      7641\n",
       "Из RSS        1371\n",
       "Новость       2668\n",
       "Перевод      15700\n",
       "dtype: int64"
      ]
     },
     "execution_count": 10,
     "metadata": {},
     "output_type": "execute_result"
    }
   ],
   "source": [
    "dfhp['type_label'] = dfhp['type_label'].astype('category')\n",
    "dfhp.groupby('type_label').size()"
   ]
  },
  {
   "cell_type": "code",
   "execution_count": 11,
   "metadata": {},
   "outputs": [],
   "source": [
    "dfhp['author_karma'] = dfhp['author_karma'].str.replace(',', '.').astype('float')"
   ]
  },
  {
   "cell_type": "code",
   "execution_count": 12,
   "metadata": {},
   "outputs": [],
   "source": [
    "dfhp['author_followers'] = dfhp['author_followers'].astype('float')"
   ]
  },
  {
   "cell_type": "code",
   "execution_count": 15,
   "metadata": {},
   "outputs": [],
   "source": [
    "# user votes, they are originally parsed as '390 голосов'\n",
    "dfhp['user_votes'] = dfhp['user_votes'].str.extract('([0-9]+)').astype('float')"
   ]
  },
  {
   "cell_type": "markdown",
   "metadata": {},
   "source": [
    "## Info"
   ]
  },
  {
   "cell_type": "code",
   "execution_count": 13,
   "metadata": {},
   "outputs": [
    {
     "name": "stdout",
     "output_type": "stream",
     "text": [
      "<class 'pandas.core.frame.DataFrame'>\n",
      "Int64Index: 207821 entries, 1 to 434500\n",
      "Data columns (total 33 columns):\n",
      "type                     207821 non-null object\n",
      "title                    207821 non-null object\n",
      "description              207821 non-null object\n",
      "locale                   207821 non-null object\n",
      "url                      207821 non-null object\n",
      "keywords                 207821 non-null object\n",
      "user                     207821 non-null object\n",
      "post_time                207821 non-null object\n",
      "bookmarks                207821 non-null int32\n",
      "views                    207821 non-null object\n",
      "comments_num             192429 non-null float64\n",
      "type_label               207821 non-null category\n",
      "title_html               207818 non-null object\n",
      "voting                   207821 non-null object\n",
      "app_type                 206826 non-null object\n",
      "app_datePublished        206826 non-null datetime64[ns]\n",
      "updated_at               206826 non-null datetime64[ns]\n",
      "app_author_type          206826 non-null object\n",
      "app_author_name          206826 non-null object\n",
      "app_publisher_type       206826 non-null object\n",
      "app_publisher_name       206826 non-null object\n",
      "hubs                     207821 non-null object\n",
      "tags                     207821 non-null object\n",
      "author_specialization    207821 non-null object\n",
      "author_karma             191595 non-null float64\n",
      "author_rating            203933 non-null float64\n",
      "author_followers         203933 non-null float64\n",
      "text                     205845 non-null object\n",
      "scrapped_at              207821 non-null datetime64[ns]\n",
      "post_fetch_code          0 non-null object\n",
      "user_votes               957 non-null object\n",
      "translation_title        15702 non-null object\n",
      "translation_link         15702 non-null object\n",
      "dtypes: category(1), datetime64[ns](3), float64(4), int32(1), object(24)\n",
      "memory usage: 51.7+ MB\n"
     ]
    }
   ],
   "source": [
    "dfhp.info()"
   ]
  },
  {
   "cell_type": "markdown",
   "metadata": {},
   "source": [
    "## Data with no Variance"
   ]
  },
  {
   "cell_type": "markdown",
   "metadata": {},
   "source": [
    "Checking some attributes for range of unique values."
   ]
  },
  {
   "cell_type": "code",
   "execution_count": 14,
   "metadata": {},
   "outputs": [
    {
     "data": {
      "text/html": [
       "<div>\n",
       "<style scoped>\n",
       "    .dataframe tbody tr th:only-of-type {\n",
       "        vertical-align: middle;\n",
       "    }\n",
       "\n",
       "    .dataframe tbody tr th {\n",
       "        vertical-align: top;\n",
       "    }\n",
       "\n",
       "    .dataframe thead th {\n",
       "        text-align: right;\n",
       "    }\n",
       "</style>\n",
       "<table border=\"1\" class=\"dataframe\">\n",
       "  <thead>\n",
       "    <tr style=\"text-align: right;\">\n",
       "      <th></th>\n",
       "      <th>locale</th>\n",
       "      <th>type</th>\n",
       "      <th>app_type</th>\n",
       "      <th>app_author_type</th>\n",
       "      <th>app_publisher_type</th>\n",
       "      <th>post_fetch_code</th>\n",
       "    </tr>\n",
       "  </thead>\n",
       "  <tbody>\n",
       "    <tr>\n",
       "      <th>count</th>\n",
       "      <td>207821</td>\n",
       "      <td>207821</td>\n",
       "      <td>206826</td>\n",
       "      <td>206826</td>\n",
       "      <td>206826</td>\n",
       "      <td>0.0</td>\n",
       "    </tr>\n",
       "    <tr>\n",
       "      <th>unique</th>\n",
       "      <td>2</td>\n",
       "      <td>1</td>\n",
       "      <td>1</td>\n",
       "      <td>1</td>\n",
       "      <td>1</td>\n",
       "      <td>0.0</td>\n",
       "    </tr>\n",
       "    <tr>\n",
       "      <th>top</th>\n",
       "      <td>ru_RU</td>\n",
       "      <td>article</td>\n",
       "      <td>Article</td>\n",
       "      <td>Person</td>\n",
       "      <td>Organization</td>\n",
       "      <td>NaN</td>\n",
       "    </tr>\n",
       "    <tr>\n",
       "      <th>freq</th>\n",
       "      <td>207819</td>\n",
       "      <td>207821</td>\n",
       "      <td>206826</td>\n",
       "      <td>206826</td>\n",
       "      <td>206826</td>\n",
       "      <td>NaN</td>\n",
       "    </tr>\n",
       "  </tbody>\n",
       "</table>\n",
       "</div>"
      ],
      "text/plain": [
       "        locale     type app_type app_author_type app_publisher_type  \\\n",
       "count   207821   207821   206826          206826             206826   \n",
       "unique       2        1        1               1                  1   \n",
       "top      ru_RU  article  Article          Person       Organization   \n",
       "freq    207819   207821   206826          206826             206826   \n",
       "\n",
       "        post_fetch_code  \n",
       "count               0.0  \n",
       "unique              0.0  \n",
       "top                 NaN  \n",
       "freq                NaN  "
      ]
     },
     "execution_count": 14,
     "metadata": {},
     "output_type": "execute_result"
    }
   ],
   "source": [
    "col_names = ['locale', 'type', 'app_type', 'app_author_type', 'app_publisher_type', 'post_fetch_code']\n",
    "\n",
    "dfhp[col_names].describe()"
   ]
  },
  {
   "cell_type": "markdown",
   "metadata": {},
   "source": [
    "All of those columns have only one value so they can be dropped from the dataset?"
   ]
  },
  {
   "cell_type": "markdown",
   "metadata": {},
   "source": [
    "## Authorship"
   ]
  },
  {
   "cell_type": "code",
   "execution_count": 16,
   "metadata": {},
   "outputs": [
    {
     "data": {
      "text/html": [
       "<div>\n",
       "<style scoped>\n",
       "    .dataframe tbody tr th:only-of-type {\n",
       "        vertical-align: middle;\n",
       "    }\n",
       "\n",
       "    .dataframe tbody tr th {\n",
       "        vertical-align: top;\n",
       "    }\n",
       "\n",
       "    .dataframe thead th {\n",
       "        text-align: right;\n",
       "    }\n",
       "</style>\n",
       "<table border=\"1\" class=\"dataframe\">\n",
       "  <thead>\n",
       "    <tr style=\"text-align: right;\">\n",
       "      <th></th>\n",
       "      <th>user</th>\n",
       "      <th>app_author_name</th>\n",
       "    </tr>\n",
       "  </thead>\n",
       "  <tbody>\n",
       "    <tr>\n",
       "      <th>1</th>\n",
       "      <td>deniskin</td>\n",
       "      <td>Денис Крючков</td>\n",
       "    </tr>\n",
       "    <tr>\n",
       "      <th>2</th>\n",
       "      <td>geraxe</td>\n",
       "      <td>Юрий Баландин</td>\n",
       "    </tr>\n",
       "    <tr>\n",
       "      <th>3</th>\n",
       "      <td>deniskin</td>\n",
       "      <td>Денис Крючков</td>\n",
       "    </tr>\n",
       "    <tr>\n",
       "      <th>4</th>\n",
       "      <td>deniskin</td>\n",
       "      <td>Денис Крючков</td>\n",
       "    </tr>\n",
       "    <tr>\n",
       "      <th>6</th>\n",
       "      <td>deniskin</td>\n",
       "      <td>Денис Крючков</td>\n",
       "    </tr>\n",
       "  </tbody>\n",
       "</table>\n",
       "</div>"
      ],
      "text/plain": [
       "       user app_author_name\n",
       "1  deniskin   Денис Крючков\n",
       "2    geraxe   Юрий Баландин\n",
       "3  deniskin   Денис Крючков\n",
       "4  deniskin   Денис Крючков\n",
       "6  deniskin   Денис Крючков"
      ]
     },
     "execution_count": 16,
     "metadata": {},
     "output_type": "execute_result"
    }
   ],
   "source": [
    "dfhp[dfhp['app_author_name'] != dfhp['user']][['user', 'app_author_name']].head(5)"
   ]
  },
  {
   "cell_type": "code",
   "execution_count": 17,
   "metadata": {},
   "outputs": [],
   "source": [
    "dfhp.rename(columns={'user': 'author_nickname',\n",
    "                     'app_author_name': 'author_name',\n",
    "                     'app_publisher_name': 'author_org'}, inplace=True)"
   ]
  },
  {
   "cell_type": "markdown",
   "metadata": {},
   "source": [
    "## Title"
   ]
  },
  {
   "cell_type": "code",
   "execution_count": 18,
   "metadata": {},
   "outputs": [
    {
     "data": {
      "text/html": [
       "<div>\n",
       "<style scoped>\n",
       "    .dataframe tbody tr th:only-of-type {\n",
       "        vertical-align: middle;\n",
       "    }\n",
       "\n",
       "    .dataframe tbody tr th {\n",
       "        vertical-align: top;\n",
       "    }\n",
       "\n",
       "    .dataframe thead th {\n",
       "        text-align: right;\n",
       "    }\n",
       "</style>\n",
       "<table border=\"1\" class=\"dataframe\">\n",
       "  <thead>\n",
       "    <tr style=\"text-align: right;\">\n",
       "      <th></th>\n",
       "      <th>title</th>\n",
       "      <th>title_html</th>\n",
       "    </tr>\n",
       "  </thead>\n",
       "  <tbody>\n",
       "    <tr>\n",
       "      <th>1</th>\n",
       "      <td>Wiki-FAQ для Хабрахабра</td>\n",
       "      <td>Wiki-FAQ для Хабрахабра / Хабр</td>\n",
       "    </tr>\n",
       "    <tr>\n",
       "      <th>2</th>\n",
       "      <td>Мы знаем много недоделок на сайте… но!</td>\n",
       "      <td>Мы знаем много недоделок на сайте… но! / Хабр</td>\n",
       "    </tr>\n",
       "    <tr>\n",
       "      <th>3</th>\n",
       "      <td>Чтение RSS-потоков</td>\n",
       "      <td>Чтение RSS-потоков / Хабр</td>\n",
       "    </tr>\n",
       "    <tr>\n",
       "      <th>4</th>\n",
       "      <td>Маслов, Сокур и партнеры пиарят Google в России</td>\n",
       "      <td>Маслов, Сокур и партнеры пиарят Google в Росси...</td>\n",
       "    </tr>\n",
       "    <tr>\n",
       "      <th>6</th>\n",
       "      <td>Подкасты на Хабрахабре</td>\n",
       "      <td>Подкасты на Хабрахабре / Хабр</td>\n",
       "    </tr>\n",
       "  </tbody>\n",
       "</table>\n",
       "</div>"
      ],
      "text/plain": [
       "                                             title  \\\n",
       "1                          Wiki-FAQ для Хабрахабра   \n",
       "2           Мы знаем много недоделок на сайте… но!   \n",
       "3                               Чтение RSS-потоков   \n",
       "4  Маслов, Сокур и партнеры пиарят Google в России   \n",
       "6                           Подкасты на Хабрахабре   \n",
       "\n",
       "                                          title_html  \n",
       "1                     Wiki-FAQ для Хабрахабра / Хабр  \n",
       "2      Мы знаем много недоделок на сайте… но! / Хабр  \n",
       "3                          Чтение RSS-потоков / Хабр  \n",
       "4  Маслов, Сокур и партнеры пиарят Google в Росси...  \n",
       "6                      Подкасты на Хабрахабре / Хабр  "
      ]
     },
     "execution_count": 18,
     "metadata": {},
     "output_type": "execute_result"
    }
   ],
   "source": [
    "dfhp[['title', 'title_html']].head(5)"
   ]
  },
  {
   "cell_type": "markdown",
   "metadata": {},
   "source": [
    "## Normalizing Publishing Timestamp"
   ]
  },
  {
   "cell_type": "markdown",
   "metadata": {},
   "source": [
    "There are two sources for the post time: post_time, app_datePublished (in the Moscow time zone). The preferrable one is the second one but it is missed for some posts. For these cases, I rely on timestamps from post_time which are in a human reading format.\n",
    "\n",
    "The code below converges and converts these two fields below to the timestamp datatype."
   ]
  },
  {
   "cell_type": "code",
   "execution_count": 19,
   "metadata": {},
   "outputs": [
    {
     "name": "stdout",
     "output_type": "stream",
     "text": [
      "                      post_time   app_datePublished\n",
      "1          13 июля 2006 в 18:23 2006-07-13 18:23:39\n",
      "2          14 июля 2006 в 00:45 2006-07-14 00:45:38\n",
      "3          14 июля 2006 в 01:13 2006-07-14 01:13:38\n",
      "434496          сегодня в 22:52 2018-12-26 22:52:03\n",
      "434498  26 декабря 2018 в 22:56 2018-12-26 22:56:20\n",
      "434500          сегодня в 03:26 2018-12-28 03:26:03\n",
      "\n",
      "                    post_time app_datePublished\n",
      "772    1 декабря 2006 в 20:44               NaT\n",
      "2855   3 февраля 2007 в 03:05               NaT\n",
      "2858   3 февраля 2007 в 04:54               NaT\n",
      "2860   3 февраля 2007 в 04:55               NaT\n",
      "5745    25 марта 2007 в 17:25               NaT\n"
     ]
    }
   ],
   "source": [
    "print(dfhp[['post_time', 'app_datePublished']].iloc[[0,1,2, -3,-2,-1]])\n",
    "print()\n",
    "print(dfhp[dfhp['app_datePublished'].isnull()][['post_time', 'app_datePublished']].head(5))"
   ]
  },
  {
   "cell_type": "code",
   "execution_count": 27,
   "metadata": {},
   "outputs": [],
   "source": [
    "month_translation = {'января': 1, 'февраля': 2, 'марта':    3, 'апреля':   4, 'мая':     5, 'июня':     6,\n",
    "                     'июля':   7, 'августа': 8, 'сентября': 9, 'октября': 10, 'ноября': 11, 'декабря': 12}\n",
    "\n",
    "def normalize_habr_date(x):\n",
    "    \n",
    "    post_time = x['post_time'].strip()\n",
    "    date = np.nan\n",
    "    \n",
    "    if pd.isnull(post_time) or post_time == '':\n",
    "\n",
    "        return(date)\n",
    "    \n",
    "    if post_time[0].isdigit():\n",
    "        \n",
    "        m = re.match('^(?P<day>[0-9]{1,2})\\ (?P<month>.+?)\\ (?P<year>[0-9]{4}) в (?P<hour>[0-9]{1,2}):(?P<minute>[0-9]{1,2})', post_time)\n",
    "        \n",
    "        if m:\n",
    "            \n",
    "            day    = int(m.group('day'))\n",
    "            month  = month_translation[m.group('month')]\n",
    "            year   = int(m.group('year'))\n",
    "            hour   = int(m.group('hour'))\n",
    "            minute = int(m.group('minute'))\n",
    "            \n",
    "            #date = dt.datetime.strptime('%s-%s-%s %s:%s' % (year, month, day, hour, minute), '%Y-%m-%d %H:%M')\n",
    "            date = dt.datetime(year, month, day, hour, minute)\n",
    "    \n",
    "    elif post_time[0].isalpha():\n",
    "        \n",
    "        m = re.match('^(?P<when>.+)\\ в (?P<hour>[0-9]{1,2}):(?P<minute>[0-9]{1,2})', post_time)\n",
    "        \n",
    "        if m:\n",
    "            \n",
    "            hour   = int(m.group('hour'))\n",
    "            minute = int(m.group('minute'))\n",
    "            date_0 = x['scrapped_at']\n",
    "            \n",
    "            if m.group('when') == 'вчера':    \n",
    "                date_0 = date_0 - dt.timedelta(days=1)\n",
    "                \n",
    "            day    = date_0.day\n",
    "            month  = date_0.month\n",
    "            year   = date_0.year\n",
    "            \n",
    "            date = dt.datetime(year, month, day, hour, minute)\n",
    "                \n",
    "    else:\n",
    "        \n",
    "        raise ValueError('Unknown date format')\n",
    "                \n",
    "    return(date)\n",
    "    \n",
    "dfhp['published_at'] = dfhp.apply(lambda x: x['app_datePublished'] if pd.notnull(x['app_datePublished']) else normalize_habr_date(x), axis=1)"
   ]
  },
  {
   "cell_type": "markdown",
   "metadata": {},
   "source": [
    "## Normalizing Number of Views"
   ]
  },
  {
   "cell_type": "code",
   "execution_count": 26,
   "metadata": {},
   "outputs": [],
   "source": [
    "# normalizing the number of views as for the number of views over 1000 there is the 'k' qualifier\n",
    "# the number of all views are to the base of 1 thousand\n",
    "\n",
    "def normalize_view_number(views):\n",
    "    \n",
    "    res = None\n",
    "    \n",
    "    v = views.strip().replace(',', '.')\n",
    "    \n",
    "    if v[-1] == 'k':\n",
    "        res = float(v[:-1])\n",
    "    else:\n",
    "        res = round(float(v) / 1000,1)\n",
    "\n",
    "    return(res)\n",
    "\n",
    "dfhp['views_thou'] = dfhp['views'].apply(lambda x: normalize_view_number(x))"
   ]
  },
  {
   "cell_type": "markdown",
   "metadata": {},
   "source": [
    "## Voting"
   ]
  },
  {
   "cell_type": "markdown",
   "metadata": {},
   "source": [
    "There are negative votes and positive votes, getting them from a string format and converting to numbers."
   ]
  },
  {
   "cell_type": "code",
   "execution_count": 23,
   "metadata": {},
   "outputs": [
    {
     "name": "stdout",
     "output_type": "stream",
     "text": [
      "1         Общий рейтинг 1: ↑1 и ↓0\n",
      "2         Общий рейтинг 0: ↑0 и ↓0\n",
      "3         Общий рейтинг 1: ↑1 и ↓0\n",
      "434496    Общий рейтинг 0: ↑0 и ↓0\n",
      "434498    Общий рейтинг 9: ↑7 и ↓2\n",
      "434500    Общий рейтинг 2: ↑2 и ↓0\n",
      "Name: voting, dtype: object\n"
     ]
    }
   ],
   "source": [
    "# an example\n",
    "\n",
    "print(dfhp[dfhp['voting'].notnull()]['voting'].iloc[[0,1,2, -3,-2,-1]])"
   ]
  },
  {
   "cell_type": "code",
   "execution_count": 20,
   "metadata": {},
   "outputs": [],
   "source": [
    "def parse_voting(v):\n",
    "    \n",
    "    votes_pos = np.nan\n",
    "    votes_neg = np.nan\n",
    "    \n",
    "    if pd.notnull(v) and v != '':\n",
    "\n",
    "        m = re.match('^Общий рейтинг.+↑(?P<votes_pos>[0-9]+)\\ и\\ ↓(?P<votes_neg>[0-9]+)', v)\n",
    "        \n",
    "        if m:\n",
    "            \n",
    "            votes_pos = int(m.group('votes_pos'))\n",
    "            votes_neg = int(m.group('votes_neg'))\n",
    "            \n",
    "    return(votes_pos, votes_neg)\n",
    "\n",
    "dfhp['votes_pos'], dfhp['votes_neg'] = zip(*dfhp['voting'].map(parse_voting))"
   ]
  },
  {
   "cell_type": "markdown",
   "metadata": {},
   "source": [
    "## Info of Original Source"
   ]
  },
  {
   "cell_type": "code",
   "execution_count": 24,
   "metadata": {},
   "outputs": [],
   "source": [
    "# Extracting the name of author of original article\n",
    "\n",
    "dfhp['original_author'] = dfhp['translation_title'].str.extract('Автор оригинальной публикации: (.+)').fillna('')"
   ]
  },
  {
   "cell_type": "code",
   "execution_count": 22,
   "metadata": {},
   "outputs": [],
   "source": [
    "dfhp.rename(columns={'translation_link': 'original_link'}, inplace=True)"
   ]
  },
  {
   "cell_type": "markdown",
   "metadata": {},
   "source": [
    "## Segregating the Keywords"
   ]
  },
  {
   "cell_type": "code",
   "execution_count": 25,
   "metadata": {},
   "outputs": [],
   "source": [
    "# TBC"
   ]
  },
  {
   "cell_type": "markdown",
   "metadata": {},
   "source": [
    "## Segregating the Hub Names"
   ]
  },
  {
   "cell_type": "code",
   "execution_count": 21,
   "metadata": {},
   "outputs": [],
   "source": [
    "# TBC"
   ]
  },
  {
   "cell_type": "markdown",
   "metadata": {},
   "source": [
    "## Saving Pre-Processed Data"
   ]
  },
  {
   "cell_type": "code",
   "execution_count": 28,
   "metadata": {},
   "outputs": [
    {
     "name": "stdout",
     "output_type": "stream",
     "text": [
      "<class 'pandas.core.frame.DataFrame'>\n",
      "Int64Index: 207821 entries, 1 to 434500\n",
      "Data columns (total 38 columns):\n",
      "type                     207821 non-null object\n",
      "title                    207821 non-null object\n",
      "description              207821 non-null object\n",
      "locale                   207821 non-null object\n",
      "url                      207821 non-null object\n",
      "keywords                 207821 non-null object\n",
      "author_nickname          207821 non-null object\n",
      "post_time                207821 non-null object\n",
      "bookmarks                207821 non-null int32\n",
      "views                    207821 non-null object\n",
      "comments_num             192429 non-null float64\n",
      "type_label               207821 non-null category\n",
      "title_html               207818 non-null object\n",
      "voting                   207821 non-null object\n",
      "app_type                 206826 non-null object\n",
      "app_datePublished        206826 non-null datetime64[ns]\n",
      "updated_at               206826 non-null datetime64[ns]\n",
      "app_author_type          206826 non-null object\n",
      "author_name              206826 non-null object\n",
      "app_publisher_type       206826 non-null object\n",
      "author_org               206826 non-null object\n",
      "hubs                     207821 non-null object\n",
      "tags                     207821 non-null object\n",
      "author_specialization    207821 non-null object\n",
      "author_karma             191595 non-null float64\n",
      "author_rating            203933 non-null float64\n",
      "author_followers         203933 non-null float64\n",
      "text                     205845 non-null object\n",
      "scrapped_at              207821 non-null datetime64[ns]\n",
      "post_fetch_code          0 non-null object\n",
      "user_votes               957 non-null float64\n",
      "translation_title        15702 non-null object\n",
      "original_link            15702 non-null object\n",
      "votes_pos                206958 non-null float64\n",
      "votes_neg                206958 non-null float64\n",
      "original_author          207821 non-null object\n",
      "views_thou               207821 non-null float64\n",
      "published_at             207781 non-null datetime64[ns]\n",
      "dtypes: category(1), datetime64[ns](4), float64(8), int32(1), object(24)\n",
      "memory usage: 59.7+ MB\n"
     ]
    }
   ],
   "source": [
    "dfhp.info()"
   ]
  },
  {
   "cell_type": "code",
   "execution_count": 29,
   "metadata": {},
   "outputs": [],
   "source": [
    "col_names = ['author_nickname', 'author_name', 'author_org',\n",
    "      'title', 'title_html', 'description', 'url',\n",
    "      'type_label', 'original_author', 'original_link',\n",
    "      'views_thou', 'bookmarks', 'comments_num',\n",
    "      'votes_pos', 'votes_neg', 'user_votes',\n",
    "      'author_specialization', 'author_karma', 'author_rating', 'author_followers',\n",
    "      'published_at', 'updated_at', 'scrapped_at',\n",
    "      'hubs', 'tags', 'keywords']\n",
    "\n",
    "# saving the whole dataset into one file\n",
    "file_name = 'habr_posts_%06d-%06d.normalized.parquet' % (dfhp.index.min(), dfhp.index.max())\n",
    "dfhp[col_names + ['text']].to_parquet(habr.dir_processed + file_name, compression='gzip')\n",
    "\n",
    "file_name = 'habr_posts_%06d-%06d.no_text.normalized.parquet' % (dfhp.index.min(), dfhp.index.max())\n",
    "dfhp[col_names].to_parquet(habr.dir_processed + file_name, compression='gzip')"
   ]
  },
  {
   "cell_type": "markdown",
   "metadata": {},
   "source": [
    "# ####### Analysis and Modelling Phase #######"
   ]
  },
  {
   "cell_type": "markdown",
   "metadata": {},
   "source": [
    "# Loading Data"
   ]
  },
  {
   "cell_type": "markdown",
   "metadata": {},
   "source": [
    "The dataset is available at the link https://1drv.ms/u/s!AtKO7dPNHthwhbVxO4kxiN3qid9ymQ, it is of ~50Mb."
   ]
  },
  {
   "cell_type": "code",
   "execution_count": 348,
   "metadata": {},
   "outputs": [],
   "source": [
    "dfhp = pd.read_parquet(habr.dir_processed + 'habr_posts_000001-434500.no_text.normalized.parquet')"
   ]
  },
  {
   "cell_type": "code",
   "execution_count": 31,
   "metadata": {
    "scrolled": true
   },
   "outputs": [
    {
     "name": "stdout",
     "output_type": "stream",
     "text": [
      "<class 'pandas.core.frame.DataFrame'>\n",
      "Int64Index: 207821 entries, 1 to 434500\n",
      "Data columns (total 26 columns):\n",
      "author_nickname          207821 non-null object\n",
      "author_name              206826 non-null object\n",
      "author_org               206826 non-null object\n",
      "title                    207821 non-null object\n",
      "title_html               207818 non-null object\n",
      "description              207821 non-null object\n",
      "url                      207821 non-null object\n",
      "type_label               207821 non-null object\n",
      "original_author          207821 non-null object\n",
      "original_link            15702 non-null object\n",
      "views_thou               207821 non-null float64\n",
      "bookmarks                207821 non-null int32\n",
      "comments_num             192429 non-null float64\n",
      "votes_pos                206958 non-null float64\n",
      "votes_neg                206958 non-null float64\n",
      "user_votes               957 non-null float64\n",
      "author_specialization    207821 non-null object\n",
      "author_karma             191595 non-null float64\n",
      "author_rating            203933 non-null float64\n",
      "author_followers         203933 non-null float64\n",
      "published_at             207781 non-null datetime64[ns]\n",
      "updated_at               206826 non-null datetime64[ns]\n",
      "scrapped_at              207821 non-null datetime64[ns]\n",
      "hubs                     207821 non-null object\n",
      "tags                     207821 non-null object\n",
      "keywords                 207821 non-null object\n",
      "dtypes: datetime64[ns](3), float64(8), int32(1), object(14)\n",
      "memory usage: 42.0+ MB\n"
     ]
    }
   ],
   "source": [
    "dfhp.info()"
   ]
  },
  {
   "cell_type": "markdown",
   "metadata": {},
   "source": [
    "## Authors DataFrame"
   ]
  },
  {
   "cell_type": "markdown",
   "metadata": {},
   "source": [
    "Creating a separate data frame for the authors to keep some statistics about them."
   ]
  },
  {
   "cell_type": "code",
   "execution_count": 32,
   "metadata": {},
   "outputs": [],
   "source": [
    "dfa = dfhp[['author_nickname', 'author_name', 'author_org', 'author_specialization']].drop_duplicates().sort_values('author_nickname')"
   ]
  },
  {
   "cell_type": "markdown",
   "metadata": {},
   "source": [
    "There are only minor set of authors which tend to change their other attributes (author_name, author_org, author_specialization), let''s drop them."
   ]
  },
  {
   "cell_type": "code",
   "execution_count": 34,
   "metadata": {},
   "outputs": [
    {
     "data": {
      "text/plain": [
       "(629, 4)"
      ]
     },
     "execution_count": 34,
     "metadata": {},
     "output_type": "execute_result"
    }
   ],
   "source": [
    "dfa.groupby('author_nickname').filter(lambda x: len(x) > 1).shape"
   ]
  },
  {
   "cell_type": "code",
   "execution_count": 176,
   "metadata": {},
   "outputs": [
    {
     "data": {
      "text/plain": [
       "(34320, 0)"
      ]
     },
     "execution_count": 176,
     "metadata": {},
     "output_type": "execute_result"
    }
   ],
   "source": [
    "dfa = dfhp[['author_nickname']].drop_duplicates().sort_values('author_nickname')\n",
    "\n",
    "# removing the empty name\n",
    "dfa = dfa[dfa['author_nickname'] != ''].set_index('author_nickname')\n",
    "\n",
    "dfa.shape"
   ]
  },
  {
   "cell_type": "markdown",
   "metadata": {},
   "source": [
    "# Adding Features"
   ]
  },
  {
   "cell_type": "code",
   "execution_count": 121,
   "metadata": {},
   "outputs": [],
   "source": [
    "# the domain of the original material\n",
    "dfhp['original_link_domain'] = dfhp['original_link'].str.extract('http[s]{0,1}:\\/\\/(.+?)\\/')"
   ]
  },
  {
   "cell_type": "code",
   "execution_count": 122,
   "metadata": {},
   "outputs": [],
   "source": [
    "# the indicator that the material was translated\n",
    "dfhp['is_translated'] = dfhp['type_label'] == 'Перевод'"
   ]
  },
  {
   "cell_type": "markdown",
   "metadata": {},
   "source": [
    "## Authors"
   ]
  },
  {
   "cell_type": "code",
   "execution_count": 177,
   "metadata": {},
   "outputs": [],
   "source": [
    "dft = dfhp.groupby('author_nickname')\\\n",
    "                .agg({'published_at': {min, max}, \n",
    "                      'title': {'count'},\n",
    "                      'is_translated': {sum},\n",
    "                      'views_thou': {sum},\n",
    "                      'comments_num': {sum},\n",
    "                      'author_karma': {max},\n",
    "                      'author_rating': {max},\n",
    "                      'author_followers': {max},\n",
    "                     })\n",
    "\n",
    "dft.columns = ['_'.join(col) for col in dft.columns]\n",
    "#dft.columns = dft.columns.droplevel(1)\n",
    "dft.rename(columns={'author_karma_max': 'author_karma', \n",
    "                    'author_rating_max': 'author_rating',\n",
    "                    'author_followers_max': 'author_followers'}, inplace=True)"
   ]
  },
  {
   "cell_type": "code",
   "execution_count": 178,
   "metadata": {},
   "outputs": [],
   "source": [
    "# first and last published dates per author\n",
    "dfa = dfa.join(dft, how='left')"
   ]
  },
  {
   "cell_type": "code",
   "execution_count": 179,
   "metadata": {},
   "outputs": [],
   "source": [
    "# rate of publishing for an author\n",
    "dfa['history_days']    = (dfa['published_at_max'] - dfa['published_at_min']).dt.days\n",
    "dfa['publishing_rate'] = dfa['history_days'] / dfa['title_count']\n",
    "dfa['publishing_rate'] = dfa['publishing_rate'].apply(lambda x: np.nan if x == 0 else x)"
   ]
  },
  {
   "cell_type": "code",
   "execution_count": 180,
   "metadata": {},
   "outputs": [],
   "source": [
    "# number of views of article"
   ]
  },
  {
   "cell_type": "code",
   "execution_count": 181,
   "metadata": {},
   "outputs": [
    {
     "data": {
      "text/plain": [
       "published_at_max     2018-12-26 20:18:24\n",
       "published_at_min     2006-06-06 17:41:00\n",
       "title_count                         8318\n",
       "is_translated_sum                    185\n",
       "views_thou_sum                    126961\n",
       "comments_num_sum                  518596\n",
       "author_karma                       826.5\n",
       "author_rating                     1201.7\n",
       "author_followers                    1298\n",
       "history_days                        4586\n",
       "publishing_rate                 0.551334\n",
       "Name: alizar, dtype: object"
      ]
     },
     "execution_count": 181,
     "metadata": {},
     "output_type": "execute_result"
    }
   ],
   "source": [
    "# stats for one of popular author|\n",
    "dfa.loc['alizar']"
   ]
  },
  {
   "cell_type": "markdown",
   "metadata": {},
   "source": [
    "## Reaction Ratio"
   ]
  },
  {
   "cell_type": "markdown",
   "metadata": {},
   "source": [
    "The number of bookmarks, comments, votes etc to the number of views of a post can be considered as an indicator of how well the post causes people to react to it."
   ]
  },
  {
   "cell_type": "code",
   "execution_count": null,
   "metadata": {},
   "outputs": [],
   "source": []
  },
  {
   "cell_type": "markdown",
   "metadata": {},
   "source": [
    "## Ambiguity"
   ]
  },
  {
   "cell_type": "markdown",
   "metadata": {},
   "source": [
    "Posts may receive high number of positive votes and as well as high number of negative votes"
   ]
  },
  {
   "cell_type": "code",
   "execution_count": null,
   "metadata": {},
   "outputs": [],
   "source": []
  },
  {
   "cell_type": "markdown",
   "metadata": {},
   "source": [
    "# EDA"
   ]
  },
  {
   "cell_type": "markdown",
   "metadata": {},
   "source": [
    "## Most Popular Authors"
   ]
  },
  {
   "cell_type": "markdown",
   "metadata": {},
   "source": [
    "By absolute number of posts"
   ]
  },
  {
   "cell_type": "code",
   "execution_count": 41,
   "metadata": {},
   "outputs": [
    {
     "data": {
      "text/html": [
       "<div>\n",
       "<style scoped>\n",
       "    .dataframe tbody tr th:only-of-type {\n",
       "        vertical-align: middle;\n",
       "    }\n",
       "\n",
       "    .dataframe tbody tr th {\n",
       "        vertical-align: top;\n",
       "    }\n",
       "\n",
       "    .dataframe thead th {\n",
       "        text-align: right;\n",
       "    }\n",
       "</style>\n",
       "<table border=\"1\" class=\"dataframe\">\n",
       "  <thead>\n",
       "    <tr style=\"text-align: right;\">\n",
       "      <th></th>\n",
       "      <th>author_nickname</th>\n",
       "      <th>published_at_max</th>\n",
       "      <th>published_at_min</th>\n",
       "      <th>posts_num</th>\n",
       "      <th>history_days</th>\n",
       "      <th>publishing_rate</th>\n",
       "    </tr>\n",
       "  </thead>\n",
       "  <tbody>\n",
       "    <tr>\n",
       "      <th>14977</th>\n",
       "      <td>alizar</td>\n",
       "      <td>2018-12-26 20:18:24</td>\n",
       "      <td>2006-06-06 17:41:00</td>\n",
       "      <td>8318</td>\n",
       "      <td>4586.0</td>\n",
       "      <td>0.551334</td>\n",
       "    </tr>\n",
       "    <tr>\n",
       "      <th>24797</th>\n",
       "      <td>marks</td>\n",
       "      <td>2018-12-26 14:44:21</td>\n",
       "      <td>2010-01-13 23:32:42</td>\n",
       "      <td>6611</td>\n",
       "      <td>3268.0</td>\n",
       "      <td>0.494328</td>\n",
       "    </tr>\n",
       "    <tr>\n",
       "      <th>10578</th>\n",
       "      <td>SLY_G</td>\n",
       "      <td>2018-12-26 15:00:02</td>\n",
       "      <td>2010-12-31 20:24:45</td>\n",
       "      <td>2963</td>\n",
       "      <td>2916.0</td>\n",
       "      <td>0.984138</td>\n",
       "    </tr>\n",
       "    <tr>\n",
       "      <th>22314</th>\n",
       "      <td>ivansychev</td>\n",
       "      <td>2018-09-21 09:49:00</td>\n",
       "      <td>2010-04-05 13:29:20</td>\n",
       "      <td>1485</td>\n",
       "      <td>3090.0</td>\n",
       "      <td>2.080808</td>\n",
       "    </tr>\n",
       "    <tr>\n",
       "      <th>28866</th>\n",
       "      <td>rssbot</td>\n",
       "      <td>2013-08-28 15:54:52</td>\n",
       "      <td>2008-09-19 10:18:38</td>\n",
       "      <td>1371</td>\n",
       "      <td>1804.0</td>\n",
       "      <td>1.315828</td>\n",
       "    </tr>\n",
       "    <tr>\n",
       "      <th>29444</th>\n",
       "      <td>semen_grinshtein</td>\n",
       "      <td>2017-06-16 17:12:22</td>\n",
       "      <td>2015-02-09 21:53:48</td>\n",
       "      <td>1291</td>\n",
       "      <td>857.0</td>\n",
       "      <td>0.663826</td>\n",
       "    </tr>\n",
       "    <tr>\n",
       "      <th>22514</th>\n",
       "      <td>jeston</td>\n",
       "      <td>2016-09-05 07:21:42</td>\n",
       "      <td>2011-01-02 18:59:39</td>\n",
       "      <td>1091</td>\n",
       "      <td>2072.0</td>\n",
       "      <td>1.899175</td>\n",
       "    </tr>\n",
       "    <tr>\n",
       "      <th>13525</th>\n",
       "      <td>XaocCPS</td>\n",
       "      <td>2016-06-14 19:43:57</td>\n",
       "      <td>2008-05-05 08:31:46</td>\n",
       "      <td>999</td>\n",
       "      <td>2962.0</td>\n",
       "      <td>2.964965</td>\n",
       "    </tr>\n",
       "    <tr>\n",
       "      <th>12539</th>\n",
       "      <td>Tylerskald</td>\n",
       "      <td>2011-04-01 14:49:18</td>\n",
       "      <td>2007-06-20 18:46:59</td>\n",
       "      <td>919</td>\n",
       "      <td>1380.0</td>\n",
       "      <td>1.501632</td>\n",
       "    </tr>\n",
       "    <tr>\n",
       "      <th>11127</th>\n",
       "      <td>Shapelez</td>\n",
       "      <td>2018-11-27 15:02:31</td>\n",
       "      <td>2008-03-29 21:26:11</td>\n",
       "      <td>817</td>\n",
       "      <td>3894.0</td>\n",
       "      <td>4.766218</td>\n",
       "    </tr>\n",
       "  </tbody>\n",
       "</table>\n",
       "</div>"
      ],
      "text/plain": [
       "        author_nickname    published_at_max    published_at_min  posts_num  \\\n",
       "14977            alizar 2018-12-26 20:18:24 2006-06-06 17:41:00       8318   \n",
       "24797             marks 2018-12-26 14:44:21 2010-01-13 23:32:42       6611   \n",
       "10578             SLY_G 2018-12-26 15:00:02 2010-12-31 20:24:45       2963   \n",
       "22314        ivansychev 2018-09-21 09:49:00 2010-04-05 13:29:20       1485   \n",
       "28866            rssbot 2013-08-28 15:54:52 2008-09-19 10:18:38       1371   \n",
       "29444  semen_grinshtein 2017-06-16 17:12:22 2015-02-09 21:53:48       1291   \n",
       "22514            jeston 2016-09-05 07:21:42 2011-01-02 18:59:39       1091   \n",
       "13525           XaocCPS 2016-06-14 19:43:57 2008-05-05 08:31:46        999   \n",
       "12539        Tylerskald 2011-04-01 14:49:18 2007-06-20 18:46:59        919   \n",
       "11127          Shapelez 2018-11-27 15:02:31 2008-03-29 21:26:11        817   \n",
       "\n",
       "       history_days  publishing_rate  \n",
       "14977        4586.0         0.551334  \n",
       "24797        3268.0         0.494328  \n",
       "10578        2916.0         0.984138  \n",
       "22314        3090.0         2.080808  \n",
       "28866        1804.0         1.315828  \n",
       "29444         857.0         0.663826  \n",
       "22514        2072.0         1.899175  \n",
       "13525        2962.0         2.964965  \n",
       "12539        1380.0         1.501632  \n",
       "11127        3894.0         4.766218  "
      ]
     },
     "execution_count": 41,
     "metadata": {},
     "output_type": "execute_result"
    }
   ],
   "source": [
    "dfa.sort_values('posts_num', ascending=False).head(10)"
   ]
  },
  {
   "cell_type": "markdown",
   "metadata": {},
   "source": [
    "By the publishing rate for those who have the history over 1 year"
   ]
  },
  {
   "cell_type": "code",
   "execution_count": 42,
   "metadata": {},
   "outputs": [
    {
     "data": {
      "text/html": [
       "<div>\n",
       "<style scoped>\n",
       "    .dataframe tbody tr th:only-of-type {\n",
       "        vertical-align: middle;\n",
       "    }\n",
       "\n",
       "    .dataframe tbody tr th {\n",
       "        vertical-align: top;\n",
       "    }\n",
       "\n",
       "    .dataframe thead th {\n",
       "        text-align: right;\n",
       "    }\n",
       "</style>\n",
       "<table border=\"1\" class=\"dataframe\">\n",
       "  <thead>\n",
       "    <tr style=\"text-align: right;\">\n",
       "      <th></th>\n",
       "      <th>author_nickname</th>\n",
       "      <th>published_at_max</th>\n",
       "      <th>published_at_min</th>\n",
       "      <th>posts_num</th>\n",
       "      <th>history_days</th>\n",
       "      <th>publishing_rate</th>\n",
       "    </tr>\n",
       "  </thead>\n",
       "  <tbody>\n",
       "    <tr>\n",
       "      <th>24797</th>\n",
       "      <td>marks</td>\n",
       "      <td>2018-12-26 14:44:21</td>\n",
       "      <td>2010-01-13 23:32:42</td>\n",
       "      <td>6611</td>\n",
       "      <td>3268.0</td>\n",
       "      <td>0.494328</td>\n",
       "    </tr>\n",
       "    <tr>\n",
       "      <th>14977</th>\n",
       "      <td>alizar</td>\n",
       "      <td>2018-12-26 20:18:24</td>\n",
       "      <td>2006-06-06 17:41:00</td>\n",
       "      <td>8318</td>\n",
       "      <td>4586.0</td>\n",
       "      <td>0.551334</td>\n",
       "    </tr>\n",
       "    <tr>\n",
       "      <th>29444</th>\n",
       "      <td>semen_grinshtein</td>\n",
       "      <td>2017-06-16 17:12:22</td>\n",
       "      <td>2015-02-09 21:53:48</td>\n",
       "      <td>1291</td>\n",
       "      <td>857.0</td>\n",
       "      <td>0.663826</td>\n",
       "    </tr>\n",
       "    <tr>\n",
       "      <th>22641</th>\n",
       "      <td>julia</td>\n",
       "      <td>2008-04-29 14:31:30</td>\n",
       "      <td>2006-07-03 14:04:00</td>\n",
       "      <td>755</td>\n",
       "      <td>666.0</td>\n",
       "      <td>0.882119</td>\n",
       "    </tr>\n",
       "    <tr>\n",
       "      <th>10578</th>\n",
       "      <td>SLY_G</td>\n",
       "      <td>2018-12-26 15:00:02</td>\n",
       "      <td>2010-12-31 20:24:45</td>\n",
       "      <td>2963</td>\n",
       "      <td>2916.0</td>\n",
       "      <td>0.984138</td>\n",
       "    </tr>\n",
       "    <tr>\n",
       "      <th>8293</th>\n",
       "      <td>Mordatyj</td>\n",
       "      <td>2010-08-12 17:44:34</td>\n",
       "      <td>2008-09-12 17:52:16</td>\n",
       "      <td>631</td>\n",
       "      <td>698.0</td>\n",
       "      <td>1.106181</td>\n",
       "    </tr>\n",
       "    <tr>\n",
       "      <th>28866</th>\n",
       "      <td>rssbot</td>\n",
       "      <td>2013-08-28 15:54:52</td>\n",
       "      <td>2008-09-19 10:18:38</td>\n",
       "      <td>1371</td>\n",
       "      <td>1804.0</td>\n",
       "      <td>1.315828</td>\n",
       "    </tr>\n",
       "    <tr>\n",
       "      <th>12539</th>\n",
       "      <td>Tylerskald</td>\n",
       "      <td>2011-04-01 14:49:18</td>\n",
       "      <td>2007-06-20 18:46:59</td>\n",
       "      <td>919</td>\n",
       "      <td>1380.0</td>\n",
       "      <td>1.501632</td>\n",
       "    </tr>\n",
       "    <tr>\n",
       "      <th>22514</th>\n",
       "      <td>jeston</td>\n",
       "      <td>2016-09-05 07:21:42</td>\n",
       "      <td>2011-01-02 18:59:39</td>\n",
       "      <td>1091</td>\n",
       "      <td>2072.0</td>\n",
       "      <td>1.899175</td>\n",
       "    </tr>\n",
       "    <tr>\n",
       "      <th>24488</th>\n",
       "      <td>m1rko</td>\n",
       "      <td>2018-12-26 22:52:03</td>\n",
       "      <td>2016-12-14 20:12:43</td>\n",
       "      <td>364</td>\n",
       "      <td>742.0</td>\n",
       "      <td>2.038462</td>\n",
       "    </tr>\n",
       "  </tbody>\n",
       "</table>\n",
       "</div>"
      ],
      "text/plain": [
       "        author_nickname    published_at_max    published_at_min  posts_num  \\\n",
       "24797             marks 2018-12-26 14:44:21 2010-01-13 23:32:42       6611   \n",
       "14977            alizar 2018-12-26 20:18:24 2006-06-06 17:41:00       8318   \n",
       "29444  semen_grinshtein 2017-06-16 17:12:22 2015-02-09 21:53:48       1291   \n",
       "22641             julia 2008-04-29 14:31:30 2006-07-03 14:04:00        755   \n",
       "10578             SLY_G 2018-12-26 15:00:02 2010-12-31 20:24:45       2963   \n",
       "8293           Mordatyj 2010-08-12 17:44:34 2008-09-12 17:52:16        631   \n",
       "28866            rssbot 2013-08-28 15:54:52 2008-09-19 10:18:38       1371   \n",
       "12539        Tylerskald 2011-04-01 14:49:18 2007-06-20 18:46:59        919   \n",
       "22514            jeston 2016-09-05 07:21:42 2011-01-02 18:59:39       1091   \n",
       "24488             m1rko 2018-12-26 22:52:03 2016-12-14 20:12:43        364   \n",
       "\n",
       "       history_days  publishing_rate  \n",
       "24797        3268.0         0.494328  \n",
       "14977        4586.0         0.551334  \n",
       "29444         857.0         0.663826  \n",
       "22641         666.0         0.882119  \n",
       "10578        2916.0         0.984138  \n",
       "8293          698.0         1.106181  \n",
       "28866        1804.0         1.315828  \n",
       "12539        1380.0         1.501632  \n",
       "22514        2072.0         1.899175  \n",
       "24488         742.0         2.038462  "
      ]
     },
     "execution_count": 42,
     "metadata": {},
     "output_type": "execute_result"
    }
   ],
   "source": [
    "dfa[dfa['history_days'] >= 365].sort_values('publishing_rate', ascending=True).head(10)"
   ]
  },
  {
   "cell_type": "markdown",
   "metadata": {},
   "source": [
    "## Publishing Rate\n",
    "\n",
    "Publishing rate = the average number of days between posts"
   ]
  },
  {
   "cell_type": "code",
   "execution_count": null,
   "metadata": {},
   "outputs": [],
   "source": [
    "x = dft[(dft['reg_channel'] == 'KM') & (dft['reg_visit_diff_min'] <= 720)]['reg_visit_diff_min']\n",
    "sns.kdeplot(x, shade=True, color=\"b\", label = 'KM', ax = axs[0])\n",
    "axs[0].set_xlim(0, 12 * 60)\n",
    "axs[0].set_xticks([day_no * 60 for day_no in range(13)])\n",
    "plt.setp(axs[0].xaxis.get_majorticklabels(), rotation=70)\n",
    "axs[0].set_xlabel('The ''onboardng'' time, minutes')\n",
    "axs[0].set_ylabel('$p(x)$')\n"
   ]
  },
  {
   "cell_type": "code",
   "execution_count": 260,
   "metadata": {},
   "outputs": [
    {
     "data": {
      "image/png": "[encoded data removed]",
      "text/plain": [
       "<Figure size 1008x360 with 2 Axes>"
      ]
     },
     "metadata": {
      "needs_background": "light"
     },
     "output_type": "display_data"
    }
   ],
   "source": [
    "import matplotlib.gridspec as gridspec\n",
    "\n",
    "fig, axs = plt.subplots(figsize = (14, 5), ncols=2)\n",
    "\n",
    "gs = gridspec.GridSpec(1, 2, width_ratios=[1, 1]) \n",
    "axs[0] = plt.subplot(gs[0])\n",
    "axs[1] = plt.subplot(gs[1])\n",
    "\n",
    "# Data\n",
    "x = dfa[dfa['publishing_rate'] > 0]['publishing_rate']\n",
    "\n",
    "# Boxplot\n",
    "sns.boxplot(ax=axs[0], x=x, width=0.2)\n",
    "axs[0].set_title('Box plot')\n",
    "axs[0].set_xlabel(None)\n",
    "\n",
    "#axs[0].set_xscale(\"log\")\n",
    "axs[0].set_xlim(0, 1200)\n",
    "\n",
    "for tick, label in zip(range(1), axs[0].get_yticklabels()):\n",
    "    axs[0].text(20, tick - 0.15, '$median=%.1f$' % x.median(), \n",
    "            horizontalalignment='left', size='medium', color='b')\n",
    "\n",
    "# KDE\n",
    "sns.kdeplot(ax=axs[1], data=x, shade=True, color=\"r\", label='Publishing Rate')\n",
    "axs[1].set_title('KDE')\n",
    "\n",
    "# Common\n",
    "fig.suptitle('Publishing Rate, average number of days between publications per author')\n",
    "fig.subplots_adjust(wspace=0.3)\n",
    "   \n",
    "# saving the graph\n",
    "file_base_name = 'distr_publishing_rate_kde'\n",
    "plt.savefig('graphs/' + file_base_name + '.pdf', bbox_inches='tight') "
   ]
  },
  {
   "cell_type": "markdown",
   "metadata": {},
   "source": [
    "## Rate of Translated Materials"
   ]
  },
  {
   "cell_type": "code",
   "execution_count": 81,
   "metadata": {},
   "outputs": [],
   "source": [
    "dfhp_by_year_groupper = dfhp.groupby(dfhp['published_at'].dt.year)['is_translated']\n",
    "dfhp_by_year = dfhp_by_year_groupper.apply(lambda x: round(100*(x == True).sum()/len(x), 1))"
   ]
  },
  {
   "cell_type": "code",
   "execution_count": 82,
   "metadata": {},
   "outputs": [],
   "source": [
    "dfhp_by_year = dfhp_by_year.to_frame().rename(columns={'is_translated': 'translated_publ_rate_pct'})\\\n",
    "    .join(dfhp_by_year_groupper.size().to_frame().rename(columns={'is_translated': 'all_posts'}))\\\n",
    "    .join(dfhp_by_year_groupper.apply(lambda x: (x == True).sum()).to_frame().rename(columns={'is_translated': 'translated_posts'}))\n",
    "\n",
    "dfhp_by_year.index.name = 'year'\n",
    "dfhp_by_year.index = dfhp_by_year.index.astype('int')"
   ]
  },
  {
   "cell_type": "code",
   "execution_count": 83,
   "metadata": {},
   "outputs": [
    {
     "data": {
      "text/html": [
       "<div>\n",
       "<style scoped>\n",
       "    .dataframe tbody tr th:only-of-type {\n",
       "        vertical-align: middle;\n",
       "    }\n",
       "\n",
       "    .dataframe tbody tr th {\n",
       "        vertical-align: top;\n",
       "    }\n",
       "\n",
       "    .dataframe thead th {\n",
       "        text-align: right;\n",
       "    }\n",
       "</style>\n",
       "<table border=\"1\" class=\"dataframe\">\n",
       "  <thead>\n",
       "    <tr style=\"text-align: right;\">\n",
       "      <th></th>\n",
       "      <th>all_posts</th>\n",
       "      <th>translated_posts</th>\n",
       "      <th>translated_publ_rate_pct</th>\n",
       "    </tr>\n",
       "    <tr>\n",
       "      <th>year</th>\n",
       "      <th></th>\n",
       "      <th></th>\n",
       "      <th></th>\n",
       "    </tr>\n",
       "  </thead>\n",
       "  <tbody>\n",
       "    <tr>\n",
       "      <th>2006</th>\n",
       "      <td>3020</td>\n",
       "      <td>30</td>\n",
       "      <td>1.0</td>\n",
       "    </tr>\n",
       "    <tr>\n",
       "      <th>2007</th>\n",
       "      <td>12806</td>\n",
       "      <td>418</td>\n",
       "      <td>3.3</td>\n",
       "    </tr>\n",
       "    <tr>\n",
       "      <th>2008</th>\n",
       "      <td>16092</td>\n",
       "      <td>558</td>\n",
       "      <td>3.5</td>\n",
       "    </tr>\n",
       "    <tr>\n",
       "      <th>2009</th>\n",
       "      <td>18024</td>\n",
       "      <td>722</td>\n",
       "      <td>4.0</td>\n",
       "    </tr>\n",
       "    <tr>\n",
       "      <th>2010</th>\n",
       "      <td>17815</td>\n",
       "      <td>912</td>\n",
       "      <td>5.1</td>\n",
       "    </tr>\n",
       "    <tr>\n",
       "      <th>2011</th>\n",
       "      <td>16689</td>\n",
       "      <td>986</td>\n",
       "      <td>5.9</td>\n",
       "    </tr>\n",
       "    <tr>\n",
       "      <th>2012</th>\n",
       "      <td>16687</td>\n",
       "      <td>874</td>\n",
       "      <td>5.2</td>\n",
       "    </tr>\n",
       "    <tr>\n",
       "      <th>2013</th>\n",
       "      <td>15857</td>\n",
       "      <td>1002</td>\n",
       "      <td>6.3</td>\n",
       "    </tr>\n",
       "    <tr>\n",
       "      <th>2014</th>\n",
       "      <td>16184</td>\n",
       "      <td>1246</td>\n",
       "      <td>7.7</td>\n",
       "    </tr>\n",
       "    <tr>\n",
       "      <th>2015</th>\n",
       "      <td>23359</td>\n",
       "      <td>2055</td>\n",
       "      <td>8.8</td>\n",
       "    </tr>\n",
       "    <tr>\n",
       "      <th>2016</th>\n",
       "      <td>19198</td>\n",
       "      <td>1901</td>\n",
       "      <td>9.9</td>\n",
       "    </tr>\n",
       "    <tr>\n",
       "      <th>2017</th>\n",
       "      <td>16318</td>\n",
       "      <td>2246</td>\n",
       "      <td>13.8</td>\n",
       "    </tr>\n",
       "    <tr>\n",
       "      <th>2018</th>\n",
       "      <td>15732</td>\n",
       "      <td>2750</td>\n",
       "      <td>17.5</td>\n",
       "    </tr>\n",
       "  </tbody>\n",
       "</table>\n",
       "</div>"
      ],
      "text/plain": [
       "      all_posts  translated_posts  translated_publ_rate_pct\n",
       "year                                                       \n",
       "2006       3020                30                       1.0\n",
       "2007      12806               418                       3.3\n",
       "2008      16092               558                       3.5\n",
       "2009      18024               722                       4.0\n",
       "2010      17815               912                       5.1\n",
       "2011      16689               986                       5.9\n",
       "2012      16687               874                       5.2\n",
       "2013      15857              1002                       6.3\n",
       "2014      16184              1246                       7.7\n",
       "2015      23359              2055                       8.8\n",
       "2016      19198              1901                       9.9\n",
       "2017      16318              2246                      13.8\n",
       "2018      15732              2750                      17.5"
      ]
     },
     "execution_count": 83,
     "metadata": {},
     "output_type": "execute_result"
    }
   ],
   "source": [
    "dfhp_by_year[['all_posts', 'translated_posts', 'translated_publ_rate_pct']]"
   ]
  },
  {
   "cell_type": "code",
   "execution_count": 263,
   "metadata": {},
   "outputs": [
    {
     "data": {
      "image/png": "[encoded data removed]",
      "text/plain": [
       "<Figure size 720x432 with 1 Axes>"
      ]
     },
     "metadata": {},
     "output_type": "display_data"
    }
   ],
   "source": [
    "sns.set(style=\"whitegrid\")\n",
    "\n",
    "fig, ax = plt.subplots(figsize = (10, 6))\n",
    "\n",
    "# total number of posts\n",
    "sns.set_color_codes(\"pastel\")\n",
    "sns.barplot(x='year', y='all_posts', data=dfhp_by_year.reset_index(), label=\"Total\", color=\"b\")\n",
    "\n",
    "# number of translated posts\n",
    "sns.set_color_codes(\"muted\")\n",
    "sns.barplot(x='year', y='translated_posts', data=dfhp_by_year.reset_index(), label=\"Translated\"\n",
    "            , color=\"b\")\n",
    "\n",
    "ax.set_ylabel('number of posts')\n",
    "\n",
    "# annotating the bars\n",
    "#for i, r in dfhp_by_year.iterrows():\n",
    "#    ax.text(r.name, r['all_posts'], '%2.1f' % r['translated_publ_rate_pct']) #, color='black', ha=\"center\")\n",
    "\n",
    "ax.legend(ncol=1, loc=\"upper left\", frameon=True)\n",
    "sns.despine(top=True, right=True)\n",
    "ax.set_title('Number of posts (total, translated) over years')\n",
    "\n",
    "# saving the graph\n",
    "file_base_name = 'translated_publ_rate'\n",
    "plt.savefig('graphs/' + file_base_name + '.pdf', bbox_inches='tight')"
   ]
  },
  {
   "cell_type": "code",
   "execution_count": 265,
   "metadata": {},
   "outputs": [],
   "source": [
    "plt.style.use('seaborn')"
   ]
  },
  {
   "cell_type": "markdown",
   "metadata": {},
   "source": [
    "## Ambiguity"
   ]
  },
  {
   "cell_type": "code",
   "execution_count": 23,
   "metadata": {},
   "outputs": [],
   "source": [
    "# scatterplot"
   ]
  },
  {
   "cell_type": "markdown",
   "metadata": {},
   "source": [
    "# Model - Authors"
   ]
  },
  {
   "cell_type": "markdown",
   "metadata": {},
   "source": [
    "Let's try to find out how different the authors are by clustering and finding principal components for them."
   ]
  },
  {
   "cell_type": "code",
   "execution_count": 274,
   "metadata": {},
   "outputs": [],
   "source": [
    "# the authors' data's subset to use for the model\n",
    "dfa_m = dfa[['title_count', 'is_translated_sum', 'views_thou_sum', 'comments_num_sum', \n",
    "     'author_karma', 'author_rating', 'author_followers', 'history_days', 'publishing_rate']].fillna(0)"
   ]
  },
  {
   "cell_type": "markdown",
   "metadata": {},
   "source": [
    "## Clusters of Authors"
   ]
  },
  {
   "cell_type": "markdown",
   "metadata": {},
   "source": [
    "Let's try to find how many clusters of authors there could be. Using the K-means algorythm."
   ]
  },
  {
   "cell_type": "code",
   "execution_count": 283,
   "metadata": {},
   "outputs": [],
   "source": [
    "from sklearn.cluster import KMeans\n",
    "\n",
    "# inertia for various number of clusters\n",
    "inertia = {}\n",
    "kmeans_iter = 3\n",
    "\n",
    "for k in range(1, 12):\n",
    "    \n",
    "    # running several iterations for each k to get an average inertia\n",
    "    \n",
    "    inertia_sum = 0\n",
    "    \n",
    "    for i in range(kmeans_iter):\n",
    "        \n",
    "        m = KMeans(n_clusters=k, n_jobs=4).fit(dfa_m)\n",
    "        inertia_sum += m.inertia_\n",
    "        \n",
    "    inertia[k] = inertia_sum/kmeans_iter\n",
    "    \n",
    "    # saving the model for the selected k\n",
    "    if k == 6:\n",
    "        with open('models/authors_kmeans_%d.pkl' % k, 'wb') as f:\n",
    "            pickle.dump(m, f)"
   ]
  },
  {
   "cell_type": "code",
   "execution_count": 284,
   "metadata": {},
   "outputs": [
    {
     "data": {
      "text/html": [
       "<div>\n",
       "<style scoped>\n",
       "    .dataframe tbody tr th:only-of-type {\n",
       "        vertical-align: middle;\n",
       "    }\n",
       "\n",
       "    .dataframe tbody tr th {\n",
       "        vertical-align: top;\n",
       "    }\n",
       "\n",
       "    .dataframe thead th {\n",
       "        text-align: right;\n",
       "    }\n",
       "</style>\n",
       "<table border=\"1\" class=\"dataframe\">\n",
       "  <thead>\n",
       "    <tr style=\"text-align: right;\">\n",
       "      <th></th>\n",
       "      <th>inertia</th>\n",
       "      <th>inertia_sqrt</th>\n",
       "      <th>inertia_log</th>\n",
       "    </tr>\n",
       "    <tr>\n",
       "      <th>k</th>\n",
       "      <th></th>\n",
       "      <th></th>\n",
       "      <th></th>\n",
       "    </tr>\n",
       "  </thead>\n",
       "  <tbody>\n",
       "    <tr>\n",
       "      <th>1</th>\n",
       "      <td>4.514663e+11</td>\n",
       "      <td>671912.447590</td>\n",
       "      <td>26.835767</td>\n",
       "    </tr>\n",
       "    <tr>\n",
       "      <th>2</th>\n",
       "      <td>1.024098e+11</td>\n",
       "      <td>320015.277176</td>\n",
       "      <td>25.352248</td>\n",
       "    </tr>\n",
       "    <tr>\n",
       "      <th>3</th>\n",
       "      <td>7.158182e+10</td>\n",
       "      <td>267547.795902</td>\n",
       "      <td>24.994107</td>\n",
       "    </tr>\n",
       "    <tr>\n",
       "      <th>4</th>\n",
       "      <td>4.447880e+10</td>\n",
       "      <td>210899.981070</td>\n",
       "      <td>24.518279</td>\n",
       "    </tr>\n",
       "    <tr>\n",
       "      <th>5</th>\n",
       "      <td>3.082426e+10</td>\n",
       "      <td>175568.401362</td>\n",
       "      <td>24.151568</td>\n",
       "    </tr>\n",
       "    <tr>\n",
       "      <th>6</th>\n",
       "      <td>1.905442e+10</td>\n",
       "      <td>138037.761417</td>\n",
       "      <td>23.670565</td>\n",
       "    </tr>\n",
       "    <tr>\n",
       "      <th>7</th>\n",
       "      <td>1.293230e+10</td>\n",
       "      <td>113720.280491</td>\n",
       "      <td>23.282994</td>\n",
       "    </tr>\n",
       "    <tr>\n",
       "      <th>8</th>\n",
       "      <td>1.041634e+10</td>\n",
       "      <td>102060.485855</td>\n",
       "      <td>23.066642</td>\n",
       "    </tr>\n",
       "    <tr>\n",
       "      <th>9</th>\n",
       "      <td>8.393689e+09</td>\n",
       "      <td>91617.079010</td>\n",
       "      <td>22.850746</td>\n",
       "    </tr>\n",
       "    <tr>\n",
       "      <th>10</th>\n",
       "      <td>7.440876e+09</td>\n",
       "      <td>86260.511930</td>\n",
       "      <td>22.730254</td>\n",
       "    </tr>\n",
       "    <tr>\n",
       "      <th>11</th>\n",
       "      <td>6.588080e+09</td>\n",
       "      <td>81166.986937</td>\n",
       "      <td>22.608528</td>\n",
       "    </tr>\n",
       "  </tbody>\n",
       "</table>\n",
       "</div>"
      ],
      "text/plain": [
       "         inertia   inertia_sqrt  inertia_log\n",
       "k                                           \n",
       "1   4.514663e+11  671912.447590    26.835767\n",
       "2   1.024098e+11  320015.277176    25.352248\n",
       "3   7.158182e+10  267547.795902    24.994107\n",
       "4   4.447880e+10  210899.981070    24.518279\n",
       "5   3.082426e+10  175568.401362    24.151568\n",
       "6   1.905442e+10  138037.761417    23.670565\n",
       "7   1.293230e+10  113720.280491    23.282994\n",
       "8   1.041634e+10  102060.485855    23.066642\n",
       "9   8.393689e+09   91617.079010    22.850746\n",
       "10  7.440876e+09   86260.511930    22.730254\n",
       "11  6.588080e+09   81166.986937    22.608528"
      ]
     },
     "execution_count": 284,
     "metadata": {},
     "output_type": "execute_result"
    }
   ],
   "source": [
    "df_inertia = pd.DataFrame.from_dict(inertia, orient='index')\n",
    "df_inertia.rename(columns={'index':'k', 0: 'inertia'}, inplace=True)\n",
    "df_inertia.index.name = 'k'\n",
    "df_inertia['inertia_sqrt'] = np.sqrt(df_inertia['inertia'])\n",
    "df_inertia['inertia_log']  = np.log(df_inertia['inertia'])\n",
    "df_inertia"
   ]
  },
  {
   "cell_type": "code",
   "execution_count": 285,
   "metadata": {},
   "outputs": [
    {
     "data": {
      "image/png": "[encoded data removed]",
      "text/plain": [
       "<Figure size 720x432 with 1 Axes>"
      ]
     },
     "metadata": {},
     "output_type": "display_data"
    }
   ],
   "source": [
    "fig, ax = plt.subplots(figsize = (10, 6), ncols=1)\n",
    "\n",
    "inertia_field = 'inertia_sqrt'\n",
    "\n",
    "plt.plot(df_inertia.index, df_inertia[inertia_field], marker='^', markersize=10, markerfacecolor='r')\n",
    "ax.set_title('K-Means Inertia, $\\sqrt{J(C_k)}$')\n",
    "ax.set_xlabel('number of clusters')\n",
    "ax.set_ylabel('inertia')\n",
    "\n",
    "#ax.legend(['Inertia')\n",
    "for k in [2, 4, 6]:\n",
    "    \n",
    "    inertia_k = df_inertia.loc[k,inertia_field] \n",
    "    #ax.plot([k, k], [0.9*inertia_k, 1.1*inertia_k], 'k-', color='red', lw=2)\n",
    "    \n",
    "    ax.text(k, inertia_k*1.3,\n",
    "            'k=%d, inertia=%.2f' % (k, inertia_k), \n",
    "            bbox=dict(facecolor='wheat', alpha=0.8, zorder = 10))\n",
    "\n",
    "file_base_name = 'clust_kmeans_inertia'\n",
    "plt.savefig('graphs/' + file_base_name + '.svg', bbox_inches='tight')"
   ]
  },
  {
   "cell_type": "markdown",
   "metadata": {},
   "source": [
    "The optimal number of clusters (based on the inertia decreasing slope) seems to be 4-6. Let''s select k=6."
   ]
  },
  {
   "cell_type": "markdown",
   "metadata": {},
   "source": [
    "## PCA"
   ]
  },
  {
   "cell_type": "code",
   "execution_count": 305,
   "metadata": {},
   "outputs": [
    {
     "name": "stdout",
     "output_type": "stream",
     "text": [
      "Percentage of variance explained by each of the components: [9.56554659e-01 3.52029985e-02 7.13005807e-03 8.89163006e-04\n",
      " 1.22011171e-04 4.54311093e-05 3.38542465e-05 1.73700714e-05\n",
      " 4.45443929e-06]\n",
      "Estimated number of components: 9\n"
     ]
    }
   ],
   "source": [
    "from sklearn import decomposition\n",
    "\n",
    "pca = decomposition.PCA()\n",
    "pca.fit(dfa_m)\n",
    "\n",
    "print('Percentage of variance explained by each of the components: %s' % pca.explained_variance_ratio_)\n",
    "print('Estimated number of components: %d' % pca.n_components_)"
   ]
  },
  {
   "cell_type": "markdown",
   "metadata": {},
   "source": [
    "It looks like there is no much variance? It's probably enough to get away with just one or two components."
   ]
  },
  {
   "cell_type": "code",
   "execution_count": 329,
   "metadata": {},
   "outputs": [
    {
     "data": {
      "image/png": "[encoded data removed]",
      "text/plain": [
       "<Figure size 720x432 with 1 Axes>"
      ]
     },
     "metadata": {},
     "output_type": "display_data"
    }
   ],
   "source": [
    "fig, ax = plt.subplots(figsize = (10, 6), ncols=1)\n",
    "\n",
    "plt.plot(range(1,len(pca.explained_variance_ratio_)+1), np.cumsum(pca.explained_variance_ratio_), color='g', lw=4, zorder=1)\n",
    "ax.set_ylim(0.8, 1.01)\n",
    "ax.set_yticks(np.arange(0.85, 1.00, 0.05))\n",
    "ax.set_xlabel('Number of components')\n",
    "ax.set_ylabel('Total explained variance')\n",
    "ax.hlines(0.9, 1, len(pca.explained_variance_ratio_), color='r')\n",
    "ax.vlines(2,   0, 1, color='r')\n",
    "\n",
    "#ax.set_title('PCA')\n",
    "\n",
    "file_base_name = 'pca'\n",
    "plt.savefig('graphs/' + file_base_name + '.svg', bbox_inches='tight')"
   ]
  },
  {
   "cell_type": "markdown",
   "metadata": {},
   "source": [
    "Drawing the scatterplot for the selected number of components and the selected number of clusters"
   ]
  },
  {
   "cell_type": "code",
   "execution_count": 332,
   "metadata": {},
   "outputs": [],
   "source": [
    "# Let's take the two first components\n",
    "pca.n_components = 2\n",
    "dfa_m_reduced  = pca.fit_transform(dfa_m)\n",
    "\n",
    "# loading the saved k-means model and finding coordinates of the centroids\n",
    "with open('models/authors_kmeans_6.pkl', 'rb') as f:\n",
    "    mk = pickle.load(f)\n",
    "author_centers = pca.transform(mk.cluster_centers_)"
   ]
  },
  {
   "cell_type": "code",
   "execution_count": 346,
   "metadata": {},
   "outputs": [
    {
     "data": {
      "image/png": "[encoded data removed]",
      "text/plain": [
       "<Figure size 1008x468 with 2 Axes>"
      ]
     },
     "metadata": {},
     "output_type": "display_data"
    }
   ],
   "source": [
    "from matplotlib.lines import Line2D\n",
    "from matplotlib.cm import rainbow\n",
    "        \n",
    "def plot_pca2(ax, zoomed_in=False):\n",
    "    \n",
    "    # Make a scatter plot\n",
    "    x = np.hsplit(dfa_m_reduced, 2)[0]\n",
    "    y = np.hsplit(dfa_m_reduced, 2)[1]\n",
    "\n",
    "    colormap = rainbow(np.linspace(0, 1, mk.n_clusters))\n",
    "\n",
    "    plt.scatter(x=x, y=y, c=colormap[mk.labels_], alpha=0.5)\n",
    "\n",
    "    #PCA colored according to the k-Means cluster labels\n",
    "\n",
    "    # centers\n",
    "    plt.scatter(x = np.hsplit(author_centers, 2)[0], y = np.hsplit(author_centers, 2)[1], c = 'black', marker='x')\n",
    "\n",
    "    #ax1.set_xlim(-5, 15)\n",
    "    #ax1.set_ylim(-5, 15)\n",
    "    #ax1.set_title('Full Scale')\n",
    "\n",
    "    legend_elements = []\n",
    "    for i in range(mk.n_clusters):\n",
    "        legend_elements.append(Line2D([0], [0], marker='o', label = 'C%d' % (i+1), c = 'w', markerfacecolor = colormap[i], markersize = 10))\n",
    "\n",
    "    legend_elements.append(Line2D([0], [0], marker='X', label = 'center', c = 'w', markerfacecolor = 'k', markersize = 10))\n",
    "\n",
    "    ax.legend(handles = legend_elements, loc = 'upper left')\n",
    "    \n",
    "    if zoomed_in:\n",
    "        ax.set_xlim(-10000, 50000)        \n",
    "        ax.set_ylim(-5000,  2000)\n",
    "        ax.set_title('Zoomed-in')\n",
    "    else:\n",
    "        ax.set_title('All clusters')\n",
    "\n",
    "fig, axs = plt.subplots(figsize = (14, 6.5), ncols=2)\n",
    "fig.subplots_adjust(wspace=0.3)\n",
    "\n",
    "plt.sca(axs[0])\n",
    "plot_pca2(axs[0])    \n",
    "plt.sca(axs[1])\n",
    "plot_pca2(axs[1], zoomed_in=True)    \n",
    "    \n",
    "# saving the graph\n",
    "file_base_name = 'pca_2pc_kmeans_6'\n",
    "plt.savefig('graphs/' + file_base_name + '.pdf', bbox_inches='tight')"
   ]
  },
  {
   "cell_type": "markdown",
   "metadata": {},
   "source": [
    "## Model Fitting"
   ]
  },
  {
   "cell_type": "markdown",
   "metadata": {},
   "source": [
    "Considerations of the model fitting were conducted on the basis of the inertia for K-means and the explained variance for PCA."
   ]
  },
  {
   "cell_type": "markdown",
   "metadata": {},
   "source": [
    "# Visualization"
   ]
  },
  {
   "cell_type": "markdown",
   "metadata": {},
   "source": [
    "It's really good data scientist's character - to be able to provide fine visualization. So that you need to visualize different steps of your research: interesting moments from data distributon, quality metrics, feature importances etc. Please, try to make nice figures - for the sake of that you can look through tutorials on Matplotlib, Seaborn, Plotly etc.\n",
    "\n",
    "<b>Total:</b> <i>3 points</i>"
   ]
  },
  {
   "cell_type": "markdown",
   "metadata": {},
   "source": [
    "Some visualization was done before."
   ]
  },
  {
   "cell_type": "markdown",
   "metadata": {},
   "source": [
    "# Ideas"
   ]
  },
  {
   "cell_type": "markdown",
   "metadata": {},
   "source": [
    "- Conduct analyzed based on hubs, tags and keywords.\n",
    "- Predict number of comments, number of positive, regress it based on the time component.\n",
    "- Predict the ambiguity of a post by its content."
   ]
  },
  {
   "cell_type": "code",
   "execution_count": null,
   "metadata": {},
   "outputs": [],
   "source": []
  }
 ],
 "metadata": {
  "kernelspec": {
   "display_name": "Python 3",
   "language": "python",
   "name": "python3"
  },
  "language_info": {
   "codemirror_mode": {
    "name": "ipython",
    "version": 3
   },
   "file_extension": ".py",
   "mimetype": "text/x-python",
   "name": "python",
   "nbconvert_exporter": "python",
   "pygments_lexer": "ipython3",
   "version": "3.7.0"
  },
  "toc": {
   "base_numbering": 1,
   "nav_menu": {},
   "number_sections": true,
   "sideBar": true,
   "skip_h1_title": false,
   "title_cell": "Table of Contents",
   "title_sidebar": "Contents",
   "toc_cell": false,
   "toc_position": {},
   "toc_section_display": true,
   "toc_window_display": true
  },
  "varInspector": {
   "cols": {
    "lenName": 16,
    "lenType": 16,
    "lenVar": 40
   },
   "kernels_config": {
    "python": {
     "delete_cmd_postfix": "",
     "delete_cmd_prefix": "del ",
     "library": "var_list.py",
     "varRefreshCmd": "print(var_dic_list())"
    },
    "r": {
     "delete_cmd_postfix": ") ",
     "delete_cmd_prefix": "rm(",
     "library": "var_list.r",
     "varRefreshCmd": "cat(var_dic_list()) "
    }
   },
   "types_to_exclude": [
    "module",
    "function",
    "builtin_function_or_method",
    "instance",
    "_Feature"
   ],
   "window_display": false
  }
 },
 "nbformat": 4,
 "nbformat_minor": 2
}
